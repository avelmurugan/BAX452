{
 "cells": [
  {
   "cell_type": "code",
   "execution_count": 8,
   "id": "f763d8f7",
   "metadata": {},
   "outputs": [],
   "source": [
    "import gensim\n",
    "import gensim\n",
    "import pandas as pd\n",
    "import numpy as np\n",
    "import gzip\n",
    "import logging\n",
    "import seaborn as sns\n",
    "logging.basicConfig(format='%(asctime)s : %(levelname)s : %(message)s', level=logging.INFO)"
   ]
  },
  {
   "cell_type": "markdown",
   "id": "8d8bc5b1",
   "metadata": {},
   "source": [
    "# Tutorial"
   ]
  },
  {
   "cell_type": "code",
   "execution_count": 2,
   "id": "1d48ad48",
   "metadata": {},
   "outputs": [
    {
     "name": "stdout",
     "output_type": "stream",
     "text": [
      "b\"Oct 12 2009 \\tNice trendy hotel location not too bad.\\tI stayed in this hotel for one night. As this is a fairly new place some of the taxi drivers did not know where it was and/or did not want to drive there. Once I have eventually arrived at the hotel, I was very pleasantly surprised with the decor of the lobby/ground floor area. It was very stylish and modern. I found the reception's staff geeting me with 'Aloha' a bit out of place, but I guess they are briefed to say that to keep up the coroporate image.As I have a Starwood Preferred Guest member, I was given a small gift upon-check in. It was only a couple of fridge magnets in a gift box, but nevertheless a nice gesture.My room was nice and roomy, there are tea and coffee facilities in each room and you get two complimentary bottles of water plus some toiletries by 'bliss'.The location is not great. It is at the last metro stop and you then need to take a taxi, but if you are not planning on going to see the historic sites in Beijing, then you will be ok.I chose to have some breakfast in the hotel, which was really tasty and there was a good selection of dishes. There are a couple of computers to use in the communal area, as well as a pool table. There is also a small swimming pool and a gym area.I would definitely stay in this hotel again, but only if I did not plan to travel to central Beijing, as it can take a long time. The location is ok if you plan to do a lot of shopping, as there is a big shopping centre just few minutes away from the hotel and there are plenty of eating options around, including restaurants that serve a dog meat!\\t\\r\\n\"\n"
     ]
    }
   ],
   "source": [
    "data_file=\"reviews_data.txt.gz\"\n",
    "\n",
    "with gzip.open (data_file, 'rb') as f:\n",
    "    for i,line in enumerate (f):\n",
    "        print(line)\n",
    "        break"
   ]
  },
  {
   "cell_type": "code",
   "execution_count": 4,
   "id": "57881ff6",
   "metadata": {},
   "outputs": [
    {
     "name": "stderr",
     "output_type": "stream",
     "text": [
      "2023-03-08 11:58:02,722 : INFO : reading file reviews_data.txt.gz...this may take a while\n",
      "2023-03-08 11:58:02,725 : INFO : read 0 reviews\n",
      "2023-03-08 11:58:04,475 : INFO : read 10000 reviews\n",
      "2023-03-08 11:58:06,196 : INFO : read 20000 reviews\n",
      "2023-03-08 11:58:08,195 : INFO : read 30000 reviews\n",
      "2023-03-08 11:58:10,061 : INFO : read 40000 reviews\n",
      "2023-03-08 11:58:12,130 : INFO : read 50000 reviews\n",
      "2023-03-08 11:58:14,334 : INFO : read 60000 reviews\n",
      "2023-03-08 11:58:16,007 : INFO : read 70000 reviews\n",
      "2023-03-08 11:58:17,527 : INFO : read 80000 reviews\n",
      "2023-03-08 11:58:19,144 : INFO : read 90000 reviews\n",
      "2023-03-08 11:58:20,744 : INFO : read 100000 reviews\n",
      "2023-03-08 11:58:22,331 : INFO : read 110000 reviews\n",
      "2023-03-08 11:58:23,986 : INFO : read 120000 reviews\n",
      "2023-03-08 11:58:25,593 : INFO : read 130000 reviews\n",
      "2023-03-08 11:58:27,394 : INFO : read 140000 reviews\n",
      "2023-03-08 11:58:28,976 : INFO : read 150000 reviews\n",
      "2023-03-08 11:58:32,618 : INFO : read 160000 reviews\n",
      "2023-03-08 11:58:34,215 : INFO : read 170000 reviews\n",
      "2023-03-08 11:58:35,902 : INFO : read 180000 reviews\n",
      "2023-03-08 11:58:37,530 : INFO : read 190000 reviews\n",
      "2023-03-08 11:58:39,437 : INFO : read 200000 reviews\n",
      "2023-03-08 11:58:41,476 : INFO : read 210000 reviews\n",
      "2023-03-08 11:58:43,324 : INFO : read 220000 reviews\n",
      "2023-03-08 11:58:44,879 : INFO : read 230000 reviews\n",
      "2023-03-08 11:58:46,579 : INFO : read 240000 reviews\n",
      "2023-03-08 11:58:55,325 : INFO : read 250000 reviews\n",
      "2023-03-08 11:58:56,270 : INFO : Done reading data file\n"
     ]
    }
   ],
   "source": [
    "def read_input(input_file):\n",
    "    \"\"\"This method reads the input file which is in gzip format\"\"\"\n",
    "    \n",
    "    logging.info(\"reading file {0}...this may take a while\".format(input_file))\n",
    "    \n",
    "    with gzip.open (input_file, 'rb') as f:\n",
    "        for i, line in enumerate (f): \n",
    "\n",
    "            if (i%10000==0):\n",
    "                logging.info (\"read {0} reviews\".format (i))\n",
    "            # do some pre-processing and return a list of words for each review text\n",
    "            yield gensim.utils.simple_preprocess (line)\n",
    "\n",
    "# read the tokenized reviews into a list\n",
    "# each review item becomes a serries of words\n",
    "# so this becomes a list of lists\n",
    "documents = list (read_input (data_file))\n",
    "logging.info (\"Done reading data file\") "
   ]
  },
  {
   "cell_type": "code",
   "execution_count": 8,
   "id": "a13f0eda",
   "metadata": {},
   "outputs": [
    {
     "name": "stderr",
     "output_type": "stream",
     "text": [
      "2023-03-08 12:00:30,401 : INFO : collecting all words and their counts\n",
      "2023-03-08 12:00:30,403 : INFO : PROGRESS: at sentence #0, processed 0 words, keeping 0 word types\n",
      "2023-03-08 12:00:30,671 : INFO : PROGRESS: at sentence #10000, processed 1655714 words, keeping 25777 word types\n",
      "2023-03-08 12:00:30,934 : INFO : PROGRESS: at sentence #20000, processed 3317863 words, keeping 35016 word types\n",
      "2023-03-08 12:00:31,246 : INFO : PROGRESS: at sentence #30000, processed 5264072 words, keeping 47518 word types\n",
      "2023-03-08 12:00:31,531 : INFO : PROGRESS: at sentence #40000, processed 7081746 words, keeping 56675 word types\n",
      "2023-03-08 12:00:31,848 : INFO : PROGRESS: at sentence #50000, processed 9089491 words, keeping 63744 word types\n",
      "2023-03-08 12:00:32,169 : INFO : PROGRESS: at sentence #60000, processed 11013727 words, keeping 76787 word types\n",
      "2023-03-08 12:00:32,436 : INFO : PROGRESS: at sentence #70000, processed 12637529 words, keeping 83200 word types\n",
      "2023-03-08 12:00:32,675 : INFO : PROGRESS: at sentence #80000, processed 14099755 words, keeping 88460 word types\n",
      "2023-03-08 12:00:32,936 : INFO : PROGRESS: at sentence #90000, processed 15662153 words, keeping 93358 word types\n",
      "2023-03-08 12:00:33,197 : INFO : PROGRESS: at sentence #100000, processed 17164491 words, keeping 97887 word types\n",
      "2023-03-08 12:00:33,458 : INFO : PROGRESS: at sentence #110000, processed 18652296 words, keeping 102133 word types\n",
      "2023-03-08 12:00:33,712 : INFO : PROGRESS: at sentence #120000, processed 20152533 words, keeping 105924 word types\n",
      "2023-03-08 12:00:33,977 : INFO : PROGRESS: at sentence #130000, processed 21684334 words, keeping 110105 word types\n",
      "2023-03-08 12:00:34,268 : INFO : PROGRESS: at sentence #140000, processed 23330210 words, keeping 114109 word types\n",
      "2023-03-08 12:00:34,525 : INFO : PROGRESS: at sentence #150000, processed 24838758 words, keeping 118175 word types\n",
      "2023-03-08 12:00:34,794 : INFO : PROGRESS: at sentence #160000, processed 26390914 words, keeping 118671 word types\n",
      "2023-03-08 12:00:35,085 : INFO : PROGRESS: at sentence #170000, processed 27913920 words, keeping 123357 word types\n",
      "2023-03-08 12:00:35,372 : INFO : PROGRESS: at sentence #180000, processed 29535616 words, keeping 126749 word types\n",
      "2023-03-08 12:00:35,664 : INFO : PROGRESS: at sentence #190000, processed 31096463 words, keeping 129848 word types\n",
      "2023-03-08 12:00:35,959 : INFO : PROGRESS: at sentence #200000, processed 32805275 words, keeping 133256 word types\n",
      "2023-03-08 12:00:36,287 : INFO : PROGRESS: at sentence #210000, processed 34434202 words, keeping 136365 word types\n",
      "2023-03-08 12:00:36,564 : INFO : PROGRESS: at sentence #220000, processed 36083486 words, keeping 139419 word types\n",
      "2023-03-08 12:00:36,848 : INFO : PROGRESS: at sentence #230000, processed 37571766 words, keeping 142400 word types\n",
      "2023-03-08 12:00:37,128 : INFO : PROGRESS: at sentence #240000, processed 39138194 words, keeping 145233 word types\n",
      "2023-03-08 12:00:37,409 : INFO : PROGRESS: at sentence #250000, processed 40695053 words, keeping 147967 word types\n",
      "2023-03-08 12:00:37,559 : INFO : collected 150060 word types from a corpus of 41519359 raw words and 255404 sentences\n",
      "2023-03-08 12:00:37,560 : INFO : Creating a fresh vocabulary\n",
      "2023-03-08 12:00:38,204 : INFO : Word2Vec lifecycle event {'msg': 'effective_min_count=2 retains 70537 unique words (47.01% of original 150060, drops 79523)', 'datetime': '2023-03-08T12:00:38.204067', 'gensim': '4.2.0', 'python': '3.9.1 (v3.9.1:1e5d33e9b9, Dec  7 2020, 12:10:52) \\n[Clang 6.0 (clang-600.0.57)]', 'platform': 'macOS-10.16-x86_64-i386-64bit', 'event': 'prepare_vocab'}\n",
      "2023-03-08 12:00:38,205 : INFO : Word2Vec lifecycle event {'msg': 'effective_min_count=2 leaves 41439836 word corpus (99.81% of original 41519359, drops 79523)', 'datetime': '2023-03-08T12:00:38.205254', 'gensim': '4.2.0', 'python': '3.9.1 (v3.9.1:1e5d33e9b9, Dec  7 2020, 12:10:52) \\n[Clang 6.0 (clang-600.0.57)]', 'platform': 'macOS-10.16-x86_64-i386-64bit', 'event': 'prepare_vocab'}\n",
      "2023-03-08 12:00:38,525 : INFO : deleting the raw counts dictionary of 150060 items\n",
      "2023-03-08 12:00:38,533 : INFO : sample=0.001 downsamples 55 most-common words\n",
      "2023-03-08 12:00:38,534 : INFO : Word2Vec lifecycle event {'msg': 'downsampling leaves estimated 30349251.36700416 word corpus (73.2%% of prior 41439836)', 'datetime': '2023-03-08T12:00:38.534482', 'gensim': '4.2.0', 'python': '3.9.1 (v3.9.1:1e5d33e9b9, Dec  7 2020, 12:10:52) \\n[Clang 6.0 (clang-600.0.57)]', 'platform': 'macOS-10.16-x86_64-i386-64bit', 'event': 'prepare_vocab'}\n",
      "2023-03-08 12:00:39,125 : INFO : estimated required memory for 70537 words and 150 dimensions: 119912900 bytes\n",
      "2023-03-08 12:00:39,125 : INFO : resetting layer weights\n",
      "2023-03-08 12:00:39,209 : INFO : Word2Vec lifecycle event {'update': False, 'trim_rule': 'None', 'datetime': '2023-03-08T12:00:39.209216', 'gensim': '4.2.0', 'python': '3.9.1 (v3.9.1:1e5d33e9b9, Dec  7 2020, 12:10:52) \\n[Clang 6.0 (clang-600.0.57)]', 'platform': 'macOS-10.16-x86_64-i386-64bit', 'event': 'build_vocab'}\n",
      "2023-03-08 12:00:39,209 : INFO : Word2Vec lifecycle event {'msg': 'training model with 10 workers on 70537 vocabulary and 150 features, using sg=0 hs=0 sample=0.001 negative=5 window=10 shrink_windows=True', 'datetime': '2023-03-08T12:00:39.209913', 'gensim': '4.2.0', 'python': '3.9.1 (v3.9.1:1e5d33e9b9, Dec  7 2020, 12:10:52) \\n[Clang 6.0 (clang-600.0.57)]', 'platform': 'macOS-10.16-x86_64-i386-64bit', 'event': 'train'}\n",
      "2023-03-08 12:00:40,238 : INFO : EPOCH 0 - PROGRESS: at 5.85% examples, 1795972 words/s, in_qsize 19, out_qsize 0\n",
      "2023-03-08 12:00:41,243 : INFO : EPOCH 0 - PROGRESS: at 11.34% examples, 1820613 words/s, in_qsize 19, out_qsize 0\n",
      "2023-03-08 12:00:42,247 : INFO : EPOCH 0 - PROGRESS: at 16.61% examples, 1834729 words/s, in_qsize 20, out_qsize 2\n",
      "2023-03-08 12:00:43,249 : INFO : EPOCH 0 - PROGRESS: at 21.80% examples, 1839726 words/s, in_qsize 19, out_qsize 0\n",
      "2023-03-08 12:00:44,253 : INFO : EPOCH 0 - PROGRESS: at 27.34% examples, 1834768 words/s, in_qsize 19, out_qsize 0\n",
      "2023-03-08 12:00:45,253 : INFO : EPOCH 0 - PROGRESS: at 33.90% examples, 1836540 words/s, in_qsize 20, out_qsize 1\n",
      "2023-03-08 12:00:46,256 : INFO : EPOCH 0 - PROGRESS: at 40.35% examples, 1835007 words/s, in_qsize 18, out_qsize 1\n",
      "2023-03-08 12:00:47,259 : INFO : EPOCH 0 - PROGRESS: at 46.94% examples, 1832800 words/s, in_qsize 20, out_qsize 0\n",
      "2023-03-08 12:00:48,274 : INFO : EPOCH 0 - PROGRESS: at 53.10% examples, 1828359 words/s, in_qsize 20, out_qsize 2\n",
      "2023-03-08 12:00:49,281 : INFO : EPOCH 0 - PROGRESS: at 59.01% examples, 1814238 words/s, in_qsize 16, out_qsize 3\n",
      "2023-03-08 12:00:50,296 : INFO : EPOCH 0 - PROGRESS: at 65.37% examples, 1810556 words/s, in_qsize 20, out_qsize 3\n",
      "2023-03-08 12:00:51,296 : INFO : EPOCH 0 - PROGRESS: at 71.38% examples, 1812414 words/s, in_qsize 20, out_qsize 0\n",
      "2023-03-08 12:00:52,305 : INFO : EPOCH 0 - PROGRESS: at 77.17% examples, 1806421 words/s, in_qsize 19, out_qsize 0\n",
      "2023-03-08 12:00:53,306 : INFO : EPOCH 0 - PROGRESS: at 83.10% examples, 1806235 words/s, in_qsize 18, out_qsize 1\n",
      "2023-03-08 12:00:54,310 : INFO : EPOCH 0 - PROGRESS: at 89.28% examples, 1806369 words/s, in_qsize 20, out_qsize 1\n",
      "2023-03-08 12:00:55,316 : INFO : EPOCH 0 - PROGRESS: at 95.63% examples, 1807433 words/s, in_qsize 18, out_qsize 1\n",
      "2023-03-08 12:00:56,016 : INFO : EPOCH 0: training on 41519359 raw words (30347144 effective words) took 16.8s, 1807797 effective words/s\n",
      "2023-03-08 12:00:57,031 : INFO : EPOCH 1 - PROGRESS: at 6.12% examples, 1869235 words/s, in_qsize 19, out_qsize 0\n",
      "2023-03-08 12:00:58,035 : INFO : EPOCH 1 - PROGRESS: at 11.59% examples, 1873986 words/s, in_qsize 19, out_qsize 0\n",
      "2023-03-08 12:00:59,043 : INFO : EPOCH 1 - PROGRESS: at 16.86% examples, 1858220 words/s, in_qsize 19, out_qsize 0\n",
      "2023-03-08 12:01:00,056 : INFO : EPOCH 1 - PROGRESS: at 22.12% examples, 1862745 words/s, in_qsize 16, out_qsize 3\n",
      "2023-03-08 12:01:01,058 : INFO : EPOCH 1 - PROGRESS: at 28.04% examples, 1863967 words/s, in_qsize 20, out_qsize 2\n",
      "2023-03-08 12:01:02,060 : INFO : EPOCH 1 - PROGRESS: at 34.55% examples, 1861743 words/s, in_qsize 19, out_qsize 0\n",
      "2023-03-08 12:01:03,066 : INFO : EPOCH 1 - PROGRESS: at 40.90% examples, 1851600 words/s, in_qsize 18, out_qsize 1\n"
     ]
    },
    {
     "name": "stderr",
     "output_type": "stream",
     "text": [
      "2023-03-08 12:01:04,077 : INFO : EPOCH 1 - PROGRESS: at 47.63% examples, 1851630 words/s, in_qsize 18, out_qsize 1\n",
      "2023-03-08 12:01:05,087 : INFO : EPOCH 1 - PROGRESS: at 53.83% examples, 1847808 words/s, in_qsize 17, out_qsize 2\n",
      "2023-03-08 12:01:06,095 : INFO : EPOCH 1 - PROGRESS: at 59.79% examples, 1832382 words/s, in_qsize 17, out_qsize 2\n",
      "2023-03-08 12:01:07,098 : INFO : EPOCH 1 - PROGRESS: at 65.98% examples, 1826945 words/s, in_qsize 20, out_qsize 0\n",
      "2023-03-08 12:01:08,098 : INFO : EPOCH 1 - PROGRESS: at 70.85% examples, 1797582 words/s, in_qsize 19, out_qsize 0\n",
      "2023-03-08 12:01:09,107 : INFO : EPOCH 1 - PROGRESS: at 76.40% examples, 1786657 words/s, in_qsize 18, out_qsize 1\n",
      "2023-03-08 12:01:10,108 : INFO : EPOCH 1 - PROGRESS: at 81.74% examples, 1776765 words/s, in_qsize 19, out_qsize 0\n",
      "2023-03-08 12:01:11,126 : INFO : EPOCH 1 - PROGRESS: at 87.15% examples, 1764112 words/s, in_qsize 17, out_qsize 2\n",
      "2023-03-08 12:01:12,133 : INFO : EPOCH 1 - PROGRESS: at 92.58% examples, 1749307 words/s, in_qsize 19, out_qsize 1\n",
      "2023-03-08 12:01:13,135 : INFO : EPOCH 1 - PROGRESS: at 97.90% examples, 1737921 words/s, in_qsize 19, out_qsize 0\n",
      "2023-03-08 12:01:13,489 : INFO : EPOCH 1: training on 41519359 raw words (30348292 effective words) took 17.5s, 1737270 effective words/s\n",
      "2023-03-08 12:01:14,494 : INFO : EPOCH 2 - PROGRESS: at 5.56% examples, 1713876 words/s, in_qsize 18, out_qsize 1\n",
      "2023-03-08 12:01:15,499 : INFO : EPOCH 2 - PROGRESS: at 10.78% examples, 1725952 words/s, in_qsize 20, out_qsize 0\n",
      "2023-03-08 12:01:16,502 : INFO : EPOCH 2 - PROGRESS: at 15.56% examples, 1709935 words/s, in_qsize 20, out_qsize 0\n",
      "2023-03-08 12:01:17,505 : INFO : EPOCH 2 - PROGRESS: at 20.30% examples, 1726841 words/s, in_qsize 19, out_qsize 0\n",
      "2023-03-08 12:01:18,510 : INFO : EPOCH 2 - PROGRESS: at 25.52% examples, 1738883 words/s, in_qsize 19, out_qsize 0\n",
      "2023-03-08 12:01:19,514 : INFO : EPOCH 2 - PROGRESS: at 31.98% examples, 1742366 words/s, in_qsize 19, out_qsize 0\n",
      "2023-03-08 12:01:20,517 : INFO : EPOCH 2 - PROGRESS: at 38.03% examples, 1742261 words/s, in_qsize 16, out_qsize 3\n",
      "2023-03-08 12:01:21,531 : INFO : EPOCH 2 - PROGRESS: at 44.36% examples, 1738441 words/s, in_qsize 19, out_qsize 0\n",
      "2023-03-08 12:01:22,538 : INFO : EPOCH 2 - PROGRESS: at 49.83% examples, 1718644 words/s, in_qsize 19, out_qsize 0\n",
      "2023-03-08 12:01:23,546 : INFO : EPOCH 2 - PROGRESS: at 55.89% examples, 1723362 words/s, in_qsize 17, out_qsize 3\n",
      "2023-03-08 12:01:24,552 : INFO : EPOCH 2 - PROGRESS: at 61.97% examples, 1727537 words/s, in_qsize 18, out_qsize 1\n",
      "2023-03-08 12:01:25,553 : INFO : EPOCH 2 - PROGRESS: at 68.19% examples, 1731351 words/s, in_qsize 19, out_qsize 0\n",
      "2023-03-08 12:01:26,560 : INFO : EPOCH 2 - PROGRESS: at 74.15% examples, 1733581 words/s, in_qsize 19, out_qsize 0\n",
      "2023-03-08 12:01:27,563 : INFO : EPOCH 2 - PROGRESS: at 79.59% examples, 1731729 words/s, in_qsize 20, out_qsize 0\n",
      "2023-03-08 12:01:28,566 : INFO : EPOCH 2 - PROGRESS: at 85.29% examples, 1733006 words/s, in_qsize 20, out_qsize 0\n",
      "2023-03-08 12:01:29,570 : INFO : EPOCH 2 - PROGRESS: at 91.39% examples, 1731716 words/s, in_qsize 18, out_qsize 1\n",
      "2023-03-08 12:01:30,572 : INFO : EPOCH 2 - PROGRESS: at 97.02% examples, 1726831 words/s, in_qsize 18, out_qsize 1\n",
      "2023-03-08 12:01:31,056 : INFO : EPOCH 2: training on 41519359 raw words (30349229 effective words) took 17.6s, 1727892 effective words/s\n",
      "2023-03-08 12:01:32,063 : INFO : EPOCH 3 - PROGRESS: at 5.83% examples, 1796600 words/s, in_qsize 18, out_qsize 1\n",
      "2023-03-08 12:01:33,069 : INFO : EPOCH 3 - PROGRESS: at 11.17% examples, 1799397 words/s, in_qsize 18, out_qsize 1\n",
      "2023-03-08 12:01:34,069 : INFO : EPOCH 3 - PROGRESS: at 16.26% examples, 1794844 words/s, in_qsize 20, out_qsize 0\n",
      "2023-03-08 12:01:35,076 : INFO : EPOCH 3 - PROGRESS: at 20.62% examples, 1759657 words/s, in_qsize 18, out_qsize 1\n",
      "2023-03-08 12:01:36,081 : INFO : EPOCH 3 - PROGRESS: at 25.71% examples, 1749212 words/s, in_qsize 19, out_qsize 0\n",
      "2023-03-08 12:01:37,090 : INFO : EPOCH 3 - PROGRESS: at 31.85% examples, 1731792 words/s, in_qsize 19, out_qsize 0\n",
      "2023-03-08 12:01:38,099 : INFO : EPOCH 3 - PROGRESS: at 37.89% examples, 1733578 words/s, in_qsize 19, out_qsize 0\n",
      "2023-03-08 12:01:39,109 : INFO : EPOCH 3 - PROGRESS: at 44.28% examples, 1734633 words/s, in_qsize 19, out_qsize 0\n",
      "2023-03-08 12:01:40,118 : INFO : EPOCH 3 - PROGRESS: at 50.37% examples, 1732951 words/s, in_qsize 18, out_qsize 1\n",
      "2023-03-08 12:01:41,134 : INFO : EPOCH 3 - PROGRESS: at 56.20% examples, 1729268 words/s, in_qsize 19, out_qsize 0\n",
      "2023-03-08 12:01:42,141 : INFO : EPOCH 3 - PROGRESS: at 62.47% examples, 1736664 words/s, in_qsize 19, out_qsize 1\n",
      "2023-03-08 12:01:43,144 : INFO : EPOCH 3 - PROGRESS: at 68.64% examples, 1739582 words/s, in_qsize 17, out_qsize 2\n",
      "2023-03-08 12:01:44,150 : INFO : EPOCH 3 - PROGRESS: at 74.60% examples, 1741161 words/s, in_qsize 15, out_qsize 4\n",
      "2023-03-08 12:01:45,155 : INFO : EPOCH 3 - PROGRESS: at 79.65% examples, 1730391 words/s, in_qsize 20, out_qsize 0\n",
      "2023-03-08 12:01:46,155 : INFO : EPOCH 3 - PROGRESS: at 84.51% examples, 1714406 words/s, in_qsize 20, out_qsize 0\n",
      "2023-03-08 12:01:47,156 : INFO : EPOCH 3 - PROGRESS: at 89.85% examples, 1702771 words/s, in_qsize 19, out_qsize 0\n",
      "2023-03-08 12:01:48,160 : INFO : EPOCH 3 - PROGRESS: at 95.44% examples, 1697325 words/s, in_qsize 19, out_qsize 0\n",
      "2023-03-08 12:01:49,023 : INFO : EPOCH 3: training on 41519359 raw words (30350149 effective words) took 18.0s, 1689540 effective words/s\n",
      "2023-03-08 12:01:50,028 : INFO : EPOCH 4 - PROGRESS: at 5.72% examples, 1757831 words/s, in_qsize 20, out_qsize 1\n",
      "2023-03-08 12:01:51,031 : INFO : EPOCH 4 - PROGRESS: at 11.03% examples, 1774220 words/s, in_qsize 19, out_qsize 1\n",
      "2023-03-08 12:01:52,039 : INFO : EPOCH 4 - PROGRESS: at 16.16% examples, 1780898 words/s, in_qsize 20, out_qsize 1\n",
      "2023-03-08 12:01:53,039 : INFO : EPOCH 4 - PROGRESS: at 20.82% examples, 1778953 words/s, in_qsize 18, out_qsize 1\n",
      "2023-03-08 12:01:54,046 : INFO : EPOCH 4 - PROGRESS: at 26.41% examples, 1785645 words/s, in_qsize 19, out_qsize 0\n",
      "2023-03-08 12:01:55,051 : INFO : EPOCH 4 - PROGRESS: at 32.86% examples, 1782323 words/s, in_qsize 20, out_qsize 0\n",
      "2023-03-08 12:01:56,055 : INFO : EPOCH 4 - PROGRESS: at 38.74% examples, 1768610 words/s, in_qsize 19, out_qsize 0\n",
      "2023-03-08 12:01:57,059 : INFO : EPOCH 4 - PROGRESS: at 45.17% examples, 1767423 words/s, in_qsize 19, out_qsize 0\n",
      "2023-03-08 12:01:58,064 : INFO : EPOCH 4 - PROGRESS: at 51.22% examples, 1764574 words/s, in_qsize 19, out_qsize 0\n",
      "2023-03-08 12:01:59,066 : INFO : EPOCH 4 - PROGRESS: at 57.06% examples, 1759500 words/s, in_qsize 18, out_qsize 1\n",
      "2023-03-08 12:02:00,068 : INFO : EPOCH 4 - PROGRESS: at 63.13% examples, 1759580 words/s, in_qsize 19, out_qsize 0\n",
      "2023-03-08 12:02:01,071 : INFO : EPOCH 4 - PROGRESS: at 69.13% examples, 1756881 words/s, in_qsize 19, out_qsize 0\n",
      "2023-03-08 12:02:02,074 : INFO : EPOCH 4 - PROGRESS: at 75.02% examples, 1757110 words/s, in_qsize 19, out_qsize 0\n",
      "2023-03-08 12:02:03,075 : INFO : EPOCH 4 - PROGRESS: at 80.70% examples, 1759513 words/s, in_qsize 18, out_qsize 1\n",
      "2023-03-08 12:02:04,080 : INFO : EPOCH 4 - PROGRESS: at 86.60% examples, 1760180 words/s, in_qsize 20, out_qsize 0\n",
      "2023-03-08 12:02:05,084 : INFO : EPOCH 4 - PROGRESS: at 92.66% examples, 1757043 words/s, in_qsize 17, out_qsize 2\n",
      "2023-03-08 12:02:06,090 : INFO : EPOCH 4 - PROGRESS: at 98.71% examples, 1756974 words/s, in_qsize 19, out_qsize 0\n",
      "2023-03-08 12:02:06,299 : INFO : EPOCH 4: training on 41519359 raw words (30345457 effective words) took 17.3s, 1756871 effective words/s\n",
      "2023-03-08 12:02:06,300 : INFO : Word2Vec lifecycle event {'msg': 'training on 207596795 raw words (151740271 effective words) took 87.1s, 1742283 effective words/s', 'datetime': '2023-03-08T12:02:06.300196', 'gensim': '4.2.0', 'python': '3.9.1 (v3.9.1:1e5d33e9b9, Dec  7 2020, 12:10:52) \\n[Clang 6.0 (clang-600.0.57)]', 'platform': 'macOS-10.16-x86_64-i386-64bit', 'event': 'train'}\n",
      "2023-03-08 12:02:06,300 : INFO : Word2Vec lifecycle event {'params': 'Word2Vec<vocab=70537, vector_size=150, alpha=0.025>', 'datetime': '2023-03-08T12:02:06.300730', 'gensim': '4.2.0', 'python': '3.9.1 (v3.9.1:1e5d33e9b9, Dec  7 2020, 12:10:52) \\n[Clang 6.0 (clang-600.0.57)]', 'platform': 'macOS-10.16-x86_64-i386-64bit', 'event': 'created'}\n"
     ]
    },
    {
     "name": "stderr",
     "output_type": "stream",
     "text": [
      "2023-03-08 12:02:06,301 : WARNING : Effective 'alpha' higher than previous training cycles\n",
      "2023-03-08 12:02:06,301 : INFO : Word2Vec lifecycle event {'msg': 'training model with 10 workers on 70537 vocabulary and 150 features, using sg=0 hs=0 sample=0.001 negative=5 window=10 shrink_windows=True', 'datetime': '2023-03-08T12:02:06.301953', 'gensim': '4.2.0', 'python': '3.9.1 (v3.9.1:1e5d33e9b9, Dec  7 2020, 12:10:52) \\n[Clang 6.0 (clang-600.0.57)]', 'platform': 'macOS-10.16-x86_64-i386-64bit', 'event': 'train'}\n",
      "2023-03-08 12:02:07,311 : INFO : EPOCH 0 - PROGRESS: at 5.92% examples, 1821374 words/s, in_qsize 20, out_qsize 0\n",
      "2023-03-08 12:02:08,312 : INFO : EPOCH 0 - PROGRESS: at 11.35% examples, 1825512 words/s, in_qsize 19, out_qsize 0\n",
      "2023-03-08 12:02:09,321 : INFO : EPOCH 0 - PROGRESS: at 16.33% examples, 1799564 words/s, in_qsize 19, out_qsize 1\n",
      "2023-03-08 12:02:10,326 : INFO : EPOCH 0 - PROGRESS: at 21.43% examples, 1804616 words/s, in_qsize 19, out_qsize 0\n",
      "2023-03-08 12:02:11,329 : INFO : EPOCH 0 - PROGRESS: at 26.62% examples, 1795835 words/s, in_qsize 20, out_qsize 2\n",
      "2023-03-08 12:02:12,333 : INFO : EPOCH 0 - PROGRESS: at 32.95% examples, 1785048 words/s, in_qsize 19, out_qsize 0\n",
      "2023-03-08 12:02:13,335 : INFO : EPOCH 0 - PROGRESS: at 39.11% examples, 1783043 words/s, in_qsize 19, out_qsize 0\n",
      "2023-03-08 12:02:14,336 : INFO : EPOCH 0 - PROGRESS: at 45.49% examples, 1777915 words/s, in_qsize 20, out_qsize 0\n",
      "2023-03-08 12:02:15,343 : INFO : EPOCH 0 - PROGRESS: at 51.62% examples, 1777280 words/s, in_qsize 19, out_qsize 0\n",
      "2023-03-08 12:02:16,344 : INFO : EPOCH 0 - PROGRESS: at 57.61% examples, 1775538 words/s, in_qsize 19, out_qsize 2\n",
      "2023-03-08 12:02:17,356 : INFO : EPOCH 0 - PROGRESS: at 63.65% examples, 1769435 words/s, in_qsize 19, out_qsize 0\n",
      "2023-03-08 12:02:18,367 : INFO : EPOCH 0 - PROGRESS: at 69.71% examples, 1770050 words/s, in_qsize 17, out_qsize 2\n",
      "2023-03-08 12:02:19,376 : INFO : EPOCH 0 - PROGRESS: at 75.50% examples, 1765786 words/s, in_qsize 17, out_qsize 2\n",
      "2023-03-08 12:02:20,380 : INFO : EPOCH 0 - PROGRESS: at 81.11% examples, 1764968 words/s, in_qsize 19, out_qsize 0\n",
      "2023-03-08 12:02:21,398 : INFO : EPOCH 0 - PROGRESS: at 86.93% examples, 1761352 words/s, in_qsize 16, out_qsize 3\n",
      "2023-03-08 12:02:22,399 : INFO : EPOCH 0 - PROGRESS: at 93.08% examples, 1761193 words/s, in_qsize 18, out_qsize 1\n",
      "2023-03-08 12:02:23,413 : INFO : EPOCH 0 - PROGRESS: at 98.46% examples, 1748331 words/s, in_qsize 20, out_qsize 1\n",
      "2023-03-08 12:02:23,645 : INFO : EPOCH 0: training on 41519359 raw words (30346970 effective words) took 17.3s, 1750094 effective words/s\n",
      "2023-03-08 12:02:23,646 : INFO : Word2Vec lifecycle event {'msg': 'training on 41519359 raw words (30346970 effective words) took 17.3s, 1749641 effective words/s', 'datetime': '2023-03-08T12:02:23.646450', 'gensim': '4.2.0', 'python': '3.9.1 (v3.9.1:1e5d33e9b9, Dec  7 2020, 12:10:52) \\n[Clang 6.0 (clang-600.0.57)]', 'platform': 'macOS-10.16-x86_64-i386-64bit', 'event': 'train'}\n"
     ]
    },
    {
     "data": {
      "text/plain": [
       "(30346970, 41519359)"
      ]
     },
     "execution_count": 8,
     "metadata": {},
     "output_type": "execute_result"
    }
   ],
   "source": [
    "model = gensim.models.Word2Vec (documents, vector_size=150, window=10, min_count=2, workers=10)\n",
    "model.train(documents,total_examples=len(documents),epochs=1)"
   ]
  },
  {
   "cell_type": "code",
   "execution_count": 9,
   "id": "d7a95302",
   "metadata": {},
   "outputs": [
    {
     "data": {
      "text/plain": [
       "[('filthy', 0.8653646111488342),\n",
       " ('unclean', 0.7826085090637207),\n",
       " ('stained', 0.755523681640625),\n",
       " ('smelly', 0.7432677745819092),\n",
       " ('dusty', 0.7420288324356079),\n",
       " ('grubby', 0.7264119386672974),\n",
       " ('soiled', 0.7187577486038208),\n",
       " ('disgusting', 0.711033821105957),\n",
       " ('disgustingly', 0.6961562633514404),\n",
       " ('moldy', 0.6924386620521545)]"
      ]
     },
     "execution_count": 9,
     "metadata": {},
     "output_type": "execute_result"
    }
   ],
   "source": [
    "w1 = \"dirty\"\n",
    "model.wv.most_similar (positive=w1)"
   ]
  },
  {
   "cell_type": "code",
   "execution_count": 10,
   "id": "eeb0c7f7",
   "metadata": {},
   "outputs": [
    {
     "data": {
      "text/plain": [
       "[('courteous', 0.8818655610084534),\n",
       " ('cordial', 0.8256106376647949),\n",
       " ('curteous', 0.8198858499526978),\n",
       " ('friendly', 0.7948161959648132),\n",
       " ('curtious', 0.7921111583709717),\n",
       " ('freindly', 0.7838779091835022)]"
      ]
     },
     "execution_count": 10,
     "metadata": {},
     "output_type": "execute_result"
    }
   ],
   "source": [
    "w1 = [\"polite\"]\n",
    "model.wv.most_similar (positive=w1,topn=6)"
   ]
  },
  {
   "cell_type": "code",
   "execution_count": 11,
   "id": "b5982daf",
   "metadata": {},
   "outputs": [
    {
     "data": {
      "text/plain": [
       "[('germany', 0.7084828019142151),\n",
       " ('canada', 0.6951631307601929),\n",
       " ('england', 0.6655834317207336),\n",
       " ('austria', 0.6519680619239807),\n",
       " ('ireland', 0.6512348055839539),\n",
       " ('mexico', 0.6391814947128296)]"
      ]
     },
     "execution_count": 11,
     "metadata": {},
     "output_type": "execute_result"
    }
   ],
   "source": [
    "w1 = [\"france\"]\n",
    "model.wv.most_similar (positive=w1,topn=6)"
   ]
  },
  {
   "cell_type": "code",
   "execution_count": 12,
   "id": "b383197d",
   "metadata": {},
   "outputs": [
    {
     "data": {
      "text/plain": [
       "[('amazed', 0.8108350038528442),\n",
       " ('horrified', 0.8008638620376587),\n",
       " ('suprised', 0.7529677748680115),\n",
       " ('appalled', 0.7525407671928406),\n",
       " ('astonished', 0.7501817345619202),\n",
       " ('stunned', 0.746991753578186)]"
      ]
     },
     "execution_count": 12,
     "metadata": {},
     "output_type": "execute_result"
    }
   ],
   "source": [
    "w1 = [\"shocked\"]\n",
    "model.wv.most_similar (positive=w1,topn=6)"
   ]
  },
  {
   "cell_type": "code",
   "execution_count": 13,
   "id": "bd35cb39",
   "metadata": {},
   "outputs": [
    {
     "data": {
      "text/plain": [
       "[('duvet', 0.7157604694366455),\n",
       " ('blanket', 0.7041473984718323),\n",
       " ('pillowcase', 0.6929316520690918),\n",
       " ('quilt', 0.6918755173683167),\n",
       " ('mattress', 0.6766456365585327),\n",
       " ('matress', 0.6733872294425964),\n",
       " ('foam', 0.6560038328170776),\n",
       " ('pillows', 0.6207405924797058),\n",
       " ('pillowcases', 0.6039043664932251),\n",
       " ('sheets', 0.6026749610900879)]"
      ]
     },
     "execution_count": 13,
     "metadata": {},
     "output_type": "execute_result"
    }
   ],
   "source": [
    "w1 = [\"bed\",'sheet','pillow']\n",
    "w2 = ['couch']\n",
    "model.wv.most_similar (positive=w1,negative=w2,topn=10)"
   ]
  },
  {
   "cell_type": "code",
   "execution_count": 14,
   "id": "b1d10770",
   "metadata": {},
   "outputs": [
    {
     "data": {
      "text/plain": [
       "0.74326783"
      ]
     },
     "execution_count": 14,
     "metadata": {},
     "output_type": "execute_result"
    }
   ],
   "source": [
    "# similarity between two different words\n",
    "model.wv.similarity(w1=\"dirty\",w2=\"smelly\")"
   ]
  },
  {
   "cell_type": "code",
   "execution_count": 15,
   "id": "8d4fb4b9",
   "metadata": {},
   "outputs": [
    {
     "data": {
      "text/plain": [
       "0.99999994"
      ]
     },
     "execution_count": 15,
     "metadata": {},
     "output_type": "execute_result"
    }
   ],
   "source": [
    "# similarity between two identical words\n",
    "model.wv.similarity(w1=\"dirty\",w2=\"dirty\")"
   ]
  },
  {
   "cell_type": "code",
   "execution_count": 16,
   "id": "04fc7466",
   "metadata": {},
   "outputs": [
    {
     "data": {
      "text/plain": [
       "0.25484544"
      ]
     },
     "execution_count": 16,
     "metadata": {},
     "output_type": "execute_result"
    }
   ],
   "source": [
    "model.wv.similarity(w1=\"dirty\",w2=\"clean\")"
   ]
  },
  {
   "cell_type": "code",
   "execution_count": 17,
   "id": "3bbd9a57",
   "metadata": {},
   "outputs": [
    {
     "data": {
      "text/plain": [
       "'france'"
      ]
     },
     "execution_count": 17,
     "metadata": {},
     "output_type": "execute_result"
    }
   ],
   "source": [
    "model.wv.doesnt_match([\"cat\",\"dog\",\"france\"])"
   ]
  },
  {
   "cell_type": "code",
   "execution_count": 18,
   "id": "bb0a11c2",
   "metadata": {},
   "outputs": [
    {
     "data": {
      "text/plain": [
       "'shower'"
      ]
     },
     "execution_count": 18,
     "metadata": {},
     "output_type": "execute_result"
    }
   ],
   "source": [
    "model.wv.doesnt_match([\"bed\",\"pillow\",\"duvet\",\"shower\"])"
   ]
  },
  {
   "cell_type": "markdown",
   "id": "def2af22",
   "metadata": {},
   "source": [
    "# Question 2"
   ]
  },
  {
   "cell_type": "code",
   "execution_count": 2,
   "id": "755fdc9b",
   "metadata": {},
   "outputs": [
    {
     "data": {
      "text/html": [
       "<div>\n",
       "<style scoped>\n",
       "    .dataframe tbody tr th:only-of-type {\n",
       "        vertical-align: middle;\n",
       "    }\n",
       "\n",
       "    .dataframe tbody tr th {\n",
       "        vertical-align: top;\n",
       "    }\n",
       "\n",
       "    .dataframe thead th {\n",
       "        text-align: right;\n",
       "    }\n",
       "</style>\n",
       "<table border=\"1\" class=\"dataframe\">\n",
       "  <thead>\n",
       "    <tr style=\"text-align: right;\">\n",
       "      <th></th>\n",
       "      <th>review</th>\n",
       "      <th>sentiment</th>\n",
       "    </tr>\n",
       "  </thead>\n",
       "  <tbody>\n",
       "    <tr>\n",
       "      <th>0</th>\n",
       "      <td>One of the other reviewers has mentioned that ...</td>\n",
       "      <td>positive</td>\n",
       "    </tr>\n",
       "    <tr>\n",
       "      <th>1</th>\n",
       "      <td>A wonderful little production. &lt;br /&gt;&lt;br /&gt;The...</td>\n",
       "      <td>positive</td>\n",
       "    </tr>\n",
       "    <tr>\n",
       "      <th>2</th>\n",
       "      <td>I thought this was a wonderful way to spend ti...</td>\n",
       "      <td>positive</td>\n",
       "    </tr>\n",
       "    <tr>\n",
       "      <th>3</th>\n",
       "      <td>Basically there's a family where a little boy ...</td>\n",
       "      <td>negative</td>\n",
       "    </tr>\n",
       "    <tr>\n",
       "      <th>4</th>\n",
       "      <td>Petter Mattei's \"Love in the Time of Money\" is...</td>\n",
       "      <td>positive</td>\n",
       "    </tr>\n",
       "  </tbody>\n",
       "</table>\n",
       "</div>"
      ],
      "text/plain": [
       "                                              review sentiment\n",
       "0  One of the other reviewers has mentioned that ...  positive\n",
       "1  A wonderful little production. <br /><br />The...  positive\n",
       "2  I thought this was a wonderful way to spend ti...  positive\n",
       "3  Basically there's a family where a little boy ...  negative\n",
       "4  Petter Mattei's \"Love in the Time of Money\" is...  positive"
      ]
     },
     "execution_count": 2,
     "metadata": {},
     "output_type": "execute_result"
    }
   ],
   "source": [
    "#read in dataset\n",
    "imdb=pd.read_csv('IMDB Dataset.csv')\n",
    "imdb.head()"
   ]
  },
  {
   "cell_type": "markdown",
   "id": "5b518c4d",
   "metadata": {},
   "source": [
    "The Sentiment of each review is given in our dataset, positive and negative are converted to 1 and 0, this helps run logit on our dataset"
   ]
  },
  {
   "cell_type": "code",
   "execution_count": 3,
   "id": "7f0b448e",
   "metadata": {},
   "outputs": [],
   "source": [
    "target_vals=imdb['sentiment'].value_counts().reset_index()"
   ]
  },
  {
   "cell_type": "code",
   "execution_count": 9,
   "id": "6ef85dce",
   "metadata": {},
   "outputs": [
    {
     "data": {
      "text/plain": [
       "<AxesSubplot:xlabel='index', ylabel='sentiment'>"
      ]
     },
     "execution_count": 9,
     "metadata": {},
     "output_type": "execute_result"
    },
    {
     "data": {
      "image/png": "[encoded data removed]",
      "text/plain": [
       "<Figure size 640x480 with 1 Axes>"
      ]
     },
     "metadata": {},
     "output_type": "display_data"
    }
   ],
   "source": [
    "sns.barplot(x='index',y='sentiment',data=target_vals)"
   ]
  },
  {
   "cell_type": "code",
   "execution_count": 10,
   "id": "1c60a23e",
   "metadata": {},
   "outputs": [
    {
     "name": "stdout",
     "output_type": "stream",
     "text": [
      "0    [one, of, the, other, reviewers, has, mentione...\n",
      "1    [wonderful, little, production, br, br, the, f...\n",
      "2    [thought, this, was, wonderful, way, to, spend...\n",
      "3    [basically, there, family, where, little, boy,...\n",
      "4    [petter, mattei, love, in, the, time, of, mone...\n",
      "5    [probably, my, all, time, favorite, movie, sto...\n",
      "6    [sure, would, like, to, see, resurrection, of,...\n",
      "7    [this, show, was, an, amazing, fresh, innovati...\n",
      "8    [encouraged, by, the, positive, comments, abou...\n",
      "9    [if, you, like, original, gut, wrenching, laug...\n",
      "Name: tokenized_text, dtype: object\n"
     ]
    }
   ],
   "source": [
    "#Converting Columns into a list of tokens\n",
    "#converts all elements into unicode strings\n",
    "from gensim.utils import simple_preprocess\n",
    "imdb['tokenized_text'] = [simple_preprocess(line, deacc=True) for line in imdb['review']]\n",
    "print(imdb['tokenized_text'].head(10))"
   ]
  },
  {
   "cell_type": "code",
   "execution_count": 11,
   "id": "bc6dc739",
   "metadata": {},
   "outputs": [
    {
     "data": {
      "text/plain": [
       "0    [on, of, the, other, review, ha, mention, that...\n",
       "1    [wonder, littl, product, br, br, the, film, te...\n",
       "2    [thought, thi, wa, wonder, wai, to, spend, tim...\n",
       "3    [basic, there, famili, where, littl, boi, jake...\n",
       "4    [petter, mattei, love, in, the, time, of, mone...\n",
       "5    [probabl, my, all, time, favorit, movi, stori,...\n",
       "6    [sure, would, like, to, see, resurrect, of, up...\n",
       "7    [thi, show, wa, an, amaz, fresh, innov, idea, ...\n",
       "8    [encourag, by, the, posit, comment, about, thi...\n",
       "9    [if, you, like, origin, gut, wrench, laughter,...\n",
       "Name: stemmed_tokens, dtype: object"
      ]
     },
     "execution_count": 11,
     "metadata": {},
     "output_type": "execute_result"
    }
   ],
   "source": [
    "#import porterstemmer a suffix stripping algorithm\n",
    "from gensim.parsing.porter import PorterStemmer\n",
    "porter_stemmer = PorterStemmer()\n",
    "# Get the stemmed unicode values for each column\n",
    "imdb['stemmed_tokens'] = [[porter_stemmer.stem(word) for word in tokens] for tokens in imdb['tokenized_text'] ]\n",
    "imdb['stemmed_tokens'].head(10)"
   ]
  },
  {
   "cell_type": "markdown",
   "id": "37339441",
   "metadata": {},
   "source": [
    "We also now split our train and test data sets"
   ]
  },
  {
   "cell_type": "code",
   "execution_count": 13,
   "id": "086c5036",
   "metadata": {},
   "outputs": [],
   "source": [
    "from sklearn.model_selection import train_test_split\n",
    "X_train, X_test, Y_train, Y_test = train_test_split(imdb['stemmed_tokens'], \n",
    "                                                        imdb['sentiment'], \n",
    "                                                        shuffle=True,\n",
    "                                                        test_size=0.2, \n",
    "                                                        random_state=15)"
   ]
  },
  {
   "cell_type": "markdown",
   "id": "7558365d",
   "metadata": {},
   "source": [
    "## Preprocessing\n",
    "\n",
    "Basic preprocessing was conducted such as converting all words to lowercase, stemming, and tokenizing all words so that they can be more easily represented as one-hot encoded vectors that can be passed into our word2vec model"
   ]
  },
  {
   "cell_type": "markdown",
   "id": "89f66bc9",
   "metadata": {},
   "source": [
    "# Question 3"
   ]
  },
  {
   "cell_type": "markdown",
   "id": "32fad276",
   "metadata": {},
   "source": [
    "## Part 1"
   ]
  },
  {
   "cell_type": "markdown",
   "id": "94b072ab",
   "metadata": {},
   "source": [
    "Fitting our Word2Vec model on all stemmed tokens"
   ]
  },
  {
   "cell_type": "code",
   "execution_count": 16,
   "id": "4e88bf68",
   "metadata": {},
   "outputs": [
    {
     "name": "stderr",
     "output_type": "stream",
     "text": [
      "2023-03-13 22:03:44,191 : INFO : collecting all words and their counts\n",
      "2023-03-13 22:03:44,194 : INFO : PROGRESS: at sentence #0, processed 0 words, keeping 0 word types\n",
      "2023-03-13 22:03:44,719 : INFO : PROGRESS: at sentence #10000, processed 2235115 words, keeping 34948 word types\n",
      "2023-03-13 22:03:45,243 : INFO : PROGRESS: at sentence #20000, processed 4471355 words, keeping 46592 word types\n",
      "2023-03-13 22:03:45,764 : INFO : PROGRESS: at sentence #30000, processed 6703795 words, keeping 55178 word types\n",
      "2023-03-13 22:03:46,295 : INFO : PROGRESS: at sentence #40000, processed 8930547 words, keeping 62430 word types\n",
      "2023-03-13 22:03:46,829 : INFO : collected 68818 word types from a corpus of 11176467 raw words and 50000 sentences\n",
      "2023-03-13 22:03:46,829 : INFO : Creating a fresh vocabulary\n",
      "2023-03-13 22:03:46,939 : INFO : Word2Vec lifecycle event {'msg': 'effective_min_count=5 retains 26588 unique words (38.63524078002848%% of original 68818, drops 42230)', 'datetime': '2023-03-13T22:03:46.939753', 'gensim': '4.1.2', 'python': '3.9.13 (main, Aug 25 2022, 18:29:29) \\n[Clang 12.0.0 ]', 'platform': 'macOS-10.16-x86_64-i386-64bit', 'event': 'prepare_vocab'}\n",
      "2023-03-13 22:03:46,940 : INFO : Word2Vec lifecycle event {'msg': 'effective_min_count=5 leaves 11108863 word corpus (99.39512191106546%% of original 11176467, drops 67604)', 'datetime': '2023-03-13T22:03:46.940609', 'gensim': '4.1.2', 'python': '3.9.13 (main, Aug 25 2022, 18:29:29) \\n[Clang 12.0.0 ]', 'platform': 'macOS-10.16-x86_64-i386-64bit', 'event': 'prepare_vocab'}\n",
      "2023-03-13 22:03:47,087 : INFO : deleting the raw counts dictionary of 68818 items\n",
      "2023-03-13 22:03:47,089 : INFO : sample=0.001 downsamples 48 most-common words\n",
      "2023-03-13 22:03:47,090 : INFO : Word2Vec lifecycle event {'msg': 'downsampling leaves estimated 8368333.100896217 word corpus (75.3%% of prior 11108863)', 'datetime': '2023-03-13T22:03:47.090235', 'gensim': '4.1.2', 'python': '3.9.13 (main, Aug 25 2022, 18:29:29) \\n[Clang 12.0.0 ]', 'platform': 'macOS-10.16-x86_64-i386-64bit', 'event': 'prepare_vocab'}\n",
      "2023-03-13 22:03:47,330 : INFO : estimated required memory for 26588 words and 100 dimensions: 34564400 bytes\n",
      "2023-03-13 22:03:47,331 : INFO : resetting layer weights\n",
      "2023-03-13 22:03:47,350 : INFO : Word2Vec lifecycle event {'update': False, 'trim_rule': 'None', 'datetime': '2023-03-13T22:03:47.350529', 'gensim': '4.1.2', 'python': '3.9.13 (main, Aug 25 2022, 18:29:29) \\n[Clang 12.0.0 ]', 'platform': 'macOS-10.16-x86_64-i386-64bit', 'event': 'build_vocab'}\n",
      "2023-03-13 22:03:47,351 : INFO : Word2Vec lifecycle event {'msg': 'training model with 3 workers on 26588 vocabulary and 100 features, using sg=1 hs=0 sample=0.001 negative=5 window=5 shrink_windows=True', 'datetime': '2023-03-13T22:03:47.351248', 'gensim': '4.1.2', 'python': '3.9.13 (main, Aug 25 2022, 18:29:29) \\n[Clang 12.0.0 ]', 'platform': 'macOS-10.16-x86_64-i386-64bit', 'event': 'train'}\n",
      "2023-03-13 22:03:48,366 : INFO : EPOCH 1 - PROGRESS: at 5.55% examples, 457104 words/s, in_qsize 5, out_qsize 0\n",
      "2023-03-13 22:03:49,396 : INFO : EPOCH 1 - PROGRESS: at 11.12% examples, 461104 words/s, in_qsize 5, out_qsize 0\n",
      "2023-03-13 22:03:50,425 : INFO : EPOCH 1 - PROGRESS: at 16.95% examples, 464294 words/s, in_qsize 5, out_qsize 0\n",
      "2023-03-13 22:03:51,432 : INFO : EPOCH 1 - PROGRESS: at 22.40% examples, 463293 words/s, in_qsize 5, out_qsize 0\n",
      "2023-03-13 22:03:52,444 : INFO : EPOCH 1 - PROGRESS: at 28.04% examples, 463505 words/s, in_qsize 5, out_qsize 0\n",
      "2023-03-13 22:03:53,464 : INFO : EPOCH 1 - PROGRESS: at 33.81% examples, 464658 words/s, in_qsize 5, out_qsize 0\n",
      "2023-03-13 22:03:54,474 : INFO : EPOCH 1 - PROGRESS: at 39.48% examples, 464627 words/s, in_qsize 5, out_qsize 0\n",
      "2023-03-13 22:03:55,491 : INFO : EPOCH 1 - PROGRESS: at 44.92% examples, 463428 words/s, in_qsize 5, out_qsize 0\n",
      "2023-03-13 22:03:56,493 : INFO : EPOCH 1 - PROGRESS: at 50.49% examples, 463340 words/s, in_qsize 6, out_qsize 0\n",
      "2023-03-13 22:03:57,496 : INFO : EPOCH 1 - PROGRESS: at 56.14% examples, 464031 words/s, in_qsize 5, out_qsize 0\n",
      "2023-03-13 22:03:58,500 : INFO : EPOCH 1 - PROGRESS: at 61.72% examples, 463968 words/s, in_qsize 5, out_qsize 0\n",
      "2023-03-13 22:03:59,505 : INFO : EPOCH 1 - PROGRESS: at 67.28% examples, 463815 words/s, in_qsize 5, out_qsize 0\n",
      "2023-03-13 22:04:00,528 : INFO : EPOCH 1 - PROGRESS: at 72.75% examples, 462393 words/s, in_qsize 5, out_qsize 0\n",
      "2023-03-13 22:04:01,530 : INFO : EPOCH 1 - PROGRESS: at 78.06% examples, 461027 words/s, in_qsize 5, out_qsize 0\n",
      "2023-03-13 22:04:02,530 : INFO : EPOCH 1 - PROGRESS: at 83.51% examples, 460164 words/s, in_qsize 5, out_qsize 0\n",
      "2023-03-13 22:04:03,537 : INFO : EPOCH 1 - PROGRESS: at 88.83% examples, 460012 words/s, in_qsize 5, out_qsize 0\n",
      "2023-03-13 22:04:04,551 : INFO : EPOCH 1 - PROGRESS: at 94.34% examples, 459825 words/s, in_qsize 5, out_qsize 0\n",
      "2023-03-13 22:04:05,504 : INFO : worker thread finished; awaiting finish of 2 more threads\n",
      "2023-03-13 22:04:05,538 : INFO : worker thread finished; awaiting finish of 1 more threads\n",
      "2023-03-13 22:04:05,538 : INFO : worker thread finished; awaiting finish of 0 more threads\n",
      "2023-03-13 22:04:05,539 : INFO : EPOCH - 1 : training on 11176467 raw words (8369471 effective words) took 18.2s, 460490 effective words/s\n",
      "2023-03-13 22:04:06,561 : INFO : EPOCH 2 - PROGRESS: at 5.46% examples, 443589 words/s, in_qsize 5, out_qsize 0\n",
      "2023-03-13 22:04:07,590 : INFO : EPOCH 2 - PROGRESS: at 10.87% examples, 447041 words/s, in_qsize 5, out_qsize 0\n",
      "2023-03-13 22:04:08,597 : INFO : EPOCH 2 - PROGRESS: at 16.34% examples, 448891 words/s, in_qsize 5, out_qsize 0\n",
      "2023-03-13 22:04:09,601 : INFO : EPOCH 2 - PROGRESS: at 21.55% examples, 446556 words/s, in_qsize 5, out_qsize 0\n",
      "2023-03-13 22:04:10,602 : INFO : EPOCH 2 - PROGRESS: at 26.93% examples, 446710 words/s, in_qsize 5, out_qsize 0\n",
      "2023-03-13 22:04:11,612 : INFO : EPOCH 2 - PROGRESS: at 32.28% examples, 446408 words/s, in_qsize 5, out_qsize 0\n",
      "2023-03-13 22:04:12,613 : INFO : EPOCH 2 - PROGRESS: at 37.54% examples, 444539 words/s, in_qsize 5, out_qsize 0\n",
      "2023-03-13 22:04:13,615 : INFO : EPOCH 2 - PROGRESS: at 42.65% examples, 442896 words/s, in_qsize 5, out_qsize 0\n",
      "2023-03-13 22:04:14,626 : INFO : EPOCH 2 - PROGRESS: at 48.23% examples, 444706 words/s, in_qsize 5, out_qsize 0\n",
      "2023-03-13 22:04:15,640 : INFO : EPOCH 2 - PROGRESS: at 53.61% examples, 444461 words/s, in_qsize 5, out_qsize 0\n",
      "2023-03-13 22:04:16,672 : INFO : EPOCH 2 - PROGRESS: at 59.24% examples, 445053 words/s, in_qsize 5, out_qsize 0\n",
      "2023-03-13 22:04:17,693 : INFO : EPOCH 2 - PROGRESS: at 64.66% examples, 445878 words/s, in_qsize 5, out_qsize 0\n",
      "2023-03-13 22:04:18,716 : INFO : EPOCH 2 - PROGRESS: at 70.29% examples, 446426 words/s, in_qsize 5, out_qsize 0\n",
      "2023-03-13 22:04:19,719 : INFO : EPOCH 2 - PROGRESS: at 75.58% examples, 446098 words/s, in_qsize 5, out_qsize 0\n",
      "2023-03-13 22:04:20,737 : INFO : EPOCH 2 - PROGRESS: at 80.87% examples, 444833 words/s, in_qsize 5, out_qsize 0\n",
      "2023-03-13 22:04:21,745 : INFO : EPOCH 2 - PROGRESS: at 86.12% examples, 444749 words/s, in_qsize 5, out_qsize 0\n",
      "2023-03-13 22:04:22,775 : INFO : EPOCH 2 - PROGRESS: at 91.73% examples, 445851 words/s, in_qsize 6, out_qsize 0\n",
      "2023-03-13 22:04:23,784 : INFO : EPOCH 2 - PROGRESS: at 97.35% examples, 446779 words/s, in_qsize 5, out_qsize 0\n",
      "2023-03-13 22:04:24,217 : INFO : worker thread finished; awaiting finish of 2 more threads\n",
      "2023-03-13 22:04:24,239 : INFO : worker thread finished; awaiting finish of 1 more threads\n",
      "2023-03-13 22:04:24,248 : INFO : worker thread finished; awaiting finish of 0 more threads\n",
      "2023-03-13 22:04:24,248 : INFO : EPOCH - 2 : training on 11176467 raw words (8367539 effective words) took 18.7s, 447392 effective words/s\n",
      "2023-03-13 22:04:25,253 : INFO : EPOCH 3 - PROGRESS: at 5.62% examples, 465450 words/s, in_qsize 5, out_qsize 0\n",
      "2023-03-13 22:04:26,293 : INFO : EPOCH 3 - PROGRESS: at 11.12% examples, 459093 words/s, in_qsize 5, out_qsize 0\n",
      "2023-03-13 22:04:27,295 : INFO : EPOCH 3 - PROGRESS: at 16.51% examples, 455033 words/s, in_qsize 5, out_qsize 0\n",
      "2023-03-13 22:04:28,328 : INFO : EPOCH 3 - PROGRESS: at 21.92% examples, 451677 words/s, in_qsize 5, out_qsize 0\n",
      "2023-03-13 22:04:29,332 : INFO : EPOCH 3 - PROGRESS: at 27.61% examples, 456337 words/s, in_qsize 5, out_qsize 0\n"
     ]
    },
    {
     "name": "stderr",
     "output_type": "stream",
     "text": [
      "2023-03-13 22:04:30,344 : INFO : EPOCH 3 - PROGRESS: at 32.37% examples, 445808 words/s, in_qsize 5, out_qsize 0\n",
      "2023-03-13 22:04:31,359 : INFO : EPOCH 3 - PROGRESS: at 37.18% examples, 437996 words/s, in_qsize 5, out_qsize 0\n",
      "2023-03-13 22:04:32,373 : INFO : EPOCH 3 - PROGRESS: at 42.10% examples, 434643 words/s, in_qsize 5, out_qsize 0\n",
      "2023-03-13 22:04:33,377 : INFO : EPOCH 3 - PROGRESS: at 47.30% examples, 434384 words/s, in_qsize 5, out_qsize 0\n",
      "2023-03-13 22:04:34,389 : INFO : EPOCH 3 - PROGRESS: at 52.90% examples, 436800 words/s, in_qsize 5, out_qsize 0\n",
      "2023-03-13 22:04:35,394 : INFO : EPOCH 3 - PROGRESS: at 58.53% examples, 439095 words/s, in_qsize 5, out_qsize 0\n",
      "2023-03-13 22:04:36,401 : INFO : EPOCH 3 - PROGRESS: at 63.96% examples, 440965 words/s, in_qsize 5, out_qsize 0\n",
      "2023-03-13 22:04:37,409 : INFO : EPOCH 3 - PROGRESS: at 69.55% examples, 442395 words/s, in_qsize 5, out_qsize 0\n",
      "2023-03-13 22:04:38,441 : INFO : EPOCH 3 - PROGRESS: at 75.15% examples, 443002 words/s, in_qsize 5, out_qsize 0\n",
      "2023-03-13 22:04:39,464 : INFO : EPOCH 3 - PROGRESS: at 80.78% examples, 443746 words/s, in_qsize 5, out_qsize 0\n",
      "2023-03-13 22:04:40,481 : INFO : EPOCH 3 - PROGRESS: at 86.21% examples, 444383 words/s, in_qsize 6, out_qsize 0\n",
      "2023-03-13 22:04:41,486 : INFO : EPOCH 3 - PROGRESS: at 91.34% examples, 444010 words/s, in_qsize 5, out_qsize 0\n",
      "2023-03-13 22:04:42,490 : INFO : EPOCH 3 - PROGRESS: at 96.72% examples, 444002 words/s, in_qsize 6, out_qsize 0\n",
      "2023-03-13 22:04:43,052 : INFO : worker thread finished; awaiting finish of 2 more threads\n",
      "2023-03-13 22:04:43,069 : INFO : worker thread finished; awaiting finish of 1 more threads\n",
      "2023-03-13 22:04:43,072 : INFO : worker thread finished; awaiting finish of 0 more threads\n",
      "2023-03-13 22:04:43,073 : INFO : EPOCH - 3 : training on 11176467 raw words (8367125 effective words) took 18.8s, 444602 effective words/s\n",
      "2023-03-13 22:04:44,098 : INFO : EPOCH 4 - PROGRESS: at 5.46% examples, 441307 words/s, in_qsize 5, out_qsize 0\n",
      "2023-03-13 22:04:45,126 : INFO : EPOCH 4 - PROGRESS: at 10.87% examples, 446331 words/s, in_qsize 5, out_qsize 0\n",
      "2023-03-13 22:04:46,136 : INFO : EPOCH 4 - PROGRESS: at 16.34% examples, 447834 words/s, in_qsize 5, out_qsize 0\n",
      "2023-03-13 22:04:47,142 : INFO : EPOCH 4 - PROGRESS: at 21.39% examples, 442038 words/s, in_qsize 5, out_qsize 0\n",
      "2023-03-13 22:04:48,150 : INFO : EPOCH 4 - PROGRESS: at 26.43% examples, 436775 words/s, in_qsize 5, out_qsize 0\n",
      "2023-03-13 22:04:49,155 : INFO : EPOCH 4 - PROGRESS: at 31.54% examples, 434759 words/s, in_qsize 6, out_qsize 0\n",
      "2023-03-13 22:04:50,156 : INFO : EPOCH 4 - PROGRESS: at 36.85% examples, 435632 words/s, in_qsize 5, out_qsize 0\n",
      "2023-03-13 22:04:51,175 : INFO : EPOCH 4 - PROGRESS: at 42.29% examples, 437785 words/s, in_qsize 5, out_qsize 0\n",
      "2023-03-13 22:04:52,190 : INFO : EPOCH 4 - PROGRESS: at 47.84% examples, 439945 words/s, in_qsize 6, out_qsize 0\n",
      "2023-03-13 22:04:53,215 : INFO : EPOCH 4 - PROGRESS: at 53.44% examples, 441243 words/s, in_qsize 5, out_qsize 0\n",
      "2023-03-13 22:04:54,242 : INFO : EPOCH 4 - PROGRESS: at 59.05% examples, 442240 words/s, in_qsize 5, out_qsize 0\n",
      "2023-03-13 22:04:55,264 : INFO : EPOCH 4 - PROGRESS: at 64.48% examples, 443302 words/s, in_qsize 5, out_qsize 0\n",
      "2023-03-13 22:04:56,280 : INFO : EPOCH 4 - PROGRESS: at 70.11% examples, 444275 words/s, in_qsize 5, out_qsize 0\n",
      "2023-03-13 22:04:57,309 : INFO : EPOCH 4 - PROGRESS: at 75.66% examples, 444850 words/s, in_qsize 5, out_qsize 0\n",
      "2023-03-13 22:04:58,331 : INFO : EPOCH 4 - PROGRESS: at 81.28% examples, 445449 words/s, in_qsize 5, out_qsize 0\n",
      "2023-03-13 22:04:59,347 : INFO : EPOCH 4 - PROGRESS: at 86.67% examples, 446070 words/s, in_qsize 5, out_qsize 0\n",
      "2023-03-13 22:05:00,372 : INFO : EPOCH 4 - PROGRESS: at 91.92% examples, 445076 words/s, in_qsize 5, out_qsize 0\n",
      "2023-03-13 22:05:01,397 : INFO : EPOCH 4 - PROGRESS: at 96.98% examples, 443283 words/s, in_qsize 5, out_qsize 0\n",
      "2023-03-13 22:05:01,932 : INFO : worker thread finished; awaiting finish of 2 more threads\n",
      "2023-03-13 22:05:01,963 : INFO : worker thread finished; awaiting finish of 1 more threads\n",
      "2023-03-13 22:05:01,964 : INFO : worker thread finished; awaiting finish of 0 more threads\n",
      "2023-03-13 22:05:01,964 : INFO : EPOCH - 4 : training on 11176467 raw words (8368782 effective words) took 18.9s, 443091 effective words/s\n",
      "2023-03-13 22:05:02,972 : INFO : EPOCH 5 - PROGRESS: at 5.20% examples, 426992 words/s, in_qsize 5, out_qsize 0\n",
      "2023-03-13 22:05:03,992 : INFO : EPOCH 5 - PROGRESS: at 10.64% examples, 440902 words/s, in_qsize 5, out_qsize 0\n",
      "2023-03-13 22:05:05,012 : INFO : EPOCH 5 - PROGRESS: at 16.16% examples, 445352 words/s, in_qsize 6, out_qsize 0\n",
      "2023-03-13 22:05:06,034 : INFO : EPOCH 5 - PROGRESS: at 21.64% examples, 447329 words/s, in_qsize 5, out_qsize 0\n",
      "2023-03-13 22:05:07,044 : INFO : EPOCH 5 - PROGRESS: at 27.19% examples, 449399 words/s, in_qsize 5, out_qsize 0\n",
      "2023-03-13 22:05:08,065 : INFO : EPOCH 5 - PROGRESS: at 32.74% examples, 450270 words/s, in_qsize 5, out_qsize 0\n",
      "2023-03-13 22:05:09,078 : INFO : EPOCH 5 - PROGRESS: at 38.36% examples, 451228 words/s, in_qsize 5, out_qsize 0\n",
      "2023-03-13 22:05:10,085 : INFO : EPOCH 5 - PROGRESS: at 43.71% examples, 451307 words/s, in_qsize 5, out_qsize 0\n",
      "2023-03-13 22:05:11,091 : INFO : EPOCH 5 - PROGRESS: at 49.08% examples, 450764 words/s, in_qsize 5, out_qsize 0\n",
      "2023-03-13 22:05:12,093 : INFO : EPOCH 5 - PROGRESS: at 54.44% examples, 449808 words/s, in_qsize 5, out_qsize 0\n",
      "2023-03-13 22:05:13,094 : INFO : EPOCH 5 - PROGRESS: at 59.73% examples, 449117 words/s, in_qsize 5, out_qsize 0\n",
      "2023-03-13 22:05:14,101 : INFO : EPOCH 5 - PROGRESS: at 65.03% examples, 448916 words/s, in_qsize 5, out_qsize 0\n",
      "2023-03-13 22:05:15,111 : INFO : EPOCH 5 - PROGRESS: at 70.46% examples, 448579 words/s, in_qsize 6, out_qsize 0\n",
      "2023-03-13 22:05:16,139 : INFO : EPOCH 5 - PROGRESS: at 76.01% examples, 448871 words/s, in_qsize 6, out_qsize 0\n",
      "2023-03-13 22:05:17,145 : INFO : EPOCH 5 - PROGRESS: at 81.36% examples, 448237 words/s, in_qsize 6, out_qsize 0\n",
      "2023-03-13 22:05:18,168 : INFO : EPOCH 5 - PROGRESS: at 86.50% examples, 447080 words/s, in_qsize 5, out_qsize 0\n",
      "2023-03-13 22:05:19,192 : INFO : EPOCH 5 - PROGRESS: at 91.73% examples, 446070 words/s, in_qsize 5, out_qsize 0\n",
      "2023-03-13 22:05:20,193 : INFO : EPOCH 5 - PROGRESS: at 97.16% examples, 446355 words/s, in_qsize 5, out_qsize 0\n",
      "2023-03-13 22:05:20,691 : INFO : worker thread finished; awaiting finish of 2 more threads\n",
      "2023-03-13 22:05:20,724 : INFO : worker thread finished; awaiting finish of 1 more threads\n",
      "2023-03-13 22:05:20,726 : INFO : worker thread finished; awaiting finish of 0 more threads\n",
      "2023-03-13 22:05:20,727 : INFO : EPOCH - 5 : training on 11176467 raw words (8368226 effective words) took 18.8s, 446132 effective words/s\n",
      "2023-03-13 22:05:20,727 : INFO : Word2Vec lifecycle event {'msg': 'training on 55882335 raw words (41841143 effective words) took 93.4s, 448107 effective words/s', 'datetime': '2023-03-13T22:05:20.727834', 'gensim': '4.1.2', 'python': '3.9.13 (main, Aug 25 2022, 18:29:29) \\n[Clang 12.0.0 ]', 'platform': 'macOS-10.16-x86_64-i386-64bit', 'event': 'train'}\n",
      "2023-03-13 22:05:20,728 : INFO : Word2Vec lifecycle event {'params': 'Word2Vec(vocab=26588, vector_size=100, alpha=0.025)', 'datetime': '2023-03-13T22:05:20.728338', 'gensim': '4.1.2', 'python': '3.9.13 (main, Aug 25 2022, 18:29:29) \\n[Clang 12.0.0 ]', 'platform': 'macOS-10.16-x86_64-i386-64bit', 'event': 'created'}\n"
     ]
    }
   ],
   "source": [
    "stemmed_tokens = pd.Series(imdb['stemmed_tokens']).values\n",
    "w2v_model = gensim.models.Word2Vec (stemmed_tokens, vector_size=100, window=5, min_count=5, sg=1)"
   ]
  },
  {
   "cell_type": "markdown",
   "id": "8049a4f4",
   "metadata": {},
   "source": [
    "Function to create document vectors by averaging all word vectors, we create an empty list, subset to only words that appear in the W2V corpus, loop through the full length of values, append to a numpy list and then change it back to a dataframe for further use:\n"
   ]
  },
  {
   "cell_type": "code",
   "execution_count": 18,
   "id": "a29059ff",
   "metadata": {
    "scrolled": true
   },
   "outputs": [],
   "source": [
    "def create_doc_vec(X):  \n",
    "    doc_vec=[]\n",
    "    for i in range(0, len(X)):\n",
    "        w2v_words=[word for word in X.iloc[i] if (word in w2v_model.wv.index_to_key)]\n",
    "        doc_vec.append((np.mean([w2v_model.wv[token] for token in w2v_words], axis=0)).tolist())\n",
    "    return pd.DataFrame(doc_vec)"
   ]
  },
  {
   "cell_type": "code",
   "execution_count": 19,
   "id": "264f84dc",
   "metadata": {},
   "outputs": [],
   "source": [
    "w2v_embed_df_train=create_doc_vec(X_train)"
   ]
  },
  {
   "cell_type": "code",
   "execution_count": 20,
   "id": "1ce0296a",
   "metadata": {},
   "outputs": [
    {
     "name": "stderr",
     "output_type": "stream",
     "text": [
      "/Users/arjunvelmurugan/opt/anaconda3/lib/python3.9/site-packages/sklearn/linear_model/_logistic.py:814: ConvergenceWarning: lbfgs failed to converge (status=1):\n",
      "STOP: TOTAL NO. of ITERATIONS REACHED LIMIT.\n",
      "\n",
      "Increase the number of iterations (max_iter) or scale the data as shown in:\n",
      "    https://scikit-learn.org/stable/modules/preprocessing.html\n",
      "Please also refer to the documentation for alternative solver options:\n",
      "    https://scikit-learn.org/stable/modules/linear_model.html#logistic-regression\n",
      "  n_iter_i = _check_optimize_result(\n"
     ]
    },
    {
     "data": {
      "text/plain": [
       "LogisticRegression(n_jobs=1)"
      ]
     },
     "execution_count": 20,
     "metadata": {},
     "output_type": "execute_result"
    }
   ],
   "source": [
    "from sklearn.linear_model import LogisticRegression\n",
    "logreg = LogisticRegression(n_jobs=1)\n",
    "logreg.fit(w2v_embed_df_train, Y_train)"
   ]
  },
  {
   "cell_type": "code",
   "execution_count": 21,
   "id": "ad4dabb1",
   "metadata": {},
   "outputs": [],
   "source": [
    "from sklearn.metrics import classification_report"
   ]
  },
  {
   "cell_type": "code",
   "execution_count": 22,
   "id": "cc03b5d5",
   "metadata": {},
   "outputs": [
    {
     "name": "stdout",
     "output_type": "stream",
     "text": [
      "              precision    recall  f1-score   support\n",
      "\n",
      "    negative       0.86      0.87      0.86      4988\n",
      "    positive       0.87      0.86      0.86      5012\n",
      "\n",
      "    accuracy                           0.86     10000\n",
      "   macro avg       0.86      0.86      0.86     10000\n",
      "weighted avg       0.86      0.86      0.86     10000\n",
      "\n"
     ]
    }
   ],
   "source": [
    "#evaluate performance on test set\n",
    "doc_vec_test=create_doc_vec(X_test)\n",
    "test_predictions_word2vec = logreg.predict(doc_vec_test)\n",
    "print(classification_report(Y_test,test_predictions_word2vec))"
   ]
  },
  {
   "cell_type": "code",
   "execution_count": 23,
   "id": "5d235acb",
   "metadata": {},
   "outputs": [
    {
     "data": {
      "text/plain": [
       "0.866275"
      ]
     },
     "execution_count": 23,
     "metadata": {},
     "output_type": "execute_result"
    }
   ],
   "source": [
    "train_predictions_word2vec=logreg.predict(w2v_embed_df_train)\n",
    "classification_report(Y_train, train_predictions_word2vec, output_dict=True)['accuracy']"
   ]
  },
  {
   "cell_type": "code",
   "execution_count": 24,
   "id": "32ccccab",
   "metadata": {},
   "outputs": [
    {
     "data": {
      "text/plain": [
       "0.863"
      ]
     },
     "execution_count": 24,
     "metadata": {},
     "output_type": "execute_result"
    }
   ],
   "source": [
    "classification_report(Y_test, test_predictions_word2vec, output_dict=True)['accuracy']"
   ]
  },
  {
   "cell_type": "code",
   "execution_count": 25,
   "id": "d5f7b24d",
   "metadata": {},
   "outputs": [
    {
     "name": "stdout",
     "output_type": "stream",
     "text": [
      "[[4317  671]\n",
      " [ 699 4313]]\n"
     ]
    }
   ],
   "source": [
    "from sklearn.metrics import confusion_matrix\n",
    "confusion_matrix = confusion_matrix(Y_test, test_predictions_word2vec)\n",
    "print(confusion_matrix)"
   ]
  },
  {
   "cell_type": "markdown",
   "id": "11afc19b",
   "metadata": {},
   "source": [
    "## Analysis:\n",
    "\n",
    "We have a balanced set of classes and a very decent confusion matrix, 86% is quite decent. We have a good classifier on our hands"
   ]
  },
  {
   "cell_type": "markdown",
   "id": "02c09b9d",
   "metadata": {},
   "source": [
    "## Part 2"
   ]
  },
  {
   "cell_type": "code",
   "execution_count": 26,
   "id": "aeba5f01",
   "metadata": {
    "scrolled": true
   },
   "outputs": [
    {
     "name": "stderr",
     "output_type": "stream",
     "text": [
      "2023-03-13 22:24:57,194 : INFO : collecting all words and their counts\n",
      "2023-03-13 22:24:57,195 : INFO : PROGRESS: at sentence #0, processed 0 words, keeping 0 word types\n",
      "2023-03-13 22:24:57,545 : INFO : PROGRESS: at sentence #10000, processed 2235115 words, keeping 34948 word types\n",
      "2023-03-13 22:24:57,887 : INFO : PROGRESS: at sentence #20000, processed 4471355 words, keeping 46592 word types\n",
      "2023-03-13 22:24:58,243 : INFO : PROGRESS: at sentence #30000, processed 6703795 words, keeping 55178 word types\n",
      "2023-03-13 22:24:58,602 : INFO : PROGRESS: at sentence #40000, processed 8930547 words, keeping 62430 word types\n",
      "2023-03-13 22:24:58,976 : INFO : collected 68818 word types from a corpus of 11176467 raw words and 50000 sentences\n",
      "2023-03-13 22:24:58,977 : INFO : Creating a fresh vocabulary\n",
      "2023-03-13 22:24:59,092 : INFO : Word2Vec lifecycle event {'msg': 'effective_min_count=5 retains 26588 unique words (38.63524078002848%% of original 68818, drops 42230)', 'datetime': '2023-03-13T22:24:59.092782', 'gensim': '4.1.2', 'python': '3.9.13 (main, Aug 25 2022, 18:29:29) \\n[Clang 12.0.0 ]', 'platform': 'macOS-10.16-x86_64-i386-64bit', 'event': 'prepare_vocab'}\n",
      "2023-03-13 22:24:59,093 : INFO : Word2Vec lifecycle event {'msg': 'effective_min_count=5 leaves 11108863 word corpus (99.39512191106546%% of original 11176467, drops 67604)', 'datetime': '2023-03-13T22:24:59.093536', 'gensim': '4.1.2', 'python': '3.9.13 (main, Aug 25 2022, 18:29:29) \\n[Clang 12.0.0 ]', 'platform': 'macOS-10.16-x86_64-i386-64bit', 'event': 'prepare_vocab'}\n",
      "2023-03-13 22:24:59,244 : INFO : deleting the raw counts dictionary of 68818 items\n",
      "2023-03-13 22:24:59,246 : INFO : sample=0.001 downsamples 48 most-common words\n",
      "2023-03-13 22:24:59,247 : INFO : Word2Vec lifecycle event {'msg': 'downsampling leaves estimated 8368333.100896217 word corpus (75.3%% of prior 11108863)', 'datetime': '2023-03-13T22:24:59.247042', 'gensim': '4.1.2', 'python': '3.9.13 (main, Aug 25 2022, 18:29:29) \\n[Clang 12.0.0 ]', 'platform': 'macOS-10.16-x86_64-i386-64bit', 'event': 'prepare_vocab'}\n",
      "2023-03-13 22:24:59,490 : INFO : estimated required memory for 26588 words and 25 dimensions: 18611600 bytes\n",
      "2023-03-13 22:24:59,490 : INFO : resetting layer weights\n",
      "2023-03-13 22:24:59,494 : INFO : Word2Vec lifecycle event {'update': False, 'trim_rule': 'None', 'datetime': '2023-03-13T22:24:59.494480', 'gensim': '4.1.2', 'python': '3.9.13 (main, Aug 25 2022, 18:29:29) \\n[Clang 12.0.0 ]', 'platform': 'macOS-10.16-x86_64-i386-64bit', 'event': 'build_vocab'}\n",
      "2023-03-13 22:24:59,495 : INFO : Word2Vec lifecycle event {'msg': 'training model with 3 workers on 26588 vocabulary and 25 features, using sg=1 hs=0 sample=0.001 negative=5 window=5 shrink_windows=True', 'datetime': '2023-03-13T22:24:59.495064', 'gensim': '4.1.2', 'python': '3.9.13 (main, Aug 25 2022, 18:29:29) \\n[Clang 12.0.0 ]', 'platform': 'macOS-10.16-x86_64-i386-64bit', 'event': 'train'}\n",
      "2023-03-13 22:25:00,517 : INFO : EPOCH 1 - PROGRESS: at 6.19% examples, 509494 words/s, in_qsize 5, out_qsize 0\n",
      "2023-03-13 22:25:01,518 : INFO : EPOCH 1 - PROGRESS: at 12.37% examples, 519323 words/s, in_qsize 6, out_qsize 0\n",
      "2023-03-13 22:25:02,529 : INFO : EPOCH 1 - PROGRESS: at 19.04% examples, 527855 words/s, in_qsize 5, out_qsize 0\n",
      "2023-03-13 22:25:03,534 : INFO : EPOCH 1 - PROGRESS: at 25.53% examples, 531135 words/s, in_qsize 5, out_qsize 0\n",
      "2023-03-13 22:25:04,536 : INFO : EPOCH 1 - PROGRESS: at 32.04% examples, 533565 words/s, in_qsize 5, out_qsize 0\n",
      "2023-03-13 22:25:05,545 : INFO : EPOCH 1 - PROGRESS: at 38.63% examples, 534273 words/s, in_qsize 5, out_qsize 0\n",
      "2023-03-13 22:25:06,548 : INFO : EPOCH 1 - PROGRESS: at 45.01% examples, 535338 words/s, in_qsize 5, out_qsize 0\n",
      "2023-03-13 22:25:07,551 : INFO : EPOCH 1 - PROGRESS: at 51.67% examples, 538246 words/s, in_qsize 5, out_qsize 0\n",
      "2023-03-13 22:25:08,563 : INFO : EPOCH 1 - PROGRESS: at 58.53% examples, 539903 words/s, in_qsize 5, out_qsize 0\n",
      "2023-03-13 22:25:09,578 : INFO : EPOCH 1 - PROGRESS: at 65.03% examples, 540409 words/s, in_qsize 5, out_qsize 0\n",
      "2023-03-13 22:25:10,602 : INFO : EPOCH 1 - PROGRESS: at 71.68% examples, 540265 words/s, in_qsize 5, out_qsize 0\n",
      "2023-03-13 22:25:11,604 : INFO : EPOCH 1 - PROGRESS: at 78.25% examples, 540742 words/s, in_qsize 6, out_qsize 0\n",
      "2023-03-13 22:25:12,613 : INFO : EPOCH 1 - PROGRESS: at 84.94% examples, 541776 words/s, in_qsize 5, out_qsize 0\n",
      "2023-03-13 22:25:13,620 : INFO : EPOCH 1 - PROGRESS: at 91.64% examples, 543592 words/s, in_qsize 6, out_qsize 0\n",
      "2023-03-13 22:25:14,630 : INFO : EPOCH 1 - PROGRESS: at 98.60% examples, 545498 words/s, in_qsize 6, out_qsize 0\n",
      "2023-03-13 22:25:14,809 : INFO : worker thread finished; awaiting finish of 2 more threads\n",
      "2023-03-13 22:25:14,822 : INFO : worker thread finished; awaiting finish of 1 more threads\n",
      "2023-03-13 22:25:14,823 : INFO : worker thread finished; awaiting finish of 0 more threads\n",
      "2023-03-13 22:25:14,824 : INFO : EPOCH - 1 : training on 11176467 raw words (8369261 effective words) took 15.3s, 546197 effective words/s\n",
      "2023-03-13 22:25:15,857 : INFO : EPOCH 2 - PROGRESS: at 6.74% examples, 546119 words/s, in_qsize 5, out_qsize 0\n",
      "2023-03-13 22:25:16,859 : INFO : EPOCH 2 - PROGRESS: at 12.96% examples, 537369 words/s, in_qsize 5, out_qsize 0\n",
      "2023-03-13 22:25:17,872 : INFO : EPOCH 2 - PROGRESS: at 19.23% examples, 530038 words/s, in_qsize 5, out_qsize 0\n",
      "2023-03-13 22:25:18,890 : INFO : EPOCH 2 - PROGRESS: at 25.53% examples, 527379 words/s, in_qsize 5, out_qsize 0\n",
      "2023-03-13 22:25:19,907 : INFO : EPOCH 2 - PROGRESS: at 31.89% examples, 526109 words/s, in_qsize 5, out_qsize 0\n",
      "2023-03-13 22:25:20,909 : INFO : EPOCH 2 - PROGRESS: at 38.29% examples, 526295 words/s, in_qsize 5, out_qsize 0\n",
      "2023-03-13 22:25:21,935 : INFO : EPOCH 2 - PROGRESS: at 44.75% examples, 527717 words/s, in_qsize 5, out_qsize 0\n",
      "2023-03-13 22:25:22,965 : INFO : EPOCH 2 - PROGRESS: at 51.59% examples, 531635 words/s, in_qsize 5, out_qsize 0\n",
      "2023-03-13 22:25:23,983 : INFO : EPOCH 2 - PROGRESS: at 58.35% examples, 532903 words/s, in_qsize 5, out_qsize 0\n",
      "2023-03-13 22:25:24,996 : INFO : EPOCH 2 - PROGRESS: at 64.58% examples, 531994 words/s, in_qsize 5, out_qsize 0\n",
      "2023-03-13 22:25:26,019 : INFO : EPOCH 2 - PROGRESS: at 70.46% examples, 526772 words/s, in_qsize 5, out_qsize 0\n",
      "2023-03-13 22:25:27,044 : INFO : EPOCH 2 - PROGRESS: at 76.29% examples, 522497 words/s, in_qsize 5, out_qsize 0\n",
      "2023-03-13 22:25:28,045 : INFO : EPOCH 2 - PROGRESS: at 82.52% examples, 521839 words/s, in_qsize 5, out_qsize 0\n",
      "2023-03-13 22:25:29,062 : INFO : EPOCH 2 - PROGRESS: at 88.57% examples, 521044 words/s, in_qsize 6, out_qsize 0\n",
      "2023-03-13 22:25:30,086 : INFO : EPOCH 2 - PROGRESS: at 94.89% examples, 520735 words/s, in_qsize 5, out_qsize 0\n",
      "2023-03-13 22:25:30,842 : INFO : worker thread finished; awaiting finish of 2 more threads\n",
      "2023-03-13 22:25:30,869 : INFO : worker thread finished; awaiting finish of 1 more threads\n",
      "2023-03-13 22:25:30,871 : INFO : worker thread finished; awaiting finish of 0 more threads\n",
      "2023-03-13 22:25:30,871 : INFO : EPOCH - 2 : training on 11176467 raw words (8367825 effective words) took 16.0s, 521595 effective words/s\n",
      "2023-03-13 22:25:31,898 : INFO : EPOCH 3 - PROGRESS: at 6.19% examples, 505888 words/s, in_qsize 5, out_qsize 0\n",
      "2023-03-13 22:25:32,910 : INFO : EPOCH 3 - PROGRESS: at 12.37% examples, 514941 words/s, in_qsize 5, out_qsize 0\n",
      "2023-03-13 22:25:33,915 : INFO : EPOCH 3 - PROGRESS: at 18.75% examples, 518669 words/s, in_qsize 5, out_qsize 0\n",
      "2023-03-13 22:25:34,930 : INFO : EPOCH 3 - PROGRESS: at 25.46% examples, 526495 words/s, in_qsize 6, out_qsize 0\n",
      "2023-03-13 22:25:35,933 : INFO : EPOCH 3 - PROGRESS: at 32.20% examples, 534077 words/s, in_qsize 5, out_qsize 0\n",
      "2023-03-13 22:25:36,936 : INFO : EPOCH 3 - PROGRESS: at 39.08% examples, 538985 words/s, in_qsize 5, out_qsize 0\n",
      "2023-03-13 22:25:37,936 : INFO : EPOCH 3 - PROGRESS: at 45.53% examples, 540554 words/s, in_qsize 5, out_qsize 0\n",
      "2023-03-13 22:25:38,953 : INFO : EPOCH 3 - PROGRESS: at 52.04% examples, 540001 words/s, in_qsize 5, out_qsize 0\n",
      "2023-03-13 22:25:39,980 : INFO : EPOCH 3 - PROGRESS: at 58.80% examples, 539812 words/s, in_qsize 6, out_qsize 0\n",
      "2023-03-13 22:25:40,998 : INFO : EPOCH 3 - PROGRESS: at 65.35% examples, 540842 words/s, in_qsize 5, out_qsize 0\n"
     ]
    },
    {
     "name": "stderr",
     "output_type": "stream",
     "text": [
      "2023-03-13 22:25:42,004 : INFO : EPOCH 3 - PROGRESS: at 72.04% examples, 541560 words/s, in_qsize 5, out_qsize 0\n",
      "2023-03-13 22:25:43,014 : INFO : EPOCH 3 - PROGRESS: at 78.80% examples, 542819 words/s, in_qsize 6, out_qsize 0\n",
      "2023-03-13 22:25:44,021 : INFO : EPOCH 3 - PROGRESS: at 85.45% examples, 543761 words/s, in_qsize 5, out_qsize 0\n",
      "2023-03-13 22:25:45,033 : INFO : EPOCH 3 - PROGRESS: at 92.00% examples, 544216 words/s, in_qsize 5, out_qsize 0\n",
      "2023-03-13 22:25:46,050 : INFO : EPOCH 3 - PROGRESS: at 98.60% examples, 543835 words/s, in_qsize 5, out_qsize 0\n",
      "2023-03-13 22:25:46,225 : INFO : worker thread finished; awaiting finish of 2 more threads\n",
      "2023-03-13 22:25:46,254 : INFO : worker thread finished; awaiting finish of 1 more threads\n",
      "2023-03-13 22:25:46,256 : INFO : worker thread finished; awaiting finish of 0 more threads\n",
      "2023-03-13 22:25:46,257 : INFO : EPOCH - 3 : training on 11176467 raw words (8368857 effective words) took 15.4s, 544103 effective words/s\n",
      "2023-03-13 22:25:47,283 : INFO : EPOCH 4 - PROGRESS: at 6.47% examples, 527976 words/s, in_qsize 6, out_qsize 0\n",
      "2023-03-13 22:25:48,289 : INFO : EPOCH 4 - PROGRESS: at 12.96% examples, 538006 words/s, in_qsize 6, out_qsize 0\n",
      "2023-03-13 22:25:49,294 : INFO : EPOCH 4 - PROGRESS: at 19.79% examples, 546339 words/s, in_qsize 5, out_qsize 0\n",
      "2023-03-13 22:25:50,301 : INFO : EPOCH 4 - PROGRESS: at 25.90% examples, 537551 words/s, in_qsize 5, out_qsize 0\n",
      "2023-03-13 22:25:51,312 : INFO : EPOCH 4 - PROGRESS: at 32.20% examples, 534831 words/s, in_qsize 5, out_qsize 0\n",
      "2023-03-13 22:25:52,339 : INFO : EPOCH 4 - PROGRESS: at 38.71% examples, 532531 words/s, in_qsize 5, out_qsize 0\n",
      "2023-03-13 22:25:53,344 : INFO : EPOCH 4 - PROGRESS: at 45.18% examples, 534661 words/s, in_qsize 5, out_qsize 0\n",
      "2023-03-13 22:25:54,349 : INFO : EPOCH 4 - PROGRESS: at 51.76% examples, 536610 words/s, in_qsize 5, out_qsize 0\n",
      "2023-03-13 22:25:55,351 : INFO : EPOCH 4 - PROGRESS: at 58.53% examples, 538288 words/s, in_qsize 5, out_qsize 0\n",
      "2023-03-13 22:25:56,360 : INFO : EPOCH 4 - PROGRESS: at 65.03% examples, 539206 words/s, in_qsize 6, out_qsize 1\n",
      "2023-03-13 22:25:57,379 : INFO : EPOCH 4 - PROGRESS: at 71.68% examples, 539369 words/s, in_qsize 6, out_qsize 0\n",
      "2023-03-13 22:25:58,403 : INFO : EPOCH 4 - PROGRESS: at 78.32% examples, 539576 words/s, in_qsize 6, out_qsize 0\n",
      "2023-03-13 22:25:59,430 : INFO : EPOCH 4 - PROGRESS: at 84.94% examples, 539412 words/s, in_qsize 6, out_qsize 0\n",
      "2023-03-13 22:26:00,432 : INFO : EPOCH 4 - PROGRESS: at 91.25% examples, 539515 words/s, in_qsize 5, out_qsize 0\n",
      "2023-03-13 22:26:01,452 : INFO : EPOCH 4 - PROGRESS: at 97.78% examples, 538870 words/s, in_qsize 5, out_qsize 0\n",
      "2023-03-13 22:26:01,746 : INFO : worker thread finished; awaiting finish of 2 more threads\n",
      "2023-03-13 22:26:01,774 : INFO : worker thread finished; awaiting finish of 1 more threads\n",
      "2023-03-13 22:26:01,775 : INFO : worker thread finished; awaiting finish of 0 more threads\n",
      "2023-03-13 22:26:01,776 : INFO : EPOCH - 4 : training on 11176467 raw words (8367815 effective words) took 15.5s, 539378 effective words/s\n",
      "2023-03-13 22:26:02,801 : INFO : EPOCH 5 - PROGRESS: at 6.47% examples, 528550 words/s, in_qsize 5, out_qsize 0\n",
      "2023-03-13 22:26:03,815 : INFO : EPOCH 5 - PROGRESS: at 12.96% examples, 536164 words/s, in_qsize 5, out_qsize 0\n",
      "2023-03-13 22:26:04,817 : INFO : EPOCH 5 - PROGRESS: at 19.70% examples, 543327 words/s, in_qsize 5, out_qsize 0\n",
      "2023-03-13 22:26:05,826 : INFO : EPOCH 5 - PROGRESS: at 26.33% examples, 545792 words/s, in_qsize 6, out_qsize 0\n",
      "2023-03-13 22:26:06,827 : INFO : EPOCH 5 - PROGRESS: at 32.49% examples, 539701 words/s, in_qsize 5, out_qsize 0\n",
      "2023-03-13 22:26:07,838 : INFO : EPOCH 5 - PROGRESS: at 38.54% examples, 531896 words/s, in_qsize 6, out_qsize 0\n",
      "2023-03-13 22:26:08,845 : INFO : EPOCH 5 - PROGRESS: at 44.67% examples, 529879 words/s, in_qsize 5, out_qsize 0\n",
      "2023-03-13 22:26:09,861 : INFO : EPOCH 5 - PROGRESS: at 51.10% examples, 529720 words/s, in_qsize 5, out_qsize 0\n",
      "2023-03-13 22:26:10,864 : INFO : EPOCH 5 - PROGRESS: at 57.87% examples, 532981 words/s, in_qsize 5, out_qsize 0\n",
      "2023-03-13 22:26:11,867 : INFO : EPOCH 5 - PROGRESS: at 64.48% examples, 535474 words/s, in_qsize 5, out_qsize 0\n",
      "2023-03-13 22:26:12,872 : INFO : EPOCH 5 - PROGRESS: at 70.97% examples, 535315 words/s, in_qsize 6, out_qsize 0\n",
      "2023-03-13 22:26:13,900 : INFO : EPOCH 5 - PROGRESS: at 77.63% examples, 535677 words/s, in_qsize 6, out_qsize 0\n",
      "2023-03-13 22:26:14,914 : INFO : EPOCH 5 - PROGRESS: at 84.28% examples, 536287 words/s, in_qsize 5, out_qsize 0\n",
      "2023-03-13 22:26:15,931 : INFO : EPOCH 5 - PROGRESS: at 90.67% examples, 536551 words/s, in_qsize 5, out_qsize 0\n",
      "2023-03-13 22:26:16,961 : INFO : EPOCH 5 - PROGRESS: at 97.25% examples, 536288 words/s, in_qsize 5, out_qsize 0\n",
      "2023-03-13 22:26:17,338 : INFO : worker thread finished; awaiting finish of 2 more threads\n",
      "2023-03-13 22:26:17,366 : INFO : worker thread finished; awaiting finish of 1 more threads\n",
      "2023-03-13 22:26:17,367 : INFO : worker thread finished; awaiting finish of 0 more threads\n",
      "2023-03-13 22:26:17,367 : INFO : EPOCH - 5 : training on 11176467 raw words (8367619 effective words) took 15.6s, 536839 effective words/s\n",
      "2023-03-13 22:26:17,368 : INFO : Word2Vec lifecycle event {'msg': 'training on 55882335 raw words (41841377 effective words) took 77.9s, 537320 effective words/s', 'datetime': '2023-03-13T22:26:17.368045', 'gensim': '4.1.2', 'python': '3.9.13 (main, Aug 25 2022, 18:29:29) \\n[Clang 12.0.0 ]', 'platform': 'macOS-10.16-x86_64-i386-64bit', 'event': 'train'}\n",
      "2023-03-13 22:26:17,368 : INFO : Word2Vec lifecycle event {'params': 'Word2Vec(vocab=26588, vector_size=25, alpha=0.025)', 'datetime': '2023-03-13T22:26:17.368445', 'gensim': '4.1.2', 'python': '3.9.13 (main, Aug 25 2022, 18:29:29) \\n[Clang 12.0.0 ]', 'platform': 'macOS-10.16-x86_64-i386-64bit', 'event': 'created'}\n"
     ]
    },
    {
     "name": "stdout",
     "output_type": "stream",
     "text": [
      "CLASSIFICATION REPORT FOR SIZE= 25\n",
      "              precision    recall  f1-score   support\n",
      "\n",
      "    negative       0.83      0.83      0.83      4988\n",
      "    positive       0.83      0.83      0.83      5012\n",
      "\n",
      "    accuracy                           0.83     10000\n",
      "   macro avg       0.83      0.83      0.83     10000\n",
      "weighted avg       0.83      0.83      0.83     10000\n",
      "\n"
     ]
    },
    {
     "name": "stderr",
     "output_type": "stream",
     "text": [
      "2023-03-13 22:31:31,738 : INFO : collecting all words and their counts\n",
      "2023-03-13 22:31:31,740 : INFO : PROGRESS: at sentence #0, processed 0 words, keeping 0 word types\n",
      "2023-03-13 22:31:32,150 : INFO : PROGRESS: at sentence #10000, processed 2235115 words, keeping 34948 word types\n",
      "2023-03-13 22:31:32,635 : INFO : PROGRESS: at sentence #20000, processed 4471355 words, keeping 46592 word types\n",
      "2023-03-13 22:31:33,113 : INFO : PROGRESS: at sentence #30000, processed 6703795 words, keeping 55178 word types\n",
      "2023-03-13 22:31:33,600 : INFO : PROGRESS: at sentence #40000, processed 8930547 words, keeping 62430 word types\n",
      "2023-03-13 22:31:34,077 : INFO : collected 68818 word types from a corpus of 11176467 raw words and 50000 sentences\n",
      "2023-03-13 22:31:34,078 : INFO : Creating a fresh vocabulary\n",
      "2023-03-13 22:31:34,184 : INFO : Word2Vec lifecycle event {'msg': 'effective_min_count=5 retains 26588 unique words (38.63524078002848%% of original 68818, drops 42230)', 'datetime': '2023-03-13T22:31:34.184510', 'gensim': '4.1.2', 'python': '3.9.13 (main, Aug 25 2022, 18:29:29) \\n[Clang 12.0.0 ]', 'platform': 'macOS-10.16-x86_64-i386-64bit', 'event': 'prepare_vocab'}\n",
      "2023-03-13 22:31:34,185 : INFO : Word2Vec lifecycle event {'msg': 'effective_min_count=5 leaves 11108863 word corpus (99.39512191106546%% of original 11176467, drops 67604)', 'datetime': '2023-03-13T22:31:34.185495', 'gensim': '4.1.2', 'python': '3.9.13 (main, Aug 25 2022, 18:29:29) \\n[Clang 12.0.0 ]', 'platform': 'macOS-10.16-x86_64-i386-64bit', 'event': 'prepare_vocab'}\n",
      "2023-03-13 22:31:34,330 : INFO : deleting the raw counts dictionary of 68818 items\n",
      "2023-03-13 22:31:34,332 : INFO : sample=0.001 downsamples 48 most-common words\n",
      "2023-03-13 22:31:34,332 : INFO : Word2Vec lifecycle event {'msg': 'downsampling leaves estimated 8368333.100896217 word corpus (75.3%% of prior 11108863)', 'datetime': '2023-03-13T22:31:34.332728', 'gensim': '4.1.2', 'python': '3.9.13 (main, Aug 25 2022, 18:29:29) \\n[Clang 12.0.0 ]', 'platform': 'macOS-10.16-x86_64-i386-64bit', 'event': 'prepare_vocab'}\n",
      "2023-03-13 22:31:34,569 : INFO : estimated required memory for 26588 words and 50 dimensions: 23929200 bytes\n",
      "2023-03-13 22:31:34,570 : INFO : resetting layer weights\n",
      "2023-03-13 22:31:34,577 : INFO : Word2Vec lifecycle event {'update': False, 'trim_rule': 'None', 'datetime': '2023-03-13T22:31:34.577627', 'gensim': '4.1.2', 'python': '3.9.13 (main, Aug 25 2022, 18:29:29) \\n[Clang 12.0.0 ]', 'platform': 'macOS-10.16-x86_64-i386-64bit', 'event': 'build_vocab'}\n",
      "2023-03-13 22:31:34,578 : INFO : Word2Vec lifecycle event {'msg': 'training model with 3 workers on 26588 vocabulary and 50 features, using sg=1 hs=0 sample=0.001 negative=5 window=5 shrink_windows=True', 'datetime': '2023-03-13T22:31:34.578570', 'gensim': '4.1.2', 'python': '3.9.13 (main, Aug 25 2022, 18:29:29) \\n[Clang 12.0.0 ]', 'platform': 'macOS-10.16-x86_64-i386-64bit', 'event': 'train'}\n",
      "2023-03-13 22:31:35,582 : INFO : EPOCH 1 - PROGRESS: at 6.29% examples, 524610 words/s, in_qsize 6, out_qsize 0\n",
      "2023-03-13 22:31:36,611 : INFO : EPOCH 1 - PROGRESS: at 12.38% examples, 515879 words/s, in_qsize 5, out_qsize 0\n",
      "2023-03-13 22:31:37,614 : INFO : EPOCH 1 - PROGRESS: at 18.48% examples, 512608 words/s, in_qsize 5, out_qsize 0\n",
      "2023-03-13 22:31:38,629 : INFO : EPOCH 1 - PROGRESS: at 24.57% examples, 509202 words/s, in_qsize 5, out_qsize 0\n",
      "2023-03-13 22:31:39,639 : INFO : EPOCH 1 - PROGRESS: at 30.66% examples, 507900 words/s, in_qsize 5, out_qsize 0\n",
      "2023-03-13 22:31:40,653 : INFO : EPOCH 1 - PROGRESS: at 36.85% examples, 507933 words/s, in_qsize 5, out_qsize 0\n",
      "2023-03-13 22:31:41,664 : INFO : EPOCH 1 - PROGRESS: at 42.81% examples, 506712 words/s, in_qsize 5, out_qsize 0\n",
      "2023-03-13 22:31:42,671 : INFO : EPOCH 1 - PROGRESS: at 48.91% examples, 506507 words/s, in_qsize 5, out_qsize 0\n",
      "2023-03-13 22:31:43,683 : INFO : EPOCH 1 - PROGRESS: at 55.03% examples, 506019 words/s, in_qsize 5, out_qsize 0\n",
      "2023-03-13 22:31:44,686 : INFO : EPOCH 1 - PROGRESS: at 60.84% examples, 503972 words/s, in_qsize 5, out_qsize 0\n",
      "2023-03-13 22:31:45,689 : INFO : EPOCH 1 - PROGRESS: at 66.72% examples, 502899 words/s, in_qsize 5, out_qsize 0\n",
      "2023-03-13 22:31:46,698 : INFO : EPOCH 1 - PROGRESS: at 73.01% examples, 504071 words/s, in_qsize 6, out_qsize 0\n",
      "2023-03-13 22:31:47,706 : INFO : EPOCH 1 - PROGRESS: at 79.25% examples, 504864 words/s, in_qsize 5, out_qsize 0\n",
      "2023-03-13 22:31:48,718 : INFO : EPOCH 1 - PROGRESS: at 85.53% examples, 506130 words/s, in_qsize 5, out_qsize 0\n",
      "2023-03-13 22:31:49,733 : INFO : EPOCH 1 - PROGRESS: at 91.73% examples, 507046 words/s, in_qsize 5, out_qsize 0\n",
      "2023-03-13 22:31:50,753 : INFO : EPOCH 1 - PROGRESS: at 98.07% examples, 507606 words/s, in_qsize 6, out_qsize 0\n",
      "2023-03-13 22:31:51,016 : INFO : worker thread finished; awaiting finish of 2 more threads\n",
      "2023-03-13 22:31:51,046 : INFO : worker thread finished; awaiting finish of 1 more threads\n",
      "2023-03-13 22:31:51,048 : INFO : worker thread finished; awaiting finish of 0 more threads\n",
      "2023-03-13 22:31:51,048 : INFO : EPOCH - 1 : training on 11176467 raw words (8369279 effective words) took 16.5s, 508262 effective words/s\n",
      "2023-03-13 22:31:52,080 : INFO : EPOCH 2 - PROGRESS: at 6.19% examples, 504035 words/s, in_qsize 5, out_qsize 0\n",
      "2023-03-13 22:31:53,098 : INFO : EPOCH 2 - PROGRESS: at 12.37% examples, 512179 words/s, in_qsize 6, out_qsize 0\n",
      "2023-03-13 22:31:54,115 : INFO : EPOCH 2 - PROGRESS: at 18.75% examples, 514892 words/s, in_qsize 5, out_qsize 0\n",
      "2023-03-13 22:31:55,131 : INFO : EPOCH 2 - PROGRESS: at 25.10% examples, 516244 words/s, in_qsize 5, out_qsize 0\n",
      "2023-03-13 22:31:56,150 : INFO : EPOCH 2 - PROGRESS: at 31.44% examples, 517016 words/s, in_qsize 5, out_qsize 0\n",
      "2023-03-13 22:31:57,172 : INFO : EPOCH 2 - PROGRESS: at 37.27% examples, 509943 words/s, in_qsize 6, out_qsize 0\n",
      "2023-03-13 22:31:58,196 : INFO : EPOCH 2 - PROGRESS: at 43.10% examples, 505573 words/s, in_qsize 5, out_qsize 0\n",
      "2023-03-13 22:31:59,215 : INFO : EPOCH 2 - PROGRESS: at 49.18% examples, 504652 words/s, in_qsize 5, out_qsize 0\n",
      "2023-03-13 22:32:00,241 : INFO : EPOCH 2 - PROGRESS: at 55.55% examples, 506016 words/s, in_qsize 5, out_qsize 0\n",
      "2023-03-13 22:32:01,260 : INFO : EPOCH 2 - PROGRESS: at 61.89% examples, 507537 words/s, in_qsize 5, out_qsize 0\n",
      "2023-03-13 22:32:02,277 : INFO : EPOCH 2 - PROGRESS: at 68.28% examples, 508786 words/s, in_qsize 5, out_qsize 0\n",
      "2023-03-13 22:32:03,297 : INFO : EPOCH 2 - PROGRESS: at 74.60% examples, 509783 words/s, in_qsize 5, out_qsize 0\n",
      "2023-03-13 22:32:04,319 : INFO : EPOCH 2 - PROGRESS: at 81.04% examples, 510542 words/s, in_qsize 5, out_qsize 0\n",
      "2023-03-13 22:32:05,327 : INFO : EPOCH 2 - PROGRESS: at 87.03% examples, 510452 words/s, in_qsize 5, out_qsize 0\n",
      "2023-03-13 22:32:06,330 : INFO : EPOCH 2 - PROGRESS: at 93.13% examples, 510510 words/s, in_qsize 5, out_qsize 0\n",
      "2023-03-13 22:32:07,333 : INFO : EPOCH 2 - PROGRESS: at 99.22% examples, 510022 words/s, in_qsize 5, out_qsize 0\n",
      "2023-03-13 22:32:07,429 : INFO : worker thread finished; awaiting finish of 2 more threads\n",
      "2023-03-13 22:32:07,456 : INFO : worker thread finished; awaiting finish of 1 more threads\n",
      "2023-03-13 22:32:07,456 : INFO : worker thread finished; awaiting finish of 0 more threads\n",
      "2023-03-13 22:32:07,457 : INFO : EPOCH - 2 : training on 11176467 raw words (8367743 effective words) took 16.4s, 510122 effective words/s\n",
      "2023-03-13 22:32:08,468 : INFO : EPOCH 3 - PROGRESS: at 5.94% examples, 491464 words/s, in_qsize 5, out_qsize 0\n",
      "2023-03-13 22:32:09,470 : INFO : EPOCH 3 - PROGRESS: at 12.00% examples, 506924 words/s, in_qsize 5, out_qsize 0\n",
      "2023-03-13 22:32:10,477 : INFO : EPOCH 3 - PROGRESS: at 18.31% examples, 510593 words/s, in_qsize 6, out_qsize 0\n",
      "2023-03-13 22:32:11,489 : INFO : EPOCH 3 - PROGRESS: at 24.37% examples, 507981 words/s, in_qsize 5, out_qsize 0\n",
      "2023-03-13 22:32:12,520 : INFO : EPOCH 3 - PROGRESS: at 30.19% examples, 500388 words/s, in_qsize 5, out_qsize 0\n",
      "2023-03-13 22:32:13,532 : INFO : EPOCH 3 - PROGRESS: at 36.07% examples, 497118 words/s, in_qsize 5, out_qsize 0\n",
      "2023-03-13 22:32:14,533 : INFO : EPOCH 3 - PROGRESS: at 42.10% examples, 499105 words/s, in_qsize 5, out_qsize 0\n",
      "2023-03-13 22:32:15,544 : INFO : EPOCH 3 - PROGRESS: at 48.40% examples, 501428 words/s, in_qsize 5, out_qsize 0\n"
     ]
    },
    {
     "name": "stderr",
     "output_type": "stream",
     "text": [
      "2023-03-13 22:32:16,563 : INFO : EPOCH 3 - PROGRESS: at 54.76% examples, 503482 words/s, in_qsize 5, out_qsize 0\n",
      "2023-03-13 22:32:17,588 : INFO : EPOCH 3 - PROGRESS: at 61.08% examples, 504966 words/s, in_qsize 6, out_qsize 0\n",
      "2023-03-13 22:32:18,588 : INFO : EPOCH 3 - PROGRESS: at 67.19% examples, 505240 words/s, in_qsize 5, out_qsize 0\n",
      "2023-03-13 22:32:19,602 : INFO : EPOCH 3 - PROGRESS: at 73.27% examples, 504902 words/s, in_qsize 5, out_qsize 0\n",
      "2023-03-13 22:32:20,603 : INFO : EPOCH 3 - PROGRESS: at 79.43% examples, 505259 words/s, in_qsize 5, out_qsize 0\n",
      "2023-03-13 22:32:21,608 : INFO : EPOCH 3 - PROGRESS: at 85.53% examples, 505706 words/s, in_qsize 5, out_qsize 0\n",
      "2023-03-13 22:32:22,611 : INFO : EPOCH 3 - PROGRESS: at 91.53% examples, 506104 words/s, in_qsize 5, out_qsize 0\n",
      "2023-03-13 22:32:23,624 : INFO : EPOCH 3 - PROGRESS: at 97.71% examples, 505997 words/s, in_qsize 6, out_qsize 0\n",
      "2023-03-13 22:32:23,972 : INFO : worker thread finished; awaiting finish of 2 more threads\n",
      "2023-03-13 22:32:23,990 : INFO : worker thread finished; awaiting finish of 1 more threads\n",
      "2023-03-13 22:32:23,991 : INFO : worker thread finished; awaiting finish of 0 more threads\n",
      "2023-03-13 22:32:23,992 : INFO : EPOCH - 3 : training on 11176467 raw words (8367698 effective words) took 16.5s, 506199 effective words/s\n",
      "2023-03-13 22:32:25,018 : INFO : EPOCH 4 - PROGRESS: at 6.19% examples, 506657 words/s, in_qsize 5, out_qsize 0\n",
      "2023-03-13 22:32:26,030 : INFO : EPOCH 4 - PROGRESS: at 12.37% examples, 514917 words/s, in_qsize 6, out_qsize 1\n",
      "2023-03-13 22:32:27,044 : INFO : EPOCH 4 - PROGRESS: at 18.75% examples, 517216 words/s, in_qsize 5, out_qsize 0\n",
      "2023-03-13 22:32:28,052 : INFO : EPOCH 4 - PROGRESS: at 24.93% examples, 515520 words/s, in_qsize 6, out_qsize 0\n",
      "2023-03-13 22:32:29,052 : INFO : EPOCH 4 - PROGRESS: at 30.98% examples, 514061 words/s, in_qsize 5, out_qsize 0\n",
      "2023-03-13 22:32:30,056 : INFO : EPOCH 4 - PROGRESS: at 36.49% examples, 504246 words/s, in_qsize 5, out_qsize 0\n",
      "2023-03-13 22:32:31,082 : INFO : EPOCH 4 - PROGRESS: at 41.57% examples, 492040 words/s, in_qsize 5, out_qsize 0\n",
      "2023-03-13 22:32:32,095 : INFO : EPOCH 4 - PROGRESS: at 47.12% examples, 487827 words/s, in_qsize 5, out_qsize 0\n",
      "2023-03-13 22:32:33,095 : INFO : EPOCH 4 - PROGRESS: at 52.81% examples, 486038 words/s, in_qsize 5, out_qsize 0\n",
      "2023-03-13 22:32:34,098 : INFO : EPOCH 4 - PROGRESS: at 58.97% examples, 488143 words/s, in_qsize 5, out_qsize 0\n",
      "2023-03-13 22:32:35,110 : INFO : EPOCH 4 - PROGRESS: at 65.19% examples, 491405 words/s, in_qsize 6, out_qsize 0\n",
      "2023-03-13 22:32:36,134 : INFO : EPOCH 4 - PROGRESS: at 71.59% examples, 493590 words/s, in_qsize 5, out_qsize 0\n",
      "2023-03-13 22:32:37,150 : INFO : EPOCH 4 - PROGRESS: at 77.97% examples, 495935 words/s, in_qsize 5, out_qsize 0\n",
      "2023-03-13 22:32:38,166 : INFO : EPOCH 4 - PROGRESS: at 84.37% examples, 497735 words/s, in_qsize 6, out_qsize 0\n",
      "2023-03-13 22:32:39,179 : INFO : EPOCH 4 - PROGRESS: at 90.32% examples, 498270 words/s, in_qsize 5, out_qsize 0\n",
      "2023-03-13 22:32:40,182 : INFO : EPOCH 4 - PROGRESS: at 96.38% examples, 498596 words/s, in_qsize 5, out_qsize 0\n",
      "2023-03-13 22:32:40,746 : INFO : worker thread finished; awaiting finish of 2 more threads\n",
      "2023-03-13 22:32:40,752 : INFO : worker thread finished; awaiting finish of 1 more threads\n",
      "2023-03-13 22:32:40,774 : INFO : worker thread finished; awaiting finish of 0 more threads\n",
      "2023-03-13 22:32:40,774 : INFO : EPOCH - 4 : training on 11176467 raw words (8368953 effective words) took 16.8s, 498795 effective words/s\n",
      "2023-03-13 22:32:41,790 : INFO : EPOCH 5 - PROGRESS: at 5.94% examples, 490037 words/s, in_qsize 5, out_qsize 0\n",
      "2023-03-13 22:32:42,791 : INFO : EPOCH 5 - PROGRESS: at 11.85% examples, 498837 words/s, in_qsize 6, out_qsize 0\n",
      "2023-03-13 22:32:43,817 : INFO : EPOCH 5 - PROGRESS: at 18.21% examples, 504428 words/s, in_qsize 5, out_qsize 0\n",
      "2023-03-13 22:32:44,830 : INFO : EPOCH 5 - PROGRESS: at 24.57% examples, 508748 words/s, in_qsize 6, out_qsize 0\n",
      "2023-03-13 22:32:45,841 : INFO : EPOCH 5 - PROGRESS: at 30.74% examples, 508941 words/s, in_qsize 5, out_qsize 0\n",
      "2023-03-13 22:32:46,858 : INFO : EPOCH 5 - PROGRESS: at 36.75% examples, 506147 words/s, in_qsize 5, out_qsize 0\n",
      "2023-03-13 22:32:47,885 : INFO : EPOCH 5 - PROGRESS: at 42.56% examples, 502066 words/s, in_qsize 5, out_qsize 0\n",
      "2023-03-13 22:32:48,898 : INFO : EPOCH 5 - PROGRESS: at 48.48% examples, 500130 words/s, in_qsize 6, out_qsize 0\n",
      "2023-03-13 22:32:49,901 : INFO : EPOCH 5 - PROGRESS: at 54.70% examples, 501765 words/s, in_qsize 6, out_qsize 0\n",
      "2023-03-13 22:32:50,908 : INFO : EPOCH 5 - PROGRESS: at 60.91% examples, 503537 words/s, in_qsize 5, out_qsize 0\n",
      "2023-03-13 22:32:51,921 : INFO : EPOCH 5 - PROGRESS: at 67.28% examples, 505372 words/s, in_qsize 5, out_qsize 0\n",
      "2023-03-13 22:32:52,935 : INFO : EPOCH 5 - PROGRESS: at 73.63% examples, 506828 words/s, in_qsize 5, out_qsize 0\n",
      "2023-03-13 22:32:53,940 : INFO : EPOCH 5 - PROGRESS: at 79.96% examples, 508066 words/s, in_qsize 5, out_qsize 0\n",
      "2023-03-13 22:32:54,957 : INFO : EPOCH 5 - PROGRESS: at 86.04% examples, 507858 words/s, in_qsize 5, out_qsize 0\n",
      "2023-03-13 22:32:55,962 : INFO : EPOCH 5 - PROGRESS: at 92.08% examples, 508053 words/s, in_qsize 5, out_qsize 0\n",
      "2023-03-13 22:32:56,988 : INFO : EPOCH 5 - PROGRESS: at 98.33% examples, 507824 words/s, in_qsize 5, out_qsize 0\n",
      "2023-03-13 22:32:57,216 : INFO : worker thread finished; awaiting finish of 2 more threads\n",
      "2023-03-13 22:32:57,247 : INFO : worker thread finished; awaiting finish of 1 more threads\n",
      "2023-03-13 22:32:57,249 : INFO : worker thread finished; awaiting finish of 0 more threads\n",
      "2023-03-13 22:32:57,250 : INFO : EPOCH - 5 : training on 11176467 raw words (8369753 effective words) took 16.5s, 508159 effective words/s\n",
      "2023-03-13 22:32:57,251 : INFO : Word2Vec lifecycle event {'msg': 'training on 55882335 raw words (41843426 effective words) took 82.7s, 506152 effective words/s', 'datetime': '2023-03-13T22:32:57.251026', 'gensim': '4.1.2', 'python': '3.9.13 (main, Aug 25 2022, 18:29:29) \\n[Clang 12.0.0 ]', 'platform': 'macOS-10.16-x86_64-i386-64bit', 'event': 'train'}\n",
      "2023-03-13 22:32:57,251 : INFO : Word2Vec lifecycle event {'params': 'Word2Vec(vocab=26588, vector_size=50, alpha=0.025)', 'datetime': '2023-03-13T22:32:57.251534', 'gensim': '4.1.2', 'python': '3.9.13 (main, Aug 25 2022, 18:29:29) \\n[Clang 12.0.0 ]', 'platform': 'macOS-10.16-x86_64-i386-64bit', 'event': 'created'}\n",
      "/Users/arjunvelmurugan/opt/anaconda3/lib/python3.9/site-packages/sklearn/linear_model/_logistic.py:814: ConvergenceWarning: lbfgs failed to converge (status=1):\n",
      "STOP: TOTAL NO. of ITERATIONS REACHED LIMIT.\n",
      "\n",
      "Increase the number of iterations (max_iter) or scale the data as shown in:\n",
      "    https://scikit-learn.org/stable/modules/preprocessing.html\n",
      "Please also refer to the documentation for alternative solver options:\n",
      "    https://scikit-learn.org/stable/modules/linear_model.html#logistic-regression\n",
      "  n_iter_i = _check_optimize_result(\n"
     ]
    },
    {
     "name": "stdout",
     "output_type": "stream",
     "text": [
      "CLASSIFICATION REPORT FOR SIZE= 50\n",
      "              precision    recall  f1-score   support\n",
      "\n",
      "    negative       0.85      0.85      0.85      4988\n",
      "    positive       0.85      0.85      0.85      5012\n",
      "\n",
      "    accuracy                           0.85     10000\n",
      "   macro avg       0.85      0.85      0.85     10000\n",
      "weighted avg       0.85      0.85      0.85     10000\n",
      "\n"
     ]
    },
    {
     "name": "stderr",
     "output_type": "stream",
     "text": [
      "2023-03-13 22:37:57,425 : INFO : collecting all words and their counts\n",
      "2023-03-13 22:37:57,425 : INFO : PROGRESS: at sentence #0, processed 0 words, keeping 0 word types\n",
      "2023-03-13 22:37:57,728 : INFO : PROGRESS: at sentence #10000, processed 2235115 words, keeping 34948 word types\n",
      "2023-03-13 22:37:58,034 : INFO : PROGRESS: at sentence #20000, processed 4471355 words, keeping 46592 word types\n",
      "2023-03-13 22:37:58,349 : INFO : PROGRESS: at sentence #30000, processed 6703795 words, keeping 55178 word types\n",
      "2023-03-13 22:37:58,645 : INFO : PROGRESS: at sentence #40000, processed 8930547 words, keeping 62430 word types\n",
      "2023-03-13 22:37:58,956 : INFO : collected 68818 word types from a corpus of 11176467 raw words and 50000 sentences\n",
      "2023-03-13 22:37:58,957 : INFO : Creating a fresh vocabulary\n",
      "2023-03-13 22:37:59,063 : INFO : Word2Vec lifecycle event {'msg': 'effective_min_count=5 retains 26588 unique words (38.63524078002848%% of original 68818, drops 42230)', 'datetime': '2023-03-13T22:37:59.063617', 'gensim': '4.1.2', 'python': '3.9.13 (main, Aug 25 2022, 18:29:29) \\n[Clang 12.0.0 ]', 'platform': 'macOS-10.16-x86_64-i386-64bit', 'event': 'prepare_vocab'}\n",
      "2023-03-13 22:37:59,064 : INFO : Word2Vec lifecycle event {'msg': 'effective_min_count=5 leaves 11108863 word corpus (99.39512191106546%% of original 11176467, drops 67604)', 'datetime': '2023-03-13T22:37:59.064383', 'gensim': '4.1.2', 'python': '3.9.13 (main, Aug 25 2022, 18:29:29) \\n[Clang 12.0.0 ]', 'platform': 'macOS-10.16-x86_64-i386-64bit', 'event': 'prepare_vocab'}\n",
      "2023-03-13 22:37:59,215 : INFO : deleting the raw counts dictionary of 68818 items\n",
      "2023-03-13 22:37:59,217 : INFO : sample=0.001 downsamples 48 most-common words\n",
      "2023-03-13 22:37:59,218 : INFO : Word2Vec lifecycle event {'msg': 'downsampling leaves estimated 8368333.100896217 word corpus (75.3%% of prior 11108863)', 'datetime': '2023-03-13T22:37:59.218062', 'gensim': '4.1.2', 'python': '3.9.13 (main, Aug 25 2022, 18:29:29) \\n[Clang 12.0.0 ]', 'platform': 'macOS-10.16-x86_64-i386-64bit', 'event': 'prepare_vocab'}\n",
      "2023-03-13 22:37:59,452 : INFO : estimated required memory for 26588 words and 100 dimensions: 34564400 bytes\n",
      "2023-03-13 22:37:59,452 : INFO : resetting layer weights\n",
      "2023-03-13 22:37:59,466 : INFO : Word2Vec lifecycle event {'update': False, 'trim_rule': 'None', 'datetime': '2023-03-13T22:37:59.466533', 'gensim': '4.1.2', 'python': '3.9.13 (main, Aug 25 2022, 18:29:29) \\n[Clang 12.0.0 ]', 'platform': 'macOS-10.16-x86_64-i386-64bit', 'event': 'build_vocab'}\n",
      "2023-03-13 22:37:59,467 : INFO : Word2Vec lifecycle event {'msg': 'training model with 3 workers on 26588 vocabulary and 100 features, using sg=1 hs=0 sample=0.001 negative=5 window=5 shrink_windows=True', 'datetime': '2023-03-13T22:37:59.467214', 'gensim': '4.1.2', 'python': '3.9.13 (main, Aug 25 2022, 18:29:29) \\n[Clang 12.0.0 ]', 'platform': 'macOS-10.16-x86_64-i386-64bit', 'event': 'train'}\n",
      "2023-03-13 22:38:00,502 : INFO : EPOCH 1 - PROGRESS: at 5.70% examples, 458383 words/s, in_qsize 6, out_qsize 0\n",
      "2023-03-13 22:38:01,530 : INFO : EPOCH 1 - PROGRESS: at 11.37% examples, 465349 words/s, in_qsize 5, out_qsize 0\n",
      "2023-03-13 22:38:02,541 : INFO : EPOCH 1 - PROGRESS: at 17.20% examples, 470161 words/s, in_qsize 5, out_qsize 0\n",
      "2023-03-13 22:38:03,559 : INFO : EPOCH 1 - PROGRESS: at 22.93% examples, 471492 words/s, in_qsize 6, out_qsize 0\n",
      "2023-03-13 22:38:04,566 : INFO : EPOCH 1 - PROGRESS: at 28.77% examples, 473534 words/s, in_qsize 5, out_qsize 0\n",
      "2023-03-13 22:38:05,569 : INFO : EPOCH 1 - PROGRESS: at 34.52% examples, 474170 words/s, in_qsize 5, out_qsize 0\n",
      "2023-03-13 22:38:06,581 : INFO : EPOCH 1 - PROGRESS: at 40.23% examples, 473661 words/s, in_qsize 5, out_qsize 0\n",
      "2023-03-13 22:38:07,594 : INFO : EPOCH 1 - PROGRESS: at 45.95% examples, 474268 words/s, in_qsize 6, out_qsize 0\n",
      "2023-03-13 22:38:08,619 : INFO : EPOCH 1 - PROGRESS: at 51.76% examples, 474362 words/s, in_qsize 6, out_qsize 0\n",
      "2023-03-13 22:38:09,620 : INFO : EPOCH 1 - PROGRESS: at 57.41% examples, 473305 words/s, in_qsize 5, out_qsize 0\n",
      "2023-03-13 22:38:10,622 : INFO : EPOCH 1 - PROGRESS: at 62.79% examples, 471226 words/s, in_qsize 6, out_qsize 0\n",
      "2023-03-13 22:38:11,637 : INFO : EPOCH 1 - PROGRESS: at 68.11% examples, 468166 words/s, in_qsize 5, out_qsize 0\n",
      "2023-03-13 22:38:12,643 : INFO : EPOCH 1 - PROGRESS: at 73.36% examples, 465873 words/s, in_qsize 6, out_qsize 0\n",
      "2023-03-13 22:38:13,645 : INFO : EPOCH 1 - PROGRESS: at 78.80% examples, 464805 words/s, in_qsize 5, out_qsize 0\n",
      "2023-03-13 22:38:14,662 : INFO : EPOCH 1 - PROGRESS: at 84.20% examples, 463208 words/s, in_qsize 5, out_qsize 0\n",
      "2023-03-13 22:38:15,682 : INFO : EPOCH 1 - PROGRESS: at 89.33% examples, 461556 words/s, in_qsize 5, out_qsize 0\n",
      "2023-03-13 22:38:16,689 : INFO : EPOCH 1 - PROGRESS: at 94.80% examples, 461072 words/s, in_qsize 6, out_qsize 0\n",
      "2023-03-13 22:38:17,610 : INFO : worker thread finished; awaiting finish of 2 more threads\n",
      "2023-03-13 22:38:17,637 : INFO : worker thread finished; awaiting finish of 1 more threads\n",
      "2023-03-13 22:38:17,640 : INFO : worker thread finished; awaiting finish of 0 more threads\n",
      "2023-03-13 22:38:17,641 : INFO : EPOCH - 1 : training on 11176467 raw words (8369261 effective words) took 18.2s, 460583 effective words/s\n",
      "2023-03-13 22:38:18,679 : INFO : EPOCH 2 - PROGRESS: at 5.46% examples, 436177 words/s, in_qsize 6, out_qsize 0\n",
      "2023-03-13 22:38:19,687 : INFO : EPOCH 2 - PROGRESS: at 10.64% examples, 437042 words/s, in_qsize 5, out_qsize 0\n",
      "2023-03-13 22:38:20,693 : INFO : EPOCH 2 - PROGRESS: at 15.55% examples, 428069 words/s, in_qsize 5, out_qsize 0\n",
      "2023-03-13 22:38:21,726 : INFO : EPOCH 2 - PROGRESS: at 20.40% examples, 418868 words/s, in_qsize 5, out_qsize 0\n",
      "2023-03-13 22:38:22,766 : INFO : EPOCH 2 - PROGRESS: at 25.62% examples, 419806 words/s, in_qsize 5, out_qsize 0\n",
      "2023-03-13 22:38:23,778 : INFO : EPOCH 2 - PROGRESS: at 30.91% examples, 422448 words/s, in_qsize 5, out_qsize 0\n",
      "2023-03-13 22:38:24,780 : INFO : EPOCH 2 - PROGRESS: at 36.40% examples, 427120 words/s, in_qsize 6, out_qsize 0\n",
      "2023-03-13 22:38:25,788 : INFO : EPOCH 2 - PROGRESS: at 41.67% examples, 429026 words/s, in_qsize 5, out_qsize 0\n",
      "2023-03-13 22:38:26,812 : INFO : EPOCH 2 - PROGRESS: at 46.93% examples, 429237 words/s, in_qsize 6, out_qsize 0\n",
      "2023-03-13 22:38:27,848 : INFO : EPOCH 2 - PROGRESS: at 52.22% examples, 429019 words/s, in_qsize 5, out_qsize 0\n",
      "2023-03-13 22:38:28,876 : INFO : EPOCH 2 - PROGRESS: at 57.60% examples, 429175 words/s, in_qsize 5, out_qsize 0\n",
      "2023-03-13 22:38:29,882 : INFO : EPOCH 2 - PROGRESS: at 62.87% examples, 430045 words/s, in_qsize 5, out_qsize 0\n",
      "2023-03-13 22:38:30,898 : INFO : EPOCH 2 - PROGRESS: at 68.03% examples, 429249 words/s, in_qsize 5, out_qsize 0\n",
      "2023-03-13 22:38:31,915 : INFO : EPOCH 2 - PROGRESS: at 72.75% examples, 426499 words/s, in_qsize 5, out_qsize 0\n",
      "2023-03-13 22:38:32,921 : INFO : EPOCH 2 - PROGRESS: at 77.53% examples, 424609 words/s, in_qsize 5, out_qsize 0\n",
      "2023-03-13 22:38:33,962 : INFO : EPOCH 2 - PROGRESS: at 82.62% examples, 423160 words/s, in_qsize 5, out_qsize 0\n",
      "2023-03-13 22:38:34,994 : INFO : EPOCH 2 - PROGRESS: at 87.72% examples, 423305 words/s, in_qsize 6, out_qsize 0\n",
      "2023-03-13 22:38:36,028 : INFO : EPOCH 2 - PROGRESS: at 92.96% examples, 423506 words/s, in_qsize 5, out_qsize 0\n",
      "2023-03-13 22:38:37,037 : INFO : EPOCH 2 - PROGRESS: at 98.07% examples, 423292 words/s, in_qsize 5, out_qsize 0\n",
      "2023-03-13 22:38:37,401 : INFO : worker thread finished; awaiting finish of 2 more threads\n",
      "2023-03-13 22:38:37,406 : INFO : worker thread finished; awaiting finish of 1 more threads\n",
      "2023-03-13 22:38:37,407 : INFO : worker thread finished; awaiting finish of 0 more threads\n",
      "2023-03-13 22:38:37,408 : INFO : EPOCH - 2 : training on 11176467 raw words (8368611 effective words) took 19.8s, 423470 effective words/s\n",
      "2023-03-13 22:38:38,419 : INFO : EPOCH 3 - PROGRESS: at 4.93% examples, 404426 words/s, in_qsize 5, out_qsize 0\n",
      "2023-03-13 22:38:39,424 : INFO : EPOCH 3 - PROGRESS: at 9.95% examples, 414397 words/s, in_qsize 5, out_qsize 0\n",
      "2023-03-13 22:38:40,437 : INFO : EPOCH 3 - PROGRESS: at 15.09% examples, 419334 words/s, in_qsize 5, out_qsize 0\n",
      "2023-03-13 22:38:41,441 : INFO : EPOCH 3 - PROGRESS: at 20.40% examples, 424252 words/s, in_qsize 5, out_qsize 0\n"
     ]
    },
    {
     "name": "stderr",
     "output_type": "stream",
     "text": [
      "2023-03-13 22:38:42,445 : INFO : EPOCH 3 - PROGRESS: at 25.62% examples, 427243 words/s, in_qsize 6, out_qsize 0\n",
      "2023-03-13 22:38:43,471 : INFO : EPOCH 3 - PROGRESS: at 30.91% examples, 427720 words/s, in_qsize 5, out_qsize 0\n",
      "2023-03-13 22:38:44,508 : INFO : EPOCH 3 - PROGRESS: at 36.23% examples, 427393 words/s, in_qsize 5, out_qsize 0\n",
      "2023-03-13 22:38:45,511 : INFO : EPOCH 3 - PROGRESS: at 41.15% examples, 425926 words/s, in_qsize 5, out_qsize 0\n",
      "2023-03-13 22:38:46,538 : INFO : EPOCH 3 - PROGRESS: at 46.15% examples, 423880 words/s, in_qsize 6, out_qsize 0\n",
      "2023-03-13 22:38:47,553 : INFO : EPOCH 3 - PROGRESS: at 51.18% examples, 422871 words/s, in_qsize 5, out_qsize 0\n",
      "2023-03-13 22:38:48,569 : INFO : EPOCH 3 - PROGRESS: at 56.22% examples, 422036 words/s, in_qsize 5, out_qsize 0\n",
      "2023-03-13 22:38:49,575 : INFO : EPOCH 3 - PROGRESS: at 61.43% examples, 422918 words/s, in_qsize 5, out_qsize 0\n",
      "2023-03-13 22:38:50,592 : INFO : EPOCH 3 - PROGRESS: at 66.56% examples, 422702 words/s, in_qsize 5, out_qsize 0\n",
      "2023-03-13 22:38:51,594 : INFO : EPOCH 3 - PROGRESS: at 71.77% examples, 423412 words/s, in_qsize 5, out_qsize 0\n",
      "2023-03-13 22:38:52,630 : INFO : EPOCH 3 - PROGRESS: at 76.77% examples, 421838 words/s, in_qsize 5, out_qsize 0\n",
      "2023-03-13 22:38:53,645 : INFO : EPOCH 3 - PROGRESS: at 81.54% examples, 419949 words/s, in_qsize 5, out_qsize 0\n",
      "2023-03-13 22:38:54,667 : INFO : EPOCH 3 - PROGRESS: at 86.43% examples, 419304 words/s, in_qsize 5, out_qsize 0\n",
      "2023-03-13 22:38:55,668 : INFO : EPOCH 3 - PROGRESS: at 91.43% examples, 419636 words/s, in_qsize 5, out_qsize 0\n",
      "2023-03-13 22:38:56,687 : INFO : EPOCH 3 - PROGRESS: at 96.63% examples, 419822 words/s, in_qsize 5, out_qsize 0\n",
      "2023-03-13 22:38:57,288 : INFO : worker thread finished; awaiting finish of 2 more threads\n",
      "2023-03-13 22:38:57,311 : INFO : worker thread finished; awaiting finish of 1 more threads\n",
      "2023-03-13 22:38:57,311 : INFO : worker thread finished; awaiting finish of 0 more threads\n",
      "2023-03-13 22:38:57,312 : INFO : EPOCH - 3 : training on 11176467 raw words (8368515 effective words) took 19.9s, 420561 effective words/s\n",
      "2023-03-13 22:38:58,334 : INFO : EPOCH 4 - PROGRESS: at 5.20% examples, 421301 words/s, in_qsize 6, out_qsize 0\n",
      "2023-03-13 22:38:59,336 : INFO : EPOCH 4 - PROGRESS: at 10.55% examples, 438190 words/s, in_qsize 5, out_qsize 0\n",
      "2023-03-13 22:39:00,349 : INFO : EPOCH 4 - PROGRESS: at 15.79% examples, 437304 words/s, in_qsize 5, out_qsize 0\n",
      "2023-03-13 22:39:01,366 : INFO : EPOCH 4 - PROGRESS: at 20.89% examples, 432838 words/s, in_qsize 5, out_qsize 0\n",
      "2023-03-13 22:39:02,371 : INFO : EPOCH 4 - PROGRESS: at 26.07% examples, 432351 words/s, in_qsize 5, out_qsize 0\n",
      "2023-03-13 22:39:03,380 : INFO : EPOCH 4 - PROGRESS: at 31.06% examples, 429648 words/s, in_qsize 5, out_qsize 0\n",
      "2023-03-13 22:39:04,388 : INFO : EPOCH 4 - PROGRESS: at 36.15% examples, 427684 words/s, in_qsize 5, out_qsize 0\n",
      "2023-03-13 22:39:05,394 : INFO : EPOCH 4 - PROGRESS: at 41.08% examples, 426000 words/s, in_qsize 5, out_qsize 0\n",
      "2023-03-13 22:39:06,394 : INFO : EPOCH 4 - PROGRESS: at 45.87% examples, 423560 words/s, in_qsize 5, out_qsize 0\n",
      "2023-03-13 22:39:07,399 : INFO : EPOCH 4 - PROGRESS: at 51.01% examples, 423783 words/s, in_qsize 6, out_qsize 0\n",
      "2023-03-13 22:39:08,440 : INFO : EPOCH 4 - PROGRESS: at 56.22% examples, 423229 words/s, in_qsize 5, out_qsize 0\n",
      "2023-03-13 22:39:09,456 : INFO : EPOCH 4 - PROGRESS: at 61.52% examples, 424311 words/s, in_qsize 5, out_qsize 0\n",
      "2023-03-13 22:39:10,474 : INFO : EPOCH 4 - PROGRESS: at 66.83% examples, 425046 words/s, in_qsize 5, out_qsize 0\n",
      "2023-03-13 22:39:11,484 : INFO : EPOCH 4 - PROGRESS: at 72.13% examples, 425858 words/s, in_qsize 5, out_qsize 0\n",
      "2023-03-13 22:39:12,493 : INFO : EPOCH 4 - PROGRESS: at 77.44% examples, 426797 words/s, in_qsize 5, out_qsize 0\n",
      "2023-03-13 22:39:13,514 : INFO : EPOCH 4 - PROGRESS: at 82.99% examples, 428059 words/s, in_qsize 5, out_qsize 0\n",
      "2023-03-13 22:39:14,536 : INFO : EPOCH 4 - PROGRESS: at 88.30% examples, 429433 words/s, in_qsize 5, out_qsize 0\n",
      "2023-03-13 22:39:15,548 : INFO : EPOCH 4 - PROGRESS: at 93.82% examples, 430944 words/s, in_qsize 5, out_qsize 0\n",
      "2023-03-13 22:39:16,556 : INFO : EPOCH 4 - PROGRESS: at 99.42% examples, 432334 words/s, in_qsize 5, out_qsize 0\n",
      "2023-03-13 22:39:16,619 : INFO : worker thread finished; awaiting finish of 2 more threads\n",
      "2023-03-13 22:39:16,651 : INFO : worker thread finished; awaiting finish of 1 more threads\n",
      "2023-03-13 22:39:16,654 : INFO : worker thread finished; awaiting finish of 0 more threads\n",
      "2023-03-13 22:39:16,654 : INFO : EPOCH - 4 : training on 11176467 raw words (8367143 effective words) took 19.3s, 432703 effective words/s\n",
      "2023-03-13 22:39:17,665 : INFO : EPOCH 5 - PROGRESS: at 5.20% examples, 426328 words/s, in_qsize 5, out_qsize 0\n",
      "2023-03-13 22:39:18,678 : INFO : EPOCH 5 - PROGRESS: at 10.39% examples, 431166 words/s, in_qsize 5, out_qsize 0\n",
      "2023-03-13 22:39:19,680 : INFO : EPOCH 5 - PROGRESS: at 15.71% examples, 436861 words/s, in_qsize 5, out_qsize 0\n",
      "2023-03-13 22:39:20,716 : INFO : EPOCH 5 - PROGRESS: at 21.15% examples, 437688 words/s, in_qsize 5, out_qsize 0\n",
      "2023-03-13 22:39:21,726 : INFO : EPOCH 5 - PROGRESS: at 26.65% examples, 441660 words/s, in_qsize 5, out_qsize 0\n",
      "2023-03-13 22:39:22,729 : INFO : EPOCH 5 - PROGRESS: at 32.20% examples, 445155 words/s, in_qsize 5, out_qsize 0\n",
      "2023-03-13 22:39:23,741 : INFO : EPOCH 5 - PROGRESS: at 37.71% examples, 445836 words/s, in_qsize 5, out_qsize 0\n",
      "2023-03-13 22:39:24,754 : INFO : EPOCH 5 - PROGRESS: at 42.92% examples, 444380 words/s, in_qsize 6, out_qsize 0\n",
      "2023-03-13 22:39:25,777 : INFO : EPOCH 5 - PROGRESS: at 48.23% examples, 442981 words/s, in_qsize 5, out_qsize 0\n",
      "2023-03-13 22:39:26,790 : INFO : EPOCH 5 - PROGRESS: at 53.35% examples, 440781 words/s, in_qsize 5, out_qsize 0\n",
      "2023-03-13 22:39:27,808 : INFO : EPOCH 5 - PROGRESS: at 58.15% examples, 436194 words/s, in_qsize 5, out_qsize 0\n",
      "2023-03-13 22:39:28,824 : INFO : EPOCH 5 - PROGRESS: at 63.04% examples, 433723 words/s, in_qsize 6, out_qsize 0\n",
      "2023-03-13 22:39:29,836 : INFO : EPOCH 5 - PROGRESS: at 68.11% examples, 432195 words/s, in_qsize 5, out_qsize 0\n",
      "2023-03-13 22:39:30,840 : INFO : EPOCH 5 - PROGRESS: at 73.36% examples, 432755 words/s, in_qsize 5, out_qsize 0\n",
      "2023-03-13 22:39:31,854 : INFO : EPOCH 5 - PROGRESS: at 78.89% examples, 434085 words/s, in_qsize 6, out_qsize 0\n",
      "2023-03-13 22:39:32,860 : INFO : EPOCH 5 - PROGRESS: at 84.52% examples, 436144 words/s, in_qsize 5, out_qsize 0\n",
      "2023-03-13 22:39:33,864 : INFO : EPOCH 5 - PROGRESS: at 89.87% examples, 437473 words/s, in_qsize 5, out_qsize 0\n",
      "2023-03-13 22:39:34,879 : INFO : EPOCH 5 - PROGRESS: at 95.32% examples, 438072 words/s, in_qsize 5, out_qsize 0\n",
      "2023-03-13 22:39:35,705 : INFO : worker thread finished; awaiting finish of 2 more threads\n",
      "2023-03-13 22:39:35,714 : INFO : worker thread finished; awaiting finish of 1 more threads\n",
      "2023-03-13 22:39:35,740 : INFO : worker thread finished; awaiting finish of 0 more threads\n",
      "2023-03-13 22:39:35,741 : INFO : EPOCH - 5 : training on 11176467 raw words (8367580 effective words) took 19.1s, 438522 effective words/s\n",
      "2023-03-13 22:39:35,741 : INFO : Word2Vec lifecycle event {'msg': 'training on 55882335 raw words (41841110 effective words) took 96.3s, 434616 effective words/s', 'datetime': '2023-03-13T22:39:35.741532', 'gensim': '4.1.2', 'python': '3.9.13 (main, Aug 25 2022, 18:29:29) \\n[Clang 12.0.0 ]', 'platform': 'macOS-10.16-x86_64-i386-64bit', 'event': 'train'}\n",
      "2023-03-13 22:39:35,742 : INFO : Word2Vec lifecycle event {'params': 'Word2Vec(vocab=26588, vector_size=100, alpha=0.025)', 'datetime': '2023-03-13T22:39:35.742015', 'gensim': '4.1.2', 'python': '3.9.13 (main, Aug 25 2022, 18:29:29) \\n[Clang 12.0.0 ]', 'platform': 'macOS-10.16-x86_64-i386-64bit', 'event': 'created'}\n"
     ]
    },
    {
     "name": "stdout",
     "output_type": "stream",
     "text": [
      "CLASSIFICATION REPORT FOR SIZE= 100\n",
      "              precision    recall  f1-score   support\n",
      "\n",
      "    negative       0.86      0.86      0.86      4988\n",
      "    positive       0.86      0.86      0.86      5012\n",
      "\n",
      "    accuracy                           0.86     10000\n",
      "   macro avg       0.86      0.86      0.86     10000\n",
      "weighted avg       0.86      0.86      0.86     10000\n",
      "\n"
     ]
    },
    {
     "name": "stderr",
     "output_type": "stream",
     "text": [
      "2023-03-13 22:44:37,653 : INFO : collecting all words and their counts\n",
      "2023-03-13 22:44:37,654 : INFO : PROGRESS: at sentence #0, processed 0 words, keeping 0 word types\n",
      "2023-03-13 22:44:37,947 : INFO : PROGRESS: at sentence #10000, processed 2235115 words, keeping 34948 word types\n",
      "2023-03-13 22:44:38,242 : INFO : PROGRESS: at sentence #20000, processed 4471355 words, keeping 46592 word types\n",
      "2023-03-13 22:44:38,536 : INFO : PROGRESS: at sentence #30000, processed 6703795 words, keeping 55178 word types\n",
      "2023-03-13 22:44:38,849 : INFO : PROGRESS: at sentence #40000, processed 8930547 words, keeping 62430 word types\n",
      "2023-03-13 22:44:39,173 : INFO : collected 68818 word types from a corpus of 11176467 raw words and 50000 sentences\n",
      "2023-03-13 22:44:39,174 : INFO : Creating a fresh vocabulary\n",
      "2023-03-13 22:44:39,280 : INFO : Word2Vec lifecycle event {'msg': 'effective_min_count=5 retains 26588 unique words (38.63524078002848%% of original 68818, drops 42230)', 'datetime': '2023-03-13T22:44:39.279913', 'gensim': '4.1.2', 'python': '3.9.13 (main, Aug 25 2022, 18:29:29) \\n[Clang 12.0.0 ]', 'platform': 'macOS-10.16-x86_64-i386-64bit', 'event': 'prepare_vocab'}\n",
      "2023-03-13 22:44:39,280 : INFO : Word2Vec lifecycle event {'msg': 'effective_min_count=5 leaves 11108863 word corpus (99.39512191106546%% of original 11176467, drops 67604)', 'datetime': '2023-03-13T22:44:39.280858', 'gensim': '4.1.2', 'python': '3.9.13 (main, Aug 25 2022, 18:29:29) \\n[Clang 12.0.0 ]', 'platform': 'macOS-10.16-x86_64-i386-64bit', 'event': 'prepare_vocab'}\n",
      "2023-03-13 22:44:39,424 : INFO : deleting the raw counts dictionary of 68818 items\n",
      "2023-03-13 22:44:39,426 : INFO : sample=0.001 downsamples 48 most-common words\n",
      "2023-03-13 22:44:39,427 : INFO : Word2Vec lifecycle event {'msg': 'downsampling leaves estimated 8368333.100896217 word corpus (75.3%% of prior 11108863)', 'datetime': '2023-03-13T22:44:39.427103', 'gensim': '4.1.2', 'python': '3.9.13 (main, Aug 25 2022, 18:29:29) \\n[Clang 12.0.0 ]', 'platform': 'macOS-10.16-x86_64-i386-64bit', 'event': 'prepare_vocab'}\n",
      "2023-03-13 22:44:39,662 : INFO : estimated required memory for 26588 words and 150 dimensions: 45199600 bytes\n",
      "2023-03-13 22:44:39,663 : INFO : resetting layer weights\n",
      "2023-03-13 22:44:39,683 : INFO : Word2Vec lifecycle event {'update': False, 'trim_rule': 'None', 'datetime': '2023-03-13T22:44:39.683107', 'gensim': '4.1.2', 'python': '3.9.13 (main, Aug 25 2022, 18:29:29) \\n[Clang 12.0.0 ]', 'platform': 'macOS-10.16-x86_64-i386-64bit', 'event': 'build_vocab'}\n",
      "2023-03-13 22:44:39,683 : INFO : Word2Vec lifecycle event {'msg': 'training model with 3 workers on 26588 vocabulary and 150 features, using sg=1 hs=0 sample=0.001 negative=5 window=5 shrink_windows=True', 'datetime': '2023-03-13T22:44:39.683826', 'gensim': '4.1.2', 'python': '3.9.13 (main, Aug 25 2022, 18:29:29) \\n[Clang 12.0.0 ]', 'platform': 'macOS-10.16-x86_64-i386-64bit', 'event': 'train'}\n",
      "2023-03-13 22:44:40,706 : INFO : EPOCH 1 - PROGRESS: at 4.93% examples, 399447 words/s, in_qsize 5, out_qsize 0\n",
      "2023-03-13 22:44:41,718 : INFO : EPOCH 1 - PROGRESS: at 9.85% examples, 406502 words/s, in_qsize 5, out_qsize 0\n",
      "2023-03-13 22:44:42,726 : INFO : EPOCH 1 - PROGRESS: at 14.83% examples, 409981 words/s, in_qsize 6, out_qsize 0\n",
      "2023-03-13 22:44:43,727 : INFO : EPOCH 1 - PROGRESS: at 19.87% examples, 411971 words/s, in_qsize 5, out_qsize 0\n",
      "2023-03-13 22:44:44,730 : INFO : EPOCH 1 - PROGRESS: at 24.84% examples, 413184 words/s, in_qsize 5, out_qsize 0\n",
      "2023-03-13 22:44:45,746 : INFO : EPOCH 1 - PROGRESS: at 29.84% examples, 413034 words/s, in_qsize 5, out_qsize 0\n",
      "2023-03-13 22:44:46,748 : INFO : EPOCH 1 - PROGRESS: at 34.88% examples, 413959 words/s, in_qsize 5, out_qsize 0\n",
      "2023-03-13 22:44:47,752 : INFO : EPOCH 1 - PROGRESS: at 39.90% examples, 414125 words/s, in_qsize 6, out_qsize 0\n",
      "2023-03-13 22:44:48,770 : INFO : EPOCH 1 - PROGRESS: at 44.67% examples, 412146 words/s, in_qsize 5, out_qsize 0\n",
      "2023-03-13 22:44:49,777 : INFO : EPOCH 1 - PROGRESS: at 49.42% examples, 410423 words/s, in_qsize 5, out_qsize 0\n",
      "2023-03-13 22:44:50,804 : INFO : EPOCH 1 - PROGRESS: at 54.25% examples, 408340 words/s, in_qsize 5, out_qsize 0\n",
      "2023-03-13 22:44:51,823 : INFO : EPOCH 1 - PROGRESS: at 59.16% examples, 407489 words/s, in_qsize 5, out_qsize 0\n",
      "2023-03-13 22:44:52,830 : INFO : EPOCH 1 - PROGRESS: at 63.96% examples, 407695 words/s, in_qsize 6, out_qsize 0\n",
      "2023-03-13 22:44:53,847 : INFO : EPOCH 1 - PROGRESS: at 68.88% examples, 406980 words/s, in_qsize 5, out_qsize 0\n",
      "2023-03-13 22:44:54,855 : INFO : EPOCH 1 - PROGRESS: at 73.63% examples, 406137 words/s, in_qsize 5, out_qsize 0\n",
      "2023-03-13 22:44:55,861 : INFO : EPOCH 1 - PROGRESS: at 78.32% examples, 405106 words/s, in_qsize 5, out_qsize 0\n",
      "2023-03-13 22:44:56,865 : INFO : EPOCH 1 - PROGRESS: at 82.99% examples, 403672 words/s, in_qsize 5, out_qsize 0\n",
      "2023-03-13 22:44:57,868 : INFO : EPOCH 1 - PROGRESS: at 87.54% examples, 403165 words/s, in_qsize 5, out_qsize 0\n",
      "2023-03-13 22:44:58,871 : INFO : EPOCH 1 - PROGRESS: at 92.43% examples, 403489 words/s, in_qsize 5, out_qsize 0\n",
      "2023-03-13 22:44:59,883 : INFO : EPOCH 1 - PROGRESS: at 97.25% examples, 403161 words/s, in_qsize 5, out_qsize 0\n",
      "2023-03-13 22:45:00,425 : INFO : worker thread finished; awaiting finish of 2 more threads\n",
      "2023-03-13 22:45:00,459 : INFO : worker thread finished; awaiting finish of 1 more threads\n",
      "2023-03-13 22:45:00,460 : INFO : worker thread finished; awaiting finish of 0 more threads\n",
      "2023-03-13 22:45:00,460 : INFO : EPOCH - 1 : training on 11176467 raw words (8368171 effective words) took 20.8s, 402846 effective words/s\n",
      "2023-03-13 22:45:01,497 : INFO : EPOCH 2 - PROGRESS: at 4.41% examples, 351055 words/s, in_qsize 5, out_qsize 0\n",
      "2023-03-13 22:45:02,540 : INFO : EPOCH 2 - PROGRESS: at 9.14% examples, 366198 words/s, in_qsize 5, out_qsize 0\n",
      "2023-03-13 22:45:03,552 : INFO : EPOCH 2 - PROGRESS: at 13.73% examples, 374777 words/s, in_qsize 5, out_qsize 0\n",
      "2023-03-13 22:45:04,584 : INFO : EPOCH 2 - PROGRESS: at 18.75% examples, 382558 words/s, in_qsize 5, out_qsize 0\n",
      "2023-03-13 22:45:05,618 : INFO : EPOCH 2 - PROGRESS: at 23.72% examples, 386852 words/s, in_qsize 6, out_qsize 0\n",
      "2023-03-13 22:45:06,623 : INFO : EPOCH 2 - PROGRESS: at 28.50% examples, 388277 words/s, in_qsize 6, out_qsize 0\n",
      "2023-03-13 22:45:07,666 : INFO : EPOCH 2 - PROGRESS: at 33.29% examples, 387341 words/s, in_qsize 5, out_qsize 0\n",
      "2023-03-13 22:45:08,690 : INFO : EPOCH 2 - PROGRESS: at 38.08% examples, 387202 words/s, in_qsize 5, out_qsize 0\n",
      "2023-03-13 22:45:09,699 : INFO : EPOCH 2 - PROGRESS: at 42.73% examples, 387795 words/s, in_qsize 5, out_qsize 0\n",
      "2023-03-13 22:45:10,701 : INFO : EPOCH 2 - PROGRESS: at 47.48% examples, 388638 words/s, in_qsize 5, out_qsize 0\n",
      "2023-03-13 22:45:11,706 : INFO : EPOCH 2 - PROGRESS: at 52.22% examples, 389288 words/s, in_qsize 5, out_qsize 0\n",
      "2023-03-13 22:45:12,723 : INFO : EPOCH 2 - PROGRESS: at 57.07% examples, 389476 words/s, in_qsize 5, out_qsize 0\n",
      "2023-03-13 22:45:13,726 : INFO : EPOCH 2 - PROGRESS: at 61.80% examples, 390065 words/s, in_qsize 5, out_qsize 0\n",
      "2023-03-13 22:45:14,731 : INFO : EPOCH 2 - PROGRESS: at 66.56% examples, 390445 words/s, in_qsize 5, out_qsize 0\n",
      "2023-03-13 22:45:15,755 : INFO : EPOCH 2 - PROGRESS: at 71.40% examples, 390749 words/s, in_qsize 5, out_qsize 0\n",
      "2023-03-13 22:45:16,767 : INFO : EPOCH 2 - PROGRESS: at 76.20% examples, 390991 words/s, in_qsize 5, out_qsize 0\n",
      "2023-03-13 22:45:17,785 : INFO : EPOCH 2 - PROGRESS: at 80.78% examples, 389760 words/s, in_qsize 5, out_qsize 0\n",
      "2023-03-13 22:45:18,801 : INFO : EPOCH 2 - PROGRESS: at 85.18% examples, 388591 words/s, in_qsize 5, out_qsize 0\n",
      "2023-03-13 22:45:19,823 : INFO : EPOCH 2 - PROGRESS: at 89.78% examples, 388437 words/s, in_qsize 5, out_qsize 0\n",
      "2023-03-13 22:45:20,825 : INFO : EPOCH 2 - PROGRESS: at 94.53% examples, 388792 words/s, in_qsize 5, out_qsize 0\n",
      "2023-03-13 22:45:21,836 : INFO : EPOCH 2 - PROGRESS: at 99.42% examples, 389201 words/s, in_qsize 5, out_qsize 0\n",
      "2023-03-13 22:45:21,932 : INFO : worker thread finished; awaiting finish of 2 more threads\n",
      "2023-03-13 22:45:21,943 : INFO : worker thread finished; awaiting finish of 1 more threads\n",
      "2023-03-13 22:45:21,945 : INFO : worker thread finished; awaiting finish of 0 more threads\n"
     ]
    },
    {
     "name": "stderr",
     "output_type": "stream",
     "text": [
      "2023-03-13 22:45:21,946 : INFO : EPOCH - 2 : training on 11176467 raw words (8367317 effective words) took 21.5s, 389535 effective words/s\n",
      "2023-03-13 22:45:22,955 : INFO : EPOCH 3 - PROGRESS: at 4.68% examples, 382406 words/s, in_qsize 5, out_qsize 0\n",
      "2023-03-13 22:45:23,958 : INFO : EPOCH 3 - PROGRESS: at 9.37% examples, 389314 words/s, in_qsize 5, out_qsize 0\n",
      "2023-03-13 22:45:24,974 : INFO : EPOCH 3 - PROGRESS: at 14.01% examples, 390212 words/s, in_qsize 5, out_qsize 0\n",
      "2023-03-13 22:45:26,015 : INFO : EPOCH 3 - PROGRESS: at 18.48% examples, 382453 words/s, in_qsize 5, out_qsize 0\n",
      "2023-03-13 22:45:27,019 : INFO : EPOCH 3 - PROGRESS: at 22.74% examples, 377687 words/s, in_qsize 5, out_qsize 0\n",
      "2023-03-13 22:45:28,021 : INFO : EPOCH 3 - PROGRESS: at 27.11% examples, 374631 words/s, in_qsize 5, out_qsize 0\n",
      "2023-03-13 22:45:29,037 : INFO : EPOCH 3 - PROGRESS: at 31.71% examples, 375054 words/s, in_qsize 5, out_qsize 0\n",
      "2023-03-13 22:45:30,049 : INFO : EPOCH 3 - PROGRESS: at 36.49% examples, 377170 words/s, in_qsize 5, out_qsize 0\n",
      "2023-03-13 22:45:31,050 : INFO : EPOCH 3 - PROGRESS: at 41.24% examples, 379766 words/s, in_qsize 5, out_qsize 0\n",
      "2023-03-13 22:45:32,085 : INFO : EPOCH 3 - PROGRESS: at 46.05% examples, 380853 words/s, in_qsize 5, out_qsize 0\n",
      "2023-03-13 22:45:33,093 : INFO : EPOCH 3 - PROGRESS: at 50.84% examples, 382045 words/s, in_qsize 5, out_qsize 0\n",
      "2023-03-13 22:45:34,098 : INFO : EPOCH 3 - PROGRESS: at 55.63% examples, 383217 words/s, in_qsize 5, out_qsize 0\n",
      "2023-03-13 22:45:35,117 : INFO : EPOCH 3 - PROGRESS: at 60.43% examples, 383857 words/s, in_qsize 5, out_qsize 0\n",
      "2023-03-13 22:45:36,154 : INFO : EPOCH 3 - PROGRESS: at 65.11% examples, 383827 words/s, in_qsize 5, out_qsize 0\n",
      "2023-03-13 22:45:37,194 : INFO : EPOCH 3 - PROGRESS: at 69.92% examples, 383716 words/s, in_qsize 5, out_qsize 0\n",
      "2023-03-13 22:45:38,227 : INFO : EPOCH 3 - PROGRESS: at 74.43% examples, 382499 words/s, in_qsize 5, out_qsize 0\n",
      "2023-03-13 22:45:39,237 : INFO : EPOCH 3 - PROGRESS: at 79.07% examples, 382390 words/s, in_qsize 6, out_qsize 0\n",
      "2023-03-13 22:45:40,246 : INFO : EPOCH 3 - PROGRESS: at 83.84% examples, 382957 words/s, in_qsize 5, out_qsize 0\n",
      "2023-03-13 22:45:41,246 : INFO : EPOCH 3 - PROGRESS: at 88.40% examples, 383568 words/s, in_qsize 6, out_qsize 0\n",
      "2023-03-13 22:45:42,253 : INFO : EPOCH 3 - PROGRESS: at 93.13% examples, 384070 words/s, in_qsize 5, out_qsize 0\n",
      "2023-03-13 22:45:43,260 : INFO : EPOCH 3 - PROGRESS: at 97.97% examples, 384761 words/s, in_qsize 5, out_qsize 0\n",
      "2023-03-13 22:45:43,652 : INFO : worker thread finished; awaiting finish of 2 more threads\n",
      "2023-03-13 22:45:43,683 : INFO : worker thread finished; awaiting finish of 1 more threads\n",
      "2023-03-13 22:45:43,685 : INFO : worker thread finished; awaiting finish of 0 more threads\n",
      "2023-03-13 22:45:43,685 : INFO : EPOCH - 3 : training on 11176467 raw words (8366354 effective words) took 21.7s, 384932 effective words/s\n",
      "2023-03-13 22:45:44,721 : INFO : EPOCH 4 - PROGRESS: at 4.68% examples, 372772 words/s, in_qsize 5, out_qsize 0\n",
      "2023-03-13 22:45:45,757 : INFO : EPOCH 4 - PROGRESS: at 9.37% examples, 378267 words/s, in_qsize 5, out_qsize 0\n",
      "2023-03-13 22:45:46,793 : INFO : EPOCH 4 - PROGRESS: at 14.01% examples, 380268 words/s, in_qsize 5, out_qsize 0\n",
      "2023-03-13 22:45:47,821 : INFO : EPOCH 4 - PROGRESS: at 18.75% examples, 381553 words/s, in_qsize 5, out_qsize 0\n",
      "2023-03-13 22:45:48,847 : INFO : EPOCH 4 - PROGRESS: at 23.45% examples, 382427 words/s, in_qsize 5, out_qsize 0\n",
      "2023-03-13 22:45:49,863 : INFO : EPOCH 4 - PROGRESS: at 28.32% examples, 384996 words/s, in_qsize 5, out_qsize 0\n",
      "2023-03-13 22:45:50,872 : INFO : EPOCH 4 - PROGRESS: at 33.04% examples, 385338 words/s, in_qsize 5, out_qsize 0\n",
      "2023-03-13 22:45:51,890 : INFO : EPOCH 4 - PROGRESS: at 37.62% examples, 384065 words/s, in_qsize 5, out_qsize 0\n",
      "2023-03-13 22:45:52,901 : INFO : EPOCH 4 - PROGRESS: at 42.10% examples, 383269 words/s, in_qsize 5, out_qsize 0\n",
      "2023-03-13 22:45:53,911 : INFO : EPOCH 4 - PROGRESS: at 46.83% examples, 384239 words/s, in_qsize 5, out_qsize 0\n",
      "2023-03-13 22:45:54,921 : INFO : EPOCH 4 - PROGRESS: at 51.67% examples, 385826 words/s, in_qsize 5, out_qsize 0\n",
      "2023-03-13 22:45:55,933 : INFO : EPOCH 4 - PROGRESS: at 56.60% examples, 387012 words/s, in_qsize 5, out_qsize 0\n",
      "2023-03-13 22:45:56,939 : INFO : EPOCH 4 - PROGRESS: at 61.43% examples, 388263 words/s, in_qsize 5, out_qsize 0\n",
      "2023-03-13 22:45:57,940 : INFO : EPOCH 4 - PROGRESS: at 66.10% examples, 388399 words/s, in_qsize 6, out_qsize 0\n",
      "2023-03-13 22:45:58,949 : INFO : EPOCH 4 - PROGRESS: at 70.80% examples, 388224 words/s, in_qsize 5, out_qsize 0\n",
      "2023-03-13 22:45:59,955 : INFO : EPOCH 4 - PROGRESS: at 75.41% examples, 387891 words/s, in_qsize 5, out_qsize 0\n",
      "2023-03-13 22:46:00,964 : INFO : EPOCH 4 - PROGRESS: at 80.12% examples, 387888 words/s, in_qsize 5, out_qsize 0\n",
      "2023-03-13 22:46:01,972 : INFO : EPOCH 4 - PROGRESS: at 84.86% examples, 388174 words/s, in_qsize 5, out_qsize 0\n",
      "2023-03-13 22:46:02,978 : INFO : EPOCH 4 - PROGRESS: at 89.58% examples, 389143 words/s, in_qsize 5, out_qsize 0\n",
      "2023-03-13 22:46:03,982 : INFO : EPOCH 4 - PROGRESS: at 94.44% examples, 389801 words/s, in_qsize 5, out_qsize 0\n",
      "2023-03-13 22:46:04,987 : INFO : EPOCH 4 - PROGRESS: at 99.32% examples, 390262 words/s, in_qsize 5, out_qsize 0\n",
      "2023-03-13 22:46:05,097 : INFO : worker thread finished; awaiting finish of 2 more threads\n",
      "2023-03-13 22:46:05,110 : INFO : worker thread finished; awaiting finish of 1 more threads\n",
      "2023-03-13 22:46:05,124 : INFO : worker thread finished; awaiting finish of 0 more threads\n",
      "2023-03-13 22:46:05,125 : INFO : EPOCH - 4 : training on 11176467 raw words (8368760 effective words) took 21.4s, 390433 effective words/s\n",
      "2023-03-13 22:46:06,153 : INFO : EPOCH 5 - PROGRESS: at 4.68% examples, 375086 words/s, in_qsize 5, out_qsize 0\n",
      "2023-03-13 22:46:07,157 : INFO : EPOCH 5 - PROGRESS: at 9.30% examples, 381944 words/s, in_qsize 5, out_qsize 0\n",
      "2023-03-13 22:46:08,167 : INFO : EPOCH 5 - PROGRESS: at 13.47% examples, 373828 words/s, in_qsize 5, out_qsize 0\n",
      "2023-03-13 22:46:09,173 : INFO : EPOCH 5 - PROGRESS: at 18.14% examples, 377180 words/s, in_qsize 5, out_qsize 0\n",
      "2023-03-13 22:46:10,189 : INFO : EPOCH 5 - PROGRESS: at 22.93% examples, 381167 words/s, in_qsize 5, out_qsize 0\n",
      "2023-03-13 22:46:11,199 : INFO : EPOCH 5 - PROGRESS: at 27.88% examples, 385537 words/s, in_qsize 5, out_qsize 0\n",
      "2023-03-13 22:46:12,202 : INFO : EPOCH 5 - PROGRESS: at 32.84% examples, 389252 words/s, in_qsize 5, out_qsize 0\n",
      "2023-03-13 22:46:13,242 : INFO : EPOCH 5 - PROGRESS: at 37.71% examples, 389096 words/s, in_qsize 6, out_qsize 0\n",
      "2023-03-13 22:46:14,248 : INFO : EPOCH 5 - PROGRESS: at 42.39% examples, 389580 words/s, in_qsize 6, out_qsize 0\n",
      "2023-03-13 22:46:15,255 : INFO : EPOCH 5 - PROGRESS: at 47.12% examples, 390008 words/s, in_qsize 6, out_qsize 0\n",
      "2023-03-13 22:46:16,270 : INFO : EPOCH 5 - PROGRESS: at 51.85% examples, 390231 words/s, in_qsize 6, out_qsize 0\n",
      "2023-03-13 22:46:17,271 : INFO : EPOCH 5 - PROGRESS: at 56.70% examples, 390831 words/s, in_qsize 5, out_qsize 0\n",
      "2023-03-13 22:46:18,286 : INFO : EPOCH 5 - PROGRESS: at 61.43% examples, 390986 words/s, in_qsize 5, out_qsize 0\n",
      "2023-03-13 22:46:19,289 : INFO : EPOCH 5 - PROGRESS: at 66.21% examples, 391345 words/s, in_qsize 5, out_qsize 0\n",
      "2023-03-13 22:46:20,302 : INFO : EPOCH 5 - PROGRESS: at 71.04% examples, 391854 words/s, in_qsize 5, out_qsize 0\n",
      "2023-03-13 22:46:21,328 : INFO : EPOCH 5 - PROGRESS: at 75.74% examples, 391272 words/s, in_qsize 6, out_qsize 0\n",
      "2023-03-13 22:46:22,329 : INFO : EPOCH 5 - PROGRESS: at 80.42% examples, 390827 words/s, in_qsize 5, out_qsize 0\n",
      "2023-03-13 22:46:23,350 : INFO : EPOCH 5 - PROGRESS: at 85.11% examples, 390678 words/s, in_qsize 5, out_qsize 0\n",
      "2023-03-13 22:46:24,350 : INFO : EPOCH 5 - PROGRESS: at 89.78% examples, 391249 words/s, in_qsize 5, out_qsize 0\n",
      "2023-03-13 22:46:25,355 : INFO : EPOCH 5 - PROGRESS: at 94.63% examples, 391808 words/s, in_qsize 5, out_qsize 0\n",
      "2023-03-13 22:46:26,377 : INFO : EPOCH 5 - PROGRESS: at 99.67% examples, 392546 words/s, in_qsize 4, out_qsize 0\n",
      "2023-03-13 22:46:26,401 : INFO : worker thread finished; awaiting finish of 2 more threads\n",
      "2023-03-13 22:46:26,431 : INFO : worker thread finished; awaiting finish of 1 more threads\n"
     ]
    },
    {
     "name": "stderr",
     "output_type": "stream",
     "text": [
      "2023-03-13 22:46:26,440 : INFO : worker thread finished; awaiting finish of 0 more threads\n",
      "2023-03-13 22:46:26,441 : INFO : EPOCH - 5 : training on 11176467 raw words (8368276 effective words) took 21.3s, 392674 effective words/s\n",
      "2023-03-13 22:46:26,441 : INFO : Word2Vec lifecycle event {'msg': 'training on 55882335 raw words (41838878 effective words) took 106.8s, 391919 effective words/s', 'datetime': '2023-03-13T22:46:26.441972', 'gensim': '4.1.2', 'python': '3.9.13 (main, Aug 25 2022, 18:29:29) \\n[Clang 12.0.0 ]', 'platform': 'macOS-10.16-x86_64-i386-64bit', 'event': 'train'}\n",
      "2023-03-13 22:46:26,442 : INFO : Word2Vec lifecycle event {'params': 'Word2Vec(vocab=26588, vector_size=150, alpha=0.025)', 'datetime': '2023-03-13T22:46:26.442417', 'gensim': '4.1.2', 'python': '3.9.13 (main, Aug 25 2022, 18:29:29) \\n[Clang 12.0.0 ]', 'platform': 'macOS-10.16-x86_64-i386-64bit', 'event': 'created'}\n",
      "/Users/arjunvelmurugan/opt/anaconda3/lib/python3.9/site-packages/sklearn/linear_model/_logistic.py:814: ConvergenceWarning: lbfgs failed to converge (status=1):\n",
      "STOP: TOTAL NO. of ITERATIONS REACHED LIMIT.\n",
      "\n",
      "Increase the number of iterations (max_iter) or scale the data as shown in:\n",
      "    https://scikit-learn.org/stable/modules/preprocessing.html\n",
      "Please also refer to the documentation for alternative solver options:\n",
      "    https://scikit-learn.org/stable/modules/linear_model.html#logistic-regression\n",
      "  n_iter_i = _check_optimize_result(\n"
     ]
    },
    {
     "name": "stdout",
     "output_type": "stream",
     "text": [
      "CLASSIFICATION REPORT FOR SIZE= 150\n",
      "              precision    recall  f1-score   support\n",
      "\n",
      "    negative       0.87      0.87      0.87      4988\n",
      "    positive       0.87      0.87      0.87      5012\n",
      "\n",
      "    accuracy                           0.87     10000\n",
      "   macro avg       0.87      0.87      0.87     10000\n",
      "weighted avg       0.87      0.87      0.87     10000\n",
      "\n"
     ]
    }
   ],
   "source": [
    "#loop through output size\n",
    "test_acc=[]\n",
    "train_acc=[]\n",
    "for i in [25, 50, 100, 150]:\n",
    "    #fit w2v model\n",
    "    w2v_model = gensim.models.Word2Vec (stemmed_tokens, vector_size=i, window=5, min_count=5, sg=1)\n",
    "    #create doc embeddings df\n",
    "    w2v_embed_df_train=create_doc_vec(X_train)\n",
    "    #fit logit\n",
    "    logreg = LogisticRegression(n_jobs=1)\n",
    "    logreg.fit(w2v_embed_df_train, Y_train)\n",
    "    #create test doc vectors\n",
    "    doc_vec_test=create_doc_vec(X_test)\n",
    "    #evaluate predictions\n",
    "    test_predictions_word2vec = logreg.predict(doc_vec_test)\n",
    "    train_predictions_word2vec = logreg.predict(w2v_embed_df_train)\n",
    "    print('CLASSIFICATION REPORT FOR SIZE=',i)\n",
    "    print(classification_report(Y_test,test_predictions_word2vec))\n",
    "    test_acc.append(classification_report(Y_test, test_predictions_word2vec, output_dict=True)['accuracy'])\n",
    "    train_acc.append(classification_report(Y_train, train_predictions_word2vec, output_dict=True)['accuracy'])"
   ]
  },
  {
   "cell_type": "markdown",
   "id": "be8700cd",
   "metadata": {},
   "source": [
    "## Analysis:\n",
    "\n",
    "Increase in vector size results in subsequent increase in accuracy. The more compressed the vector is, the more context is lost within the language. In the plot below, we can see improvements in accuracy with vector size."
   ]
  },
  {
   "cell_type": "code",
   "execution_count": 28,
   "id": "7eb71678",
   "metadata": {},
   "outputs": [
    {
     "data": {
      "image/png": "[encoded data removed]",
      "text/plain": [
       "<Figure size 640x480 with 1 Axes>"
      ]
     },
     "metadata": {},
     "output_type": "display_data"
    }
   ],
   "source": [
    "import matplotlib.pyplot as plt\n",
    "d={\"train\":train_acc,\n",
    "  \"test\":test_acc}\n",
    "acc_df=pd.DataFrame(d)\n",
    "acc_df.plot(style=['o','rx'], linestyle = 'dotted')\n",
    "plt.show()"
   ]
  },
  {
   "cell_type": "markdown",
   "id": "7b918d02",
   "metadata": {},
   "source": [
    "## Part 3"
   ]
  },
  {
   "cell_type": "code",
   "execution_count": 29,
   "id": "64ec4736",
   "metadata": {
    "scrolled": true
   },
   "outputs": [
    {
     "name": "stderr",
     "output_type": "stream",
     "text": [
      "2023-03-13 22:51:37,400 : INFO : collecting all words and their counts\n",
      "2023-03-13 22:51:37,401 : INFO : PROGRESS: at sentence #0, processed 0 words, keeping 0 word types\n",
      "2023-03-13 22:51:37,777 : INFO : PROGRESS: at sentence #10000, processed 2235115 words, keeping 34948 word types\n",
      "2023-03-13 22:51:38,179 : INFO : PROGRESS: at sentence #20000, processed 4471355 words, keeping 46592 word types\n",
      "2023-03-13 22:51:38,582 : INFO : PROGRESS: at sentence #30000, processed 6703795 words, keeping 55178 word types\n",
      "2023-03-13 22:51:38,901 : INFO : PROGRESS: at sentence #40000, processed 8930547 words, keeping 62430 word types\n",
      "2023-03-13 22:51:39,212 : INFO : collected 68818 word types from a corpus of 11176467 raw words and 50000 sentences\n",
      "2023-03-13 22:51:39,213 : INFO : Creating a fresh vocabulary\n",
      "2023-03-13 22:51:39,320 : INFO : Word2Vec lifecycle event {'msg': 'effective_min_count=5 retains 26588 unique words (38.63524078002848%% of original 68818, drops 42230)', 'datetime': '2023-03-13T22:51:39.320903', 'gensim': '4.1.2', 'python': '3.9.13 (main, Aug 25 2022, 18:29:29) \\n[Clang 12.0.0 ]', 'platform': 'macOS-10.16-x86_64-i386-64bit', 'event': 'prepare_vocab'}\n",
      "2023-03-13 22:51:39,321 : INFO : Word2Vec lifecycle event {'msg': 'effective_min_count=5 leaves 11108863 word corpus (99.39512191106546%% of original 11176467, drops 67604)', 'datetime': '2023-03-13T22:51:39.321541', 'gensim': '4.1.2', 'python': '3.9.13 (main, Aug 25 2022, 18:29:29) \\n[Clang 12.0.0 ]', 'platform': 'macOS-10.16-x86_64-i386-64bit', 'event': 'prepare_vocab'}\n",
      "2023-03-13 22:51:39,467 : INFO : deleting the raw counts dictionary of 68818 items\n",
      "2023-03-13 22:51:39,469 : INFO : sample=0.001 downsamples 48 most-common words\n",
      "2023-03-13 22:51:39,470 : INFO : Word2Vec lifecycle event {'msg': 'downsampling leaves estimated 8368333.100896217 word corpus (75.3%% of prior 11108863)', 'datetime': '2023-03-13T22:51:39.470106', 'gensim': '4.1.2', 'python': '3.9.13 (main, Aug 25 2022, 18:29:29) \\n[Clang 12.0.0 ]', 'platform': 'macOS-10.16-x86_64-i386-64bit', 'event': 'prepare_vocab'}\n",
      "2023-03-13 22:51:39,719 : INFO : estimated required memory for 26588 words and 100 dimensions: 34564400 bytes\n",
      "2023-03-13 22:51:39,720 : INFO : resetting layer weights\n",
      "2023-03-13 22:51:39,734 : INFO : Word2Vec lifecycle event {'update': False, 'trim_rule': 'None', 'datetime': '2023-03-13T22:51:39.734221', 'gensim': '4.1.2', 'python': '3.9.13 (main, Aug 25 2022, 18:29:29) \\n[Clang 12.0.0 ]', 'platform': 'macOS-10.16-x86_64-i386-64bit', 'event': 'build_vocab'}\n",
      "2023-03-13 22:51:39,735 : INFO : Word2Vec lifecycle event {'msg': 'training model with 3 workers on 26588 vocabulary and 100 features, using sg=1 hs=0 sample=0.001 negative=5 window=2 shrink_windows=True', 'datetime': '2023-03-13T22:51:39.735135', 'gensim': '4.1.2', 'python': '3.9.13 (main, Aug 25 2022, 18:29:29) \\n[Clang 12.0.0 ]', 'platform': 'macOS-10.16-x86_64-i386-64bit', 'event': 'train'}\n",
      "2023-03-13 22:51:40,745 : INFO : EPOCH 1 - PROGRESS: at 10.22% examples, 854851 words/s, in_qsize 6, out_qsize 0\n",
      "2023-03-13 22:51:41,754 : INFO : EPOCH 1 - PROGRESS: at 20.72% examples, 865017 words/s, in_qsize 6, out_qsize 0\n",
      "2023-03-13 22:51:42,758 : INFO : EPOCH 1 - PROGRESS: at 31.26% examples, 869546 words/s, in_qsize 5, out_qsize 0\n",
      "2023-03-13 22:51:43,758 : INFO : EPOCH 1 - PROGRESS: at 41.77% examples, 871920 words/s, in_qsize 5, out_qsize 0\n",
      "2023-03-13 22:51:44,760 : INFO : EPOCH 1 - PROGRESS: at 52.43% examples, 875333 words/s, in_qsize 5, out_qsize 0\n",
      "2023-03-13 22:51:45,777 : INFO : EPOCH 1 - PROGRESS: at 62.96% examples, 873454 words/s, in_qsize 6, out_qsize 0\n",
      "2023-03-13 22:51:46,790 : INFO : EPOCH 1 - PROGRESS: at 73.27% examples, 869995 words/s, in_qsize 5, out_qsize 1\n",
      "2023-03-13 22:51:47,798 : INFO : EPOCH 1 - PROGRESS: at 82.32% examples, 854582 words/s, in_qsize 5, out_qsize 0\n",
      "2023-03-13 22:51:48,798 : INFO : EPOCH 1 - PROGRESS: at 90.60% examples, 837915 words/s, in_qsize 5, out_qsize 0\n",
      "2023-03-13 22:51:49,807 : INFO : EPOCH 1 - PROGRESS: at 99.32% examples, 825977 words/s, in_qsize 5, out_qsize 0\n",
      "2023-03-13 22:51:49,878 : INFO : worker thread finished; awaiting finish of 2 more threads\n",
      "2023-03-13 22:51:49,888 : INFO : worker thread finished; awaiting finish of 1 more threads\n",
      "2023-03-13 22:51:49,891 : INFO : worker thread finished; awaiting finish of 0 more threads\n",
      "2023-03-13 22:51:49,892 : INFO : EPOCH - 1 : training on 11176467 raw words (8368188 effective words) took 10.1s, 824732 effective words/s\n",
      "2023-03-13 22:51:50,903 : INFO : EPOCH 2 - PROGRESS: at 9.14% examples, 758183 words/s, in_qsize 6, out_qsize 0\n",
      "2023-03-13 22:51:51,911 : INFO : EPOCH 2 - PROGRESS: at 18.56% examples, 776486 words/s, in_qsize 5, out_qsize 0\n",
      "2023-03-13 22:51:52,926 : INFO : EPOCH 2 - PROGRESS: at 28.32% examples, 785365 words/s, in_qsize 5, out_qsize 0\n",
      "2023-03-13 22:51:53,942 : INFO : EPOCH 2 - PROGRESS: at 38.19% examples, 789868 words/s, in_qsize 6, out_qsize 0\n",
      "2023-03-13 22:51:54,950 : INFO : EPOCH 2 - PROGRESS: at 48.13% examples, 798144 words/s, in_qsize 6, out_qsize 0\n",
      "2023-03-13 22:51:55,952 : INFO : EPOCH 2 - PROGRESS: at 58.15% examples, 803464 words/s, in_qsize 6, out_qsize 0\n",
      "2023-03-13 22:51:56,966 : INFO : EPOCH 2 - PROGRESS: at 67.76% examples, 801816 words/s, in_qsize 5, out_qsize 0\n",
      "2023-03-13 22:51:57,976 : INFO : EPOCH 2 - PROGRESS: at 77.07% examples, 798373 words/s, in_qsize 6, out_qsize 0\n",
      "2023-03-13 22:51:58,978 : INFO : EPOCH 2 - PROGRESS: at 86.43% examples, 796887 words/s, in_qsize 5, out_qsize 0\n",
      "2023-03-13 22:51:59,982 : INFO : EPOCH 2 - PROGRESS: at 96.09% examples, 798111 words/s, in_qsize 6, out_qsize 0\n",
      "2023-03-13 22:52:00,350 : INFO : worker thread finished; awaiting finish of 2 more threads\n",
      "2023-03-13 22:52:00,356 : INFO : worker thread finished; awaiting finish of 1 more threads\n",
      "2023-03-13 22:52:00,357 : INFO : worker thread finished; awaiting finish of 0 more threads\n",
      "2023-03-13 22:52:00,358 : INFO : EPOCH - 2 : training on 11176467 raw words (8367688 effective words) took 10.5s, 800130 effective words/s\n",
      "2023-03-13 22:52:01,369 : INFO : EPOCH 3 - PROGRESS: at 9.61% examples, 801144 words/s, in_qsize 5, out_qsize 0\n",
      "2023-03-13 22:52:02,378 : INFO : EPOCH 3 - PROGRESS: at 19.42% examples, 808851 words/s, in_qsize 6, out_qsize 0\n",
      "2023-03-13 22:52:03,391 : INFO : EPOCH 3 - PROGRESS: at 29.40% examples, 814819 words/s, in_qsize 6, out_qsize 0\n",
      "2023-03-13 22:52:04,395 : INFO : EPOCH 3 - PROGRESS: at 39.48% examples, 819816 words/s, in_qsize 6, out_qsize 0\n",
      "2023-03-13 22:52:05,398 : INFO : EPOCH 3 - PROGRESS: at 49.24% examples, 819944 words/s, in_qsize 5, out_qsize 0\n",
      "2023-03-13 22:52:06,415 : INFO : EPOCH 3 - PROGRESS: at 59.05% examples, 816262 words/s, in_qsize 5, out_qsize 0\n",
      "2023-03-13 22:52:07,421 : INFO : EPOCH 3 - PROGRESS: at 68.63% examples, 813702 words/s, in_qsize 6, out_qsize 0\n",
      "2023-03-13 22:52:08,439 : INFO : EPOCH 3 - PROGRESS: at 78.32% examples, 811672 words/s, in_qsize 6, out_qsize 0\n",
      "2023-03-13 22:52:09,454 : INFO : EPOCH 3 - PROGRESS: at 87.98% examples, 810503 words/s, in_qsize 6, out_qsize 0\n",
      "2023-03-13 22:52:10,459 : INFO : EPOCH 3 - PROGRESS: at 97.71% examples, 810321 words/s, in_qsize 5, out_qsize 0\n",
      "2023-03-13 22:52:10,684 : INFO : worker thread finished; awaiting finish of 2 more threads\n",
      "2023-03-13 22:52:10,692 : INFO : worker thread finished; awaiting finish of 1 more threads\n",
      "2023-03-13 22:52:10,696 : INFO : worker thread finished; awaiting finish of 0 more threads\n",
      "2023-03-13 22:52:10,696 : INFO : EPOCH - 3 : training on 11176467 raw words (8368474 effective words) took 10.3s, 810080 effective words/s\n",
      "2023-03-13 22:52:11,714 : INFO : EPOCH 4 - PROGRESS: at 9.37% examples, 775256 words/s, in_qsize 5, out_qsize 0\n",
      "2023-03-13 22:52:12,716 : INFO : EPOCH 4 - PROGRESS: at 19.04% examples, 795212 words/s, in_qsize 5, out_qsize 0\n",
      "2023-03-13 22:52:13,720 : INFO : EPOCH 4 - PROGRESS: at 28.84% examples, 802981 words/s, in_qsize 5, out_qsize 0\n",
      "2023-03-13 22:52:14,733 : INFO : EPOCH 4 - PROGRESS: at 38.92% examples, 807306 words/s, in_qsize 6, out_qsize 1\n",
      "2023-03-13 22:52:15,737 : INFO : EPOCH 4 - PROGRESS: at 49.08% examples, 816975 words/s, in_qsize 6, out_qsize 0\n",
      "2023-03-13 22:52:16,746 : INFO : EPOCH 4 - PROGRESS: at 59.56% examples, 824575 words/s, in_qsize 6, out_qsize 0\n"
     ]
    },
    {
     "name": "stderr",
     "output_type": "stream",
     "text": [
      "2023-03-13 22:52:17,750 : INFO : EPOCH 4 - PROGRESS: at 69.73% examples, 828413 words/s, in_qsize 6, out_qsize 0\n",
      "2023-03-13 22:52:18,759 : INFO : EPOCH 4 - PROGRESS: at 79.87% examples, 829166 words/s, in_qsize 6, out_qsize 2\n",
      "2023-03-13 22:52:19,773 : INFO : EPOCH 4 - PROGRESS: at 89.93% examples, 830911 words/s, in_qsize 6, out_qsize 0\n",
      "2023-03-13 22:52:20,744 : INFO : worker thread finished; awaiting finish of 2 more threads\n",
      "2023-03-13 22:52:20,747 : INFO : worker thread finished; awaiting finish of 1 more threads\n",
      "2023-03-13 22:52:20,761 : INFO : worker thread finished; awaiting finish of 0 more threads\n",
      "2023-03-13 22:52:20,762 : INFO : EPOCH - 4 : training on 11176467 raw words (8367750 effective words) took 10.1s, 832167 effective words/s\n",
      "2023-03-13 22:52:21,770 : INFO : EPOCH 5 - PROGRESS: at 9.95% examples, 830103 words/s, in_qsize 6, out_qsize 0\n",
      "2023-03-13 22:52:22,778 : INFO : EPOCH 5 - PROGRESS: at 20.15% examples, 838291 words/s, in_qsize 6, out_qsize 0\n",
      "2023-03-13 22:52:23,779 : INFO : EPOCH 5 - PROGRESS: at 30.29% examples, 842645 words/s, in_qsize 6, out_qsize 0\n",
      "2023-03-13 22:52:24,785 : INFO : EPOCH 5 - PROGRESS: at 40.41% examples, 841781 words/s, in_qsize 5, out_qsize 0\n",
      "2023-03-13 22:52:25,794 : INFO : EPOCH 5 - PROGRESS: at 50.84% examples, 846981 words/s, in_qsize 5, out_qsize 0\n",
      "2023-03-13 22:52:26,797 : INFO : EPOCH 5 - PROGRESS: at 61.20% examples, 849296 words/s, in_qsize 6, out_qsize 1\n",
      "2023-03-13 22:52:27,812 : INFO : EPOCH 5 - PROGRESS: at 71.52% examples, 849111 words/s, in_qsize 6, out_qsize 0\n",
      "2023-03-13 22:52:28,819 : INFO : EPOCH 5 - PROGRESS: at 81.54% examples, 846450 words/s, in_qsize 6, out_qsize 0\n",
      "2023-03-13 22:52:29,830 : INFO : EPOCH 5 - PROGRESS: at 90.84% examples, 839315 words/s, in_qsize 5, out_qsize 0\n",
      "2023-03-13 22:52:30,834 : INFO : EPOCH 5 - PROGRESS: at 98.77% examples, 821067 words/s, in_qsize 5, out_qsize 0\n",
      "2023-03-13 22:52:30,949 : INFO : worker thread finished; awaiting finish of 2 more threads\n",
      "2023-03-13 22:52:30,961 : INFO : worker thread finished; awaiting finish of 1 more threads\n",
      "2023-03-13 22:52:30,970 : INFO : worker thread finished; awaiting finish of 0 more threads\n",
      "2023-03-13 22:52:30,971 : INFO : EPOCH - 5 : training on 11176467 raw words (8367833 effective words) took 10.2s, 819999 effective words/s\n",
      "2023-03-13 22:52:30,972 : INFO : Word2Vec lifecycle event {'msg': 'training on 55882335 raw words (41839933 effective words) took 51.2s, 816624 effective words/s', 'datetime': '2023-03-13T22:52:30.972317', 'gensim': '4.1.2', 'python': '3.9.13 (main, Aug 25 2022, 18:29:29) \\n[Clang 12.0.0 ]', 'platform': 'macOS-10.16-x86_64-i386-64bit', 'event': 'train'}\n",
      "2023-03-13 22:52:30,973 : INFO : Word2Vec lifecycle event {'params': 'Word2Vec(vocab=26588, vector_size=100, alpha=0.025)', 'datetime': '2023-03-13T22:52:30.973034', 'gensim': '4.1.2', 'python': '3.9.13 (main, Aug 25 2022, 18:29:29) \\n[Clang 12.0.0 ]', 'platform': 'macOS-10.16-x86_64-i386-64bit', 'event': 'created'}\n",
      "/Users/arjunvelmurugan/opt/anaconda3/lib/python3.9/site-packages/sklearn/linear_model/_logistic.py:814: ConvergenceWarning: lbfgs failed to converge (status=1):\n",
      "STOP: TOTAL NO. of ITERATIONS REACHED LIMIT.\n",
      "\n",
      "Increase the number of iterations (max_iter) or scale the data as shown in:\n",
      "    https://scikit-learn.org/stable/modules/preprocessing.html\n",
      "Please also refer to the documentation for alternative solver options:\n",
      "    https://scikit-learn.org/stable/modules/linear_model.html#logistic-regression\n",
      "  n_iter_i = _check_optimize_result(\n"
     ]
    },
    {
     "name": "stdout",
     "output_type": "stream",
     "text": [
      "CLASSIFICATION REPORT FOR WINDOW= 2\n",
      "              precision    recall  f1-score   support\n",
      "\n",
      "    negative       0.85      0.85      0.85      4988\n",
      "    positive       0.85      0.85      0.85      5012\n",
      "\n",
      "    accuracy                           0.85     10000\n",
      "   macro avg       0.85      0.85      0.85     10000\n",
      "weighted avg       0.85      0.85      0.85     10000\n",
      "\n"
     ]
    },
    {
     "name": "stderr",
     "output_type": "stream",
     "text": [
      "2023-03-13 22:57:22,790 : INFO : collecting all words and their counts\n",
      "2023-03-13 22:57:22,791 : INFO : PROGRESS: at sentence #0, processed 0 words, keeping 0 word types\n",
      "2023-03-13 22:57:23,093 : INFO : PROGRESS: at sentence #10000, processed 2235115 words, keeping 34948 word types\n",
      "2023-03-13 22:57:23,404 : INFO : PROGRESS: at sentence #20000, processed 4471355 words, keeping 46592 word types\n",
      "2023-03-13 22:57:23,698 : INFO : PROGRESS: at sentence #30000, processed 6703795 words, keeping 55178 word types\n",
      "2023-03-13 22:57:23,990 : INFO : PROGRESS: at sentence #40000, processed 8930547 words, keeping 62430 word types\n",
      "2023-03-13 22:57:24,287 : INFO : collected 68818 word types from a corpus of 11176467 raw words and 50000 sentences\n",
      "2023-03-13 22:57:24,288 : INFO : Creating a fresh vocabulary\n",
      "2023-03-13 22:57:24,394 : INFO : Word2Vec lifecycle event {'msg': 'effective_min_count=5 retains 26588 unique words (38.63524078002848%% of original 68818, drops 42230)', 'datetime': '2023-03-13T22:57:24.394512', 'gensim': '4.1.2', 'python': '3.9.13 (main, Aug 25 2022, 18:29:29) \\n[Clang 12.0.0 ]', 'platform': 'macOS-10.16-x86_64-i386-64bit', 'event': 'prepare_vocab'}\n",
      "2023-03-13 22:57:24,395 : INFO : Word2Vec lifecycle event {'msg': 'effective_min_count=5 leaves 11108863 word corpus (99.39512191106546%% of original 11176467, drops 67604)', 'datetime': '2023-03-13T22:57:24.395296', 'gensim': '4.1.2', 'python': '3.9.13 (main, Aug 25 2022, 18:29:29) \\n[Clang 12.0.0 ]', 'platform': 'macOS-10.16-x86_64-i386-64bit', 'event': 'prepare_vocab'}\n",
      "2023-03-13 22:57:24,550 : INFO : deleting the raw counts dictionary of 68818 items\n",
      "2023-03-13 22:57:24,552 : INFO : sample=0.001 downsamples 48 most-common words\n",
      "2023-03-13 22:57:24,553 : INFO : Word2Vec lifecycle event {'msg': 'downsampling leaves estimated 8368333.100896217 word corpus (75.3%% of prior 11108863)', 'datetime': '2023-03-13T22:57:24.553307', 'gensim': '4.1.2', 'python': '3.9.13 (main, Aug 25 2022, 18:29:29) \\n[Clang 12.0.0 ]', 'platform': 'macOS-10.16-x86_64-i386-64bit', 'event': 'prepare_vocab'}\n",
      "2023-03-13 22:57:24,787 : INFO : estimated required memory for 26588 words and 100 dimensions: 34564400 bytes\n",
      "2023-03-13 22:57:24,787 : INFO : resetting layer weights\n",
      "2023-03-13 22:57:24,800 : INFO : Word2Vec lifecycle event {'update': False, 'trim_rule': 'None', 'datetime': '2023-03-13T22:57:24.800860', 'gensim': '4.1.2', 'python': '3.9.13 (main, Aug 25 2022, 18:29:29) \\n[Clang 12.0.0 ]', 'platform': 'macOS-10.16-x86_64-i386-64bit', 'event': 'build_vocab'}\n",
      "2023-03-13 22:57:24,801 : INFO : Word2Vec lifecycle event {'msg': 'training model with 3 workers on 26588 vocabulary and 100 features, using sg=1 hs=0 sample=0.001 negative=5 window=3 shrink_windows=True', 'datetime': '2023-03-13T22:57:24.801487', 'gensim': '4.1.2', 'python': '3.9.13 (main, Aug 25 2022, 18:29:29) \\n[Clang 12.0.0 ]', 'platform': 'macOS-10.16-x86_64-i386-64bit', 'event': 'train'}\n",
      "2023-03-13 22:57:25,823 : INFO : EPOCH 1 - PROGRESS: at 7.80% examples, 639475 words/s, in_qsize 5, out_qsize 0\n",
      "2023-03-13 22:57:26,832 : INFO : EPOCH 1 - PROGRESS: at 15.62% examples, 647530 words/s, in_qsize 5, out_qsize 0\n",
      "2023-03-13 22:57:27,835 : INFO : EPOCH 1 - PROGRESS: at 23.55% examples, 653581 words/s, in_qsize 5, out_qsize 0\n",
      "2023-03-13 22:57:28,840 : INFO : EPOCH 1 - PROGRESS: at 31.62% examples, 656975 words/s, in_qsize 5, out_qsize 0\n",
      "2023-03-13 22:57:29,843 : INFO : EPOCH 1 - PROGRESS: at 39.71% examples, 660089 words/s, in_qsize 5, out_qsize 0\n",
      "2023-03-13 22:57:30,852 : INFO : EPOCH 1 - PROGRESS: at 47.66% examples, 660611 words/s, in_qsize 5, out_qsize 0\n",
      "2023-03-13 22:57:31,857 : INFO : EPOCH 1 - PROGRESS: at 55.72% examples, 661473 words/s, in_qsize 5, out_qsize 0\n",
      "2023-03-13 22:57:32,875 : INFO : EPOCH 1 - PROGRESS: at 63.78% examples, 662166 words/s, in_qsize 5, out_qsize 0\n",
      "2023-03-13 22:57:33,876 : INFO : EPOCH 1 - PROGRESS: at 71.59% examples, 660497 words/s, in_qsize 5, out_qsize 0\n",
      "2023-03-13 22:57:34,883 : INFO : EPOCH 1 - PROGRESS: at 79.25% examples, 657617 words/s, in_qsize 5, out_qsize 0\n",
      "2023-03-13 22:57:35,894 : INFO : EPOCH 1 - PROGRESS: at 86.76% examples, 655185 words/s, in_qsize 5, out_qsize 0\n",
      "2023-03-13 22:57:36,901 : INFO : EPOCH 1 - PROGRESS: at 94.07% examples, 651567 words/s, in_qsize 5, out_qsize 0\n",
      "2023-03-13 22:57:37,674 : INFO : worker thread finished; awaiting finish of 2 more threads\n",
      "2023-03-13 22:57:37,698 : INFO : worker thread finished; awaiting finish of 1 more threads\n",
      "2023-03-13 22:57:37,699 : INFO : worker thread finished; awaiting finish of 0 more threads\n",
      "2023-03-13 22:57:37,700 : INFO : EPOCH - 1 : training on 11176467 raw words (8369189 effective words) took 12.9s, 649068 effective words/s\n",
      "2023-03-13 22:57:38,712 : INFO : EPOCH 2 - PROGRESS: at 7.28% examples, 602191 words/s, in_qsize 5, out_qsize 0\n",
      "2023-03-13 22:57:39,714 : INFO : EPOCH 2 - PROGRESS: at 14.91% examples, 623902 words/s, in_qsize 5, out_qsize 0\n",
      "2023-03-13 22:57:40,743 : INFO : EPOCH 2 - PROGRESS: at 22.65% examples, 627815 words/s, in_qsize 5, out_qsize 0\n",
      "2023-03-13 22:57:41,754 : INFO : EPOCH 2 - PROGRESS: at 30.66% examples, 634576 words/s, in_qsize 5, out_qsize 0\n",
      "2023-03-13 22:57:42,769 : INFO : EPOCH 2 - PROGRESS: at 38.81% examples, 640796 words/s, in_qsize 5, out_qsize 0\n",
      "2023-03-13 22:57:43,784 : INFO : EPOCH 2 - PROGRESS: at 46.57% examples, 642416 words/s, in_qsize 5, out_qsize 0\n",
      "2023-03-13 22:57:44,784 : INFO : EPOCH 2 - PROGRESS: at 54.34% examples, 642279 words/s, in_qsize 5, out_qsize 0\n",
      "2023-03-13 22:57:45,793 : INFO : EPOCH 2 - PROGRESS: at 62.26% examples, 644319 words/s, in_qsize 5, out_qsize 0\n",
      "2023-03-13 22:57:46,810 : INFO : EPOCH 2 - PROGRESS: at 70.20% examples, 644933 words/s, in_qsize 5, out_qsize 0\n",
      "2023-03-13 22:57:47,824 : INFO : EPOCH 2 - PROGRESS: at 77.88% examples, 643840 words/s, in_qsize 5, out_qsize 0\n",
      "2023-03-13 22:57:48,847 : INFO : EPOCH 2 - PROGRESS: at 85.53% examples, 642118 words/s, in_qsize 5, out_qsize 0\n",
      "2023-03-13 22:57:49,862 : INFO : EPOCH 2 - PROGRESS: at 92.77% examples, 639102 words/s, in_qsize 5, out_qsize 0\n",
      "2023-03-13 22:57:50,846 : INFO : worker thread finished; awaiting finish of 2 more threads\n",
      "2023-03-13 22:57:50,870 : INFO : EPOCH 2 - PROGRESS: at 99.93% examples, 635145 words/s, in_qsize 1, out_qsize 1\n",
      "2023-03-13 22:57:50,871 : INFO : worker thread finished; awaiting finish of 1 more threads\n",
      "2023-03-13 22:57:50,872 : INFO : worker thread finished; awaiting finish of 0 more threads\n",
      "2023-03-13 22:57:50,873 : INFO : EPOCH - 2 : training on 11176467 raw words (8367737 effective words) took 13.2s, 635468 effective words/s\n",
      "2023-03-13 22:57:51,886 : INFO : EPOCH 3 - PROGRESS: at 6.99% examples, 579486 words/s, in_qsize 5, out_qsize 0\n",
      "2023-03-13 22:57:52,898 : INFO : EPOCH 3 - PROGRESS: at 14.74% examples, 613437 words/s, in_qsize 5, out_qsize 0\n",
      "2023-03-13 22:57:53,909 : INFO : EPOCH 3 - PROGRESS: at 22.56% examples, 626600 words/s, in_qsize 5, out_qsize 0\n",
      "2023-03-13 22:57:54,920 : INFO : EPOCH 3 - PROGRESS: at 30.57% examples, 633761 words/s, in_qsize 5, out_qsize 0\n",
      "2023-03-13 22:57:55,945 : INFO : EPOCH 3 - PROGRESS: at 38.29% examples, 631719 words/s, in_qsize 5, out_qsize 0\n",
      "2023-03-13 22:57:56,947 : INFO : EPOCH 3 - PROGRESS: at 45.70% examples, 631475 words/s, in_qsize 5, out_qsize 0\n",
      "2023-03-13 22:57:57,962 : INFO : EPOCH 3 - PROGRESS: at 53.24% examples, 629493 words/s, in_qsize 5, out_qsize 0\n",
      "2023-03-13 22:57:58,967 : INFO : EPOCH 3 - PROGRESS: at 60.68% examples, 627806 words/s, in_qsize 5, out_qsize 0\n",
      "2023-03-13 22:57:59,967 : INFO : EPOCH 3 - PROGRESS: at 68.11% examples, 626809 words/s, in_qsize 5, out_qsize 0\n",
      "2023-03-13 22:58:00,970 : INFO : EPOCH 3 - PROGRESS: at 75.58% examples, 626698 words/s, in_qsize 5, out_qsize 0\n",
      "2023-03-13 22:58:01,978 : INFO : EPOCH 3 - PROGRESS: at 83.34% examples, 627433 words/s, in_qsize 6, out_qsize 0\n",
      "2023-03-13 22:58:03,006 : INFO : EPOCH 3 - PROGRESS: at 90.76% examples, 626815 words/s, in_qsize 5, out_qsize 0\n",
      "2023-03-13 22:58:04,024 : INFO : EPOCH 3 - PROGRESS: at 98.33% examples, 626107 words/s, in_qsize 5, out_qsize 0\n",
      "2023-03-13 22:58:04,208 : INFO : worker thread finished; awaiting finish of 2 more threads\n",
      "2023-03-13 22:58:04,223 : INFO : worker thread finished; awaiting finish of 1 more threads\n"
     ]
    },
    {
     "name": "stderr",
     "output_type": "stream",
     "text": [
      "2023-03-13 22:58:04,230 : INFO : worker thread finished; awaiting finish of 0 more threads\n",
      "2023-03-13 22:58:04,230 : INFO : EPOCH - 3 : training on 11176467 raw words (8368964 effective words) took 13.4s, 626807 effective words/s\n",
      "2023-03-13 22:58:05,250 : INFO : EPOCH 4 - PROGRESS: at 7.80% examples, 639300 words/s, in_qsize 5, out_qsize 0\n",
      "2023-03-13 22:58:06,262 : INFO : EPOCH 4 - PROGRESS: at 15.62% examples, 646300 words/s, in_qsize 5, out_qsize 0\n",
      "2023-03-13 22:58:07,267 : INFO : EPOCH 4 - PROGRESS: at 23.12% examples, 640470 words/s, in_qsize 5, out_qsize 0\n",
      "2023-03-13 22:58:08,284 : INFO : EPOCH 4 - PROGRESS: at 30.37% examples, 628650 words/s, in_qsize 5, out_qsize 0\n",
      "2023-03-13 22:58:09,294 : INFO : EPOCH 4 - PROGRESS: at 37.90% examples, 626572 words/s, in_qsize 5, out_qsize 0\n",
      "2023-03-13 22:58:10,297 : INFO : EPOCH 4 - PROGRESS: at 45.53% examples, 629409 words/s, in_qsize 5, out_qsize 0\n",
      "2023-03-13 22:58:11,308 : INFO : EPOCH 4 - PROGRESS: at 53.52% examples, 633293 words/s, in_qsize 5, out_qsize 0\n",
      "2023-03-13 22:58:12,316 : INFO : EPOCH 4 - PROGRESS: at 61.61% examples, 638223 words/s, in_qsize 5, out_qsize 0\n",
      "2023-03-13 22:58:13,336 : INFO : EPOCH 4 - PROGRESS: at 69.64% examples, 640356 words/s, in_qsize 5, out_qsize 0\n",
      "2023-03-13 22:58:14,340 : INFO : EPOCH 4 - PROGRESS: at 77.53% examples, 641735 words/s, in_qsize 5, out_qsize 0\n",
      "2023-03-13 22:58:15,341 : INFO : EPOCH 4 - PROGRESS: at 85.11% examples, 640848 words/s, in_qsize 5, out_qsize 0\n",
      "2023-03-13 22:58:16,343 : INFO : EPOCH 4 - PROGRESS: at 92.51% examples, 639868 words/s, in_qsize 5, out_qsize 0\n",
      "2023-03-13 22:58:17,269 : INFO : worker thread finished; awaiting finish of 2 more threads\n",
      "2023-03-13 22:58:17,290 : INFO : worker thread finished; awaiting finish of 1 more threads\n",
      "2023-03-13 22:58:17,292 : INFO : worker thread finished; awaiting finish of 0 more threads\n",
      "2023-03-13 22:58:17,293 : INFO : EPOCH - 4 : training on 11176467 raw words (8369160 effective words) took 13.1s, 640817 effective words/s\n",
      "2023-03-13 22:58:18,316 : INFO : EPOCH 5 - PROGRESS: at 7.80% examples, 637537 words/s, in_qsize 5, out_qsize 0\n",
      "2023-03-13 22:58:19,324 : INFO : EPOCH 5 - PROGRESS: at 15.62% examples, 646401 words/s, in_qsize 5, out_qsize 0\n",
      "2023-03-13 22:58:20,347 : INFO : EPOCH 5 - PROGRESS: at 23.45% examples, 646147 words/s, in_qsize 5, out_qsize 0\n",
      "2023-03-13 22:58:21,350 : INFO : EPOCH 5 - PROGRESS: at 30.91% examples, 638819 words/s, in_qsize 5, out_qsize 0\n",
      "2023-03-13 22:58:22,354 : INFO : EPOCH 5 - PROGRESS: at 38.45% examples, 635436 words/s, in_qsize 6, out_qsize 0\n",
      "2023-03-13 22:58:23,355 : INFO : EPOCH 5 - PROGRESS: at 45.95% examples, 635793 words/s, in_qsize 5, out_qsize 0\n",
      "2023-03-13 22:58:24,356 : INFO : EPOCH 5 - PROGRESS: at 53.88% examples, 638635 words/s, in_qsize 5, out_qsize 0\n",
      "2023-03-13 22:58:25,369 : INFO : EPOCH 5 - PROGRESS: at 61.72% examples, 639817 words/s, in_qsize 5, out_qsize 0\n",
      "2023-03-13 22:58:26,390 : INFO : EPOCH 5 - PROGRESS: at 69.64% examples, 640802 words/s, in_qsize 5, out_qsize 0\n",
      "2023-03-13 22:58:27,404 : INFO : EPOCH 5 - PROGRESS: at 77.63% examples, 642349 words/s, in_qsize 5, out_qsize 0\n",
      "2023-03-13 22:58:28,404 : INFO : EPOCH 5 - PROGRESS: at 85.69% examples, 645345 words/s, in_qsize 6, out_qsize 0\n",
      "2023-03-13 22:58:29,410 : INFO : EPOCH 5 - PROGRESS: at 93.30% examples, 645008 words/s, in_qsize 5, out_qsize 0\n",
      "2023-03-13 22:58:30,271 : INFO : worker thread finished; awaiting finish of 2 more threads\n",
      "2023-03-13 22:58:30,299 : INFO : worker thread finished; awaiting finish of 1 more threads\n",
      "2023-03-13 22:58:30,300 : INFO : worker thread finished; awaiting finish of 0 more threads\n",
      "2023-03-13 22:58:30,301 : INFO : EPOCH - 5 : training on 11176467 raw words (8367783 effective words) took 13.0s, 643426 effective words/s\n",
      "2023-03-13 22:58:30,301 : INFO : Word2Vec lifecycle event {'msg': 'training on 55882335 raw words (41842833 effective words) took 65.5s, 638841 effective words/s', 'datetime': '2023-03-13T22:58:30.301881', 'gensim': '4.1.2', 'python': '3.9.13 (main, Aug 25 2022, 18:29:29) \\n[Clang 12.0.0 ]', 'platform': 'macOS-10.16-x86_64-i386-64bit', 'event': 'train'}\n",
      "2023-03-13 22:58:30,302 : INFO : Word2Vec lifecycle event {'params': 'Word2Vec(vocab=26588, vector_size=100, alpha=0.025)', 'datetime': '2023-03-13T22:58:30.302342', 'gensim': '4.1.2', 'python': '3.9.13 (main, Aug 25 2022, 18:29:29) \\n[Clang 12.0.0 ]', 'platform': 'macOS-10.16-x86_64-i386-64bit', 'event': 'created'}\n",
      "/Users/arjunvelmurugan/opt/anaconda3/lib/python3.9/site-packages/sklearn/linear_model/_logistic.py:814: ConvergenceWarning: lbfgs failed to converge (status=1):\n",
      "STOP: TOTAL NO. of ITERATIONS REACHED LIMIT.\n",
      "\n",
      "Increase the number of iterations (max_iter) or scale the data as shown in:\n",
      "    https://scikit-learn.org/stable/modules/preprocessing.html\n",
      "Please also refer to the documentation for alternative solver options:\n",
      "    https://scikit-learn.org/stable/modules/linear_model.html#logistic-regression\n",
      "  n_iter_i = _check_optimize_result(\n"
     ]
    },
    {
     "name": "stdout",
     "output_type": "stream",
     "text": [
      "CLASSIFICATION REPORT FOR WINDOW= 3\n",
      "              precision    recall  f1-score   support\n",
      "\n",
      "    negative       0.85      0.85      0.85      4988\n",
      "    positive       0.85      0.85      0.85      5012\n",
      "\n",
      "    accuracy                           0.85     10000\n",
      "   macro avg       0.85      0.85      0.85     10000\n",
      "weighted avg       0.85      0.85      0.85     10000\n",
      "\n"
     ]
    },
    {
     "name": "stderr",
     "output_type": "stream",
     "text": [
      "2023-03-13 23:03:36,565 : INFO : collecting all words and their counts\n",
      "2023-03-13 23:03:36,567 : INFO : PROGRESS: at sentence #0, processed 0 words, keeping 0 word types\n",
      "2023-03-13 23:03:36,910 : INFO : PROGRESS: at sentence #10000, processed 2235115 words, keeping 34948 word types\n",
      "2023-03-13 23:03:37,286 : INFO : PROGRESS: at sentence #20000, processed 4471355 words, keeping 46592 word types\n",
      "2023-03-13 23:03:37,656 : INFO : PROGRESS: at sentence #30000, processed 6703795 words, keeping 55178 word types\n",
      "2023-03-13 23:03:38,021 : INFO : PROGRESS: at sentence #40000, processed 8930547 words, keeping 62430 word types\n",
      "2023-03-13 23:03:38,368 : INFO : collected 68818 word types from a corpus of 11176467 raw words and 50000 sentences\n",
      "2023-03-13 23:03:38,368 : INFO : Creating a fresh vocabulary\n",
      "2023-03-13 23:03:38,474 : INFO : Word2Vec lifecycle event {'msg': 'effective_min_count=5 retains 26588 unique words (38.63524078002848%% of original 68818, drops 42230)', 'datetime': '2023-03-13T23:03:38.474915', 'gensim': '4.1.2', 'python': '3.9.13 (main, Aug 25 2022, 18:29:29) \\n[Clang 12.0.0 ]', 'platform': 'macOS-10.16-x86_64-i386-64bit', 'event': 'prepare_vocab'}\n",
      "2023-03-13 23:03:38,475 : INFO : Word2Vec lifecycle event {'msg': 'effective_min_count=5 leaves 11108863 word corpus (99.39512191106546%% of original 11176467, drops 67604)', 'datetime': '2023-03-13T23:03:38.475756', 'gensim': '4.1.2', 'python': '3.9.13 (main, Aug 25 2022, 18:29:29) \\n[Clang 12.0.0 ]', 'platform': 'macOS-10.16-x86_64-i386-64bit', 'event': 'prepare_vocab'}\n",
      "2023-03-13 23:03:38,620 : INFO : deleting the raw counts dictionary of 68818 items\n",
      "2023-03-13 23:03:38,622 : INFO : sample=0.001 downsamples 48 most-common words\n",
      "2023-03-13 23:03:38,623 : INFO : Word2Vec lifecycle event {'msg': 'downsampling leaves estimated 8368333.100896217 word corpus (75.3%% of prior 11108863)', 'datetime': '2023-03-13T23:03:38.623230', 'gensim': '4.1.2', 'python': '3.9.13 (main, Aug 25 2022, 18:29:29) \\n[Clang 12.0.0 ]', 'platform': 'macOS-10.16-x86_64-i386-64bit', 'event': 'prepare_vocab'}\n",
      "2023-03-13 23:03:38,858 : INFO : estimated required memory for 26588 words and 100 dimensions: 34564400 bytes\n",
      "2023-03-13 23:03:38,859 : INFO : resetting layer weights\n",
      "2023-03-13 23:03:38,874 : INFO : Word2Vec lifecycle event {'update': False, 'trim_rule': 'None', 'datetime': '2023-03-13T23:03:38.874054', 'gensim': '4.1.2', 'python': '3.9.13 (main, Aug 25 2022, 18:29:29) \\n[Clang 12.0.0 ]', 'platform': 'macOS-10.16-x86_64-i386-64bit', 'event': 'build_vocab'}\n",
      "2023-03-13 23:03:38,874 : INFO : Word2Vec lifecycle event {'msg': 'training model with 3 workers on 26588 vocabulary and 100 features, using sg=1 hs=0 sample=0.001 negative=5 window=5 shrink_windows=True', 'datetime': '2023-03-13T23:03:38.874968', 'gensim': '4.1.2', 'python': '3.9.13 (main, Aug 25 2022, 18:29:29) \\n[Clang 12.0.0 ]', 'platform': 'macOS-10.16-x86_64-i386-64bit', 'event': 'train'}\n",
      "2023-03-13 23:03:39,882 : INFO : EPOCH 1 - PROGRESS: at 5.55% examples, 457853 words/s, in_qsize 5, out_qsize 0\n",
      "2023-03-13 23:03:40,909 : INFO : EPOCH 1 - PROGRESS: at 11.12% examples, 461995 words/s, in_qsize 5, out_qsize 0\n",
      "2023-03-13 23:03:41,935 : INFO : EPOCH 1 - PROGRESS: at 16.95% examples, 465389 words/s, in_qsize 5, out_qsize 0\n",
      "2023-03-13 23:03:42,957 : INFO : EPOCH 1 - PROGRESS: at 22.65% examples, 467588 words/s, in_qsize 5, out_qsize 0\n",
      "2023-03-13 23:03:43,969 : INFO : EPOCH 1 - PROGRESS: at 28.50% examples, 469966 words/s, in_qsize 6, out_qsize 0\n",
      "2023-03-13 23:03:45,001 : INFO : EPOCH 1 - PROGRESS: at 34.34% examples, 470244 words/s, in_qsize 5, out_qsize 0\n",
      "2023-03-13 23:03:46,015 : INFO : EPOCH 1 - PROGRESS: at 40.14% examples, 471154 words/s, in_qsize 6, out_qsize 0\n",
      "2023-03-13 23:03:47,037 : INFO : EPOCH 1 - PROGRESS: at 45.87% examples, 471554 words/s, in_qsize 5, out_qsize 0\n",
      "2023-03-13 23:03:48,057 : INFO : EPOCH 1 - PROGRESS: at 51.67% examples, 472184 words/s, in_qsize 5, out_qsize 0\n",
      "2023-03-13 23:03:49,060 : INFO : EPOCH 1 - PROGRESS: at 57.32% examples, 471264 words/s, in_qsize 5, out_qsize 0\n",
      "2023-03-13 23:03:50,070 : INFO : EPOCH 1 - PROGRESS: at 62.79% examples, 469685 words/s, in_qsize 5, out_qsize 0\n",
      "2023-03-13 23:03:51,084 : INFO : EPOCH 1 - PROGRESS: at 68.28% examples, 467967 words/s, in_qsize 5, out_qsize 0\n",
      "2023-03-13 23:03:52,089 : INFO : EPOCH 1 - PROGRESS: at 73.72% examples, 466929 words/s, in_qsize 5, out_qsize 0\n",
      "2023-03-13 23:03:53,102 : INFO : EPOCH 1 - PROGRESS: at 79.36% examples, 466432 words/s, in_qsize 5, out_qsize 0\n",
      "2023-03-13 23:03:54,124 : INFO : EPOCH 1 - PROGRESS: at 84.94% examples, 466041 words/s, in_qsize 6, out_qsize 0\n",
      "2023-03-13 23:03:55,137 : INFO : EPOCH 1 - PROGRESS: at 90.42% examples, 465772 words/s, in_qsize 6, out_qsize 0\n",
      "2023-03-13 23:03:56,158 : INFO : EPOCH 1 - PROGRESS: at 95.90% examples, 465017 words/s, in_qsize 5, out_qsize 0\n",
      "2023-03-13 23:03:56,874 : INFO : worker thread finished; awaiting finish of 2 more threads\n",
      "2023-03-13 23:03:56,910 : INFO : worker thread finished; awaiting finish of 1 more threads\n",
      "2023-03-13 23:03:56,913 : INFO : worker thread finished; awaiting finish of 0 more threads\n",
      "2023-03-13 23:03:56,914 : INFO : EPOCH - 1 : training on 11176467 raw words (8369261 effective words) took 18.0s, 464116 effective words/s\n",
      "2023-03-13 23:03:57,932 : INFO : EPOCH 2 - PROGRESS: at 4.93% examples, 401638 words/s, in_qsize 5, out_qsize 0\n",
      "2023-03-13 23:03:58,943 : INFO : EPOCH 2 - PROGRESS: at 10.12% examples, 419119 words/s, in_qsize 5, out_qsize 0\n",
      "2023-03-13 23:03:59,972 : INFO : EPOCH 2 - PROGRESS: at 15.62% examples, 429756 words/s, in_qsize 5, out_qsize 0\n",
      "2023-03-13 23:04:00,985 : INFO : EPOCH 2 - PROGRESS: at 21.15% examples, 436676 words/s, in_qsize 5, out_qsize 0\n",
      "2023-03-13 23:04:02,009 : INFO : EPOCH 2 - PROGRESS: at 26.43% examples, 435262 words/s, in_qsize 5, out_qsize 0\n",
      "2023-03-13 23:04:03,040 : INFO : EPOCH 2 - PROGRESS: at 31.71% examples, 434132 words/s, in_qsize 5, out_qsize 0\n",
      "2023-03-13 23:04:04,042 : INFO : EPOCH 2 - PROGRESS: at 36.95% examples, 433919 words/s, in_qsize 6, out_qsize 0\n",
      "2023-03-13 23:04:05,066 : INFO : EPOCH 2 - PROGRESS: at 41.95% examples, 431418 words/s, in_qsize 5, out_qsize 0\n",
      "2023-03-13 23:04:06,068 : INFO : EPOCH 2 - PROGRESS: at 47.03% examples, 430803 words/s, in_qsize 5, out_qsize 0\n",
      "2023-03-13 23:04:07,069 : INFO : EPOCH 2 - PROGRESS: at 52.04% examples, 429765 words/s, in_qsize 5, out_qsize 0\n",
      "2023-03-13 23:04:08,104 : INFO : EPOCH 2 - PROGRESS: at 57.32% examples, 428869 words/s, in_qsize 6, out_qsize 0\n",
      "2023-03-13 23:04:09,115 : INFO : EPOCH 2 - PROGRESS: at 62.54% examples, 429060 words/s, in_qsize 5, out_qsize 0\n",
      "2023-03-13 23:04:10,117 : INFO : EPOCH 2 - PROGRESS: at 67.76% examples, 429372 words/s, in_qsize 5, out_qsize 0\n",
      "2023-03-13 23:04:11,125 : INFO : EPOCH 2 - PROGRESS: at 73.01% examples, 429953 words/s, in_qsize 5, out_qsize 0\n",
      "2023-03-13 23:04:12,128 : INFO : EPOCH 2 - PROGRESS: at 78.43% examples, 431261 words/s, in_qsize 6, out_qsize 0\n",
      "2023-03-13 23:04:13,136 : INFO : EPOCH 2 - PROGRESS: at 83.93% examples, 432582 words/s, in_qsize 6, out_qsize 0\n",
      "2023-03-13 23:04:14,141 : INFO : EPOCH 2 - PROGRESS: at 89.07% examples, 433206 words/s, in_qsize 5, out_qsize 0\n",
      "2023-03-13 23:04:15,169 : INFO : EPOCH 2 - PROGRESS: at 94.63% examples, 434201 words/s, in_qsize 6, out_qsize 0\n",
      "2023-03-13 23:04:16,107 : INFO : worker thread finished; awaiting finish of 2 more threads\n",
      "2023-03-13 23:04:16,136 : INFO : worker thread finished; awaiting finish of 1 more threads\n",
      "2023-03-13 23:04:16,140 : INFO : worker thread finished; awaiting finish of 0 more threads\n",
      "2023-03-13 23:04:16,141 : INFO : EPOCH - 2 : training on 11176467 raw words (8367745 effective words) took 19.2s, 435333 effective words/s\n",
      "2023-03-13 23:04:17,176 : INFO : EPOCH 3 - PROGRESS: at 5.20% examples, 415956 words/s, in_qsize 5, out_qsize 0\n",
      "2023-03-13 23:04:18,193 : INFO : EPOCH 3 - PROGRESS: at 10.12% examples, 414237 words/s, in_qsize 5, out_qsize 0\n",
      "2023-03-13 23:04:19,230 : INFO : EPOCH 3 - PROGRESS: at 15.36% examples, 418139 words/s, in_qsize 5, out_qsize 0\n",
      "2023-03-13 23:04:20,232 : INFO : EPOCH 3 - PROGRESS: at 20.72% examples, 425299 words/s, in_qsize 5, out_qsize 0\n",
      "2023-03-13 23:04:21,254 : INFO : EPOCH 3 - PROGRESS: at 26.15% examples, 429340 words/s, in_qsize 5, out_qsize 0\n"
     ]
    },
    {
     "name": "stderr",
     "output_type": "stream",
     "text": [
      "2023-03-13 23:04:22,279 : INFO : EPOCH 3 - PROGRESS: at 31.71% examples, 433295 words/s, in_qsize 6, out_qsize 0\n",
      "2023-03-13 23:04:23,307 : INFO : EPOCH 3 - PROGRESS: at 37.27% examples, 435792 words/s, in_qsize 5, out_qsize 0\n",
      "2023-03-13 23:04:24,322 : INFO : EPOCH 3 - PROGRESS: at 42.73% examples, 438098 words/s, in_qsize 5, out_qsize 0\n",
      "2023-03-13 23:04:25,330 : INFO : EPOCH 3 - PROGRESS: at 48.23% examples, 439821 words/s, in_qsize 5, out_qsize 0\n",
      "2023-03-13 23:04:26,338 : INFO : EPOCH 3 - PROGRESS: at 53.52% examples, 439663 words/s, in_qsize 6, out_qsize 0\n",
      "2023-03-13 23:04:27,342 : INFO : EPOCH 3 - PROGRESS: at 58.88% examples, 439760 words/s, in_qsize 5, out_qsize 0\n",
      "2023-03-13 23:04:28,347 : INFO : EPOCH 3 - PROGRESS: at 63.96% examples, 439241 words/s, in_qsize 5, out_qsize 0\n",
      "2023-03-13 23:04:29,353 : INFO : EPOCH 3 - PROGRESS: at 69.27% examples, 439237 words/s, in_qsize 5, out_qsize 0\n",
      "2023-03-13 23:04:30,373 : INFO : EPOCH 3 - PROGRESS: at 74.07% examples, 435652 words/s, in_qsize 5, out_qsize 0\n",
      "2023-03-13 23:04:31,406 : INFO : EPOCH 3 - PROGRESS: at 78.80% examples, 431835 words/s, in_qsize 5, out_qsize 0\n",
      "2023-03-13 23:04:32,419 : INFO : EPOCH 3 - PROGRESS: at 83.69% examples, 429760 words/s, in_qsize 5, out_qsize 0\n",
      "2023-03-13 23:04:33,436 : INFO : EPOCH 3 - PROGRESS: at 88.47% examples, 428578 words/s, in_qsize 6, out_qsize 0\n",
      "2023-03-13 23:04:34,447 : INFO : EPOCH 3 - PROGRESS: at 93.74% examples, 428984 words/s, in_qsize 5, out_qsize 0\n",
      "2023-03-13 23:04:35,464 : INFO : EPOCH 3 - PROGRESS: at 99.32% examples, 430228 words/s, in_qsize 5, out_qsize 0\n",
      "2023-03-13 23:04:35,562 : INFO : worker thread finished; awaiting finish of 2 more threads\n",
      "2023-03-13 23:04:35,575 : INFO : worker thread finished; awaiting finish of 1 more threads\n",
      "2023-03-13 23:04:35,580 : INFO : worker thread finished; awaiting finish of 0 more threads\n",
      "2023-03-13 23:04:35,580 : INFO : EPOCH - 3 : training on 11176467 raw words (8368644 effective words) took 19.4s, 430618 effective words/s\n",
      "2023-03-13 23:04:36,620 : INFO : EPOCH 4 - PROGRESS: at 5.46% examples, 434290 words/s, in_qsize 5, out_qsize 0\n",
      "2023-03-13 23:04:37,653 : INFO : EPOCH 4 - PROGRESS: at 10.87% examples, 441669 words/s, in_qsize 5, out_qsize 0\n",
      "2023-03-13 23:04:38,681 : INFO : EPOCH 4 - PROGRESS: at 16.43% examples, 444380 words/s, in_qsize 5, out_qsize 0\n",
      "2023-03-13 23:04:39,724 : INFO : EPOCH 4 - PROGRESS: at 21.92% examples, 444411 words/s, in_qsize 5, out_qsize 0\n",
      "2023-03-13 23:04:40,726 : INFO : EPOCH 4 - PROGRESS: at 27.19% examples, 443413 words/s, in_qsize 5, out_qsize 0\n",
      "2023-03-13 23:04:41,749 : INFO : EPOCH 4 - PROGRESS: at 32.49% examples, 441509 words/s, in_qsize 5, out_qsize 0\n",
      "2023-03-13 23:04:42,762 : INFO : EPOCH 4 - PROGRESS: at 37.81% examples, 440493 words/s, in_qsize 5, out_qsize 0\n",
      "2023-03-13 23:04:43,773 : INFO : EPOCH 4 - PROGRESS: at 43.10% examples, 440776 words/s, in_qsize 5, out_qsize 0\n",
      "2023-03-13 23:04:44,797 : INFO : EPOCH 4 - PROGRESS: at 48.55% examples, 441340 words/s, in_qsize 5, out_qsize 0\n",
      "2023-03-13 23:04:45,800 : INFO : EPOCH 4 - PROGRESS: at 53.88% examples, 441271 words/s, in_qsize 5, out_qsize 0\n",
      "2023-03-13 23:04:46,807 : INFO : EPOCH 4 - PROGRESS: at 59.24% examples, 441121 words/s, in_qsize 5, out_qsize 0\n",
      "2023-03-13 23:04:47,829 : INFO : EPOCH 4 - PROGRESS: at 63.96% examples, 437460 words/s, in_qsize 5, out_qsize 0\n",
      "2023-03-13 23:04:48,852 : INFO : EPOCH 4 - PROGRESS: at 69.04% examples, 435353 words/s, in_qsize 5, out_qsize 0\n",
      "2023-03-13 23:04:49,881 : INFO : EPOCH 4 - PROGRESS: at 74.36% examples, 434901 words/s, in_qsize 5, out_qsize 0\n",
      "2023-03-13 23:04:50,925 : INFO : EPOCH 4 - PROGRESS: at 79.96% examples, 435679 words/s, in_qsize 6, out_qsize 0\n",
      "2023-03-13 23:04:51,945 : INFO : EPOCH 4 - PROGRESS: at 85.45% examples, 436760 words/s, in_qsize 5, out_qsize 0\n",
      "2023-03-13 23:04:52,966 : INFO : EPOCH 4 - PROGRESS: at 90.84% examples, 437643 words/s, in_qsize 5, out_qsize 0\n",
      "2023-03-13 23:04:53,975 : INFO : EPOCH 4 - PROGRESS: at 96.18% examples, 437925 words/s, in_qsize 5, out_qsize 0\n",
      "2023-03-13 23:04:54,617 : INFO : worker thread finished; awaiting finish of 2 more threads\n",
      "2023-03-13 23:04:54,649 : INFO : worker thread finished; awaiting finish of 1 more threads\n",
      "2023-03-13 23:04:54,655 : INFO : worker thread finished; awaiting finish of 0 more threads\n",
      "2023-03-13 23:04:54,655 : INFO : EPOCH - 4 : training on 11176467 raw words (8367245 effective words) took 19.1s, 438714 effective words/s\n",
      "2023-03-13 23:04:55,691 : INFO : EPOCH 5 - PROGRESS: at 5.46% examples, 436719 words/s, in_qsize 6, out_qsize 0\n",
      "2023-03-13 23:04:56,721 : INFO : EPOCH 5 - PROGRESS: at 10.87% examples, 443373 words/s, in_qsize 5, out_qsize 0\n",
      "2023-03-13 23:04:57,746 : INFO : EPOCH 5 - PROGRESS: at 16.43% examples, 445909 words/s, in_qsize 5, out_qsize 0\n",
      "2023-03-13 23:04:58,778 : INFO : EPOCH 5 - PROGRESS: at 21.92% examples, 446840 words/s, in_qsize 5, out_qsize 0\n",
      "2023-03-13 23:04:59,780 : INFO : EPOCH 5 - PROGRESS: at 27.19% examples, 445379 words/s, in_qsize 5, out_qsize 0\n",
      "2023-03-13 23:05:00,788 : INFO : EPOCH 5 - PROGRESS: at 32.28% examples, 441899 words/s, in_qsize 5, out_qsize 0\n",
      "2023-03-13 23:05:01,796 : INFO : EPOCH 5 - PROGRESS: at 37.36% examples, 438222 words/s, in_qsize 5, out_qsize 0\n",
      "2023-03-13 23:05:02,804 : INFO : EPOCH 5 - PROGRESS: at 42.65% examples, 438879 words/s, in_qsize 5, out_qsize 0\n",
      "2023-03-13 23:05:03,820 : INFO : EPOCH 5 - PROGRESS: at 48.01% examples, 439316 words/s, in_qsize 5, out_qsize 0\n",
      "2023-03-13 23:05:04,820 : INFO : EPOCH 5 - PROGRESS: at 53.70% examples, 442369 words/s, in_qsize 5, out_qsize 0\n",
      "2023-03-13 23:05:05,823 : INFO : EPOCH 5 - PROGRESS: at 59.24% examples, 443641 words/s, in_qsize 5, out_qsize 0\n",
      "2023-03-13 23:05:06,831 : INFO : EPOCH 5 - PROGRESS: at 64.58% examples, 444446 words/s, in_qsize 6, out_qsize 0\n",
      "2023-03-13 23:05:07,836 : INFO : EPOCH 5 - PROGRESS: at 69.92% examples, 444054 words/s, in_qsize 5, out_qsize 0\n",
      "2023-03-13 23:05:08,841 : INFO : EPOCH 5 - PROGRESS: at 75.24% examples, 443831 words/s, in_qsize 5, out_qsize 0\n",
      "2023-03-13 23:05:09,862 : INFO : EPOCH 5 - PROGRESS: at 80.71% examples, 443633 words/s, in_qsize 5, out_qsize 0\n",
      "2023-03-13 23:05:10,868 : INFO : EPOCH 5 - PROGRESS: at 86.12% examples, 444576 words/s, in_qsize 6, out_qsize 0\n",
      "2023-03-13 23:05:11,882 : INFO : EPOCH 5 - PROGRESS: at 91.64% examples, 445640 words/s, in_qsize 6, out_qsize 0\n",
      "2023-03-13 23:05:12,887 : INFO : EPOCH 5 - PROGRESS: at 97.16% examples, 446285 words/s, in_qsize 5, out_qsize 0\n",
      "2023-03-13 23:05:13,372 : INFO : worker thread finished; awaiting finish of 2 more threads\n",
      "2023-03-13 23:05:13,388 : INFO : worker thread finished; awaiting finish of 1 more threads\n",
      "2023-03-13 23:05:13,396 : INFO : worker thread finished; awaiting finish of 0 more threads\n",
      "2023-03-13 23:05:13,396 : INFO : EPOCH - 5 : training on 11176467 raw words (8368177 effective words) took 18.7s, 446622 effective words/s\n",
      "2023-03-13 23:05:13,397 : INFO : Word2Vec lifecycle event {'msg': 'training on 55882335 raw words (41841072 effective words) took 94.5s, 442673 effective words/s', 'datetime': '2023-03-13T23:05:13.397457', 'gensim': '4.1.2', 'python': '3.9.13 (main, Aug 25 2022, 18:29:29) \\n[Clang 12.0.0 ]', 'platform': 'macOS-10.16-x86_64-i386-64bit', 'event': 'train'}\n",
      "2023-03-13 23:05:13,397 : INFO : Word2Vec lifecycle event {'params': 'Word2Vec(vocab=26588, vector_size=100, alpha=0.025)', 'datetime': '2023-03-13T23:05:13.397947', 'gensim': '4.1.2', 'python': '3.9.13 (main, Aug 25 2022, 18:29:29) \\n[Clang 12.0.0 ]', 'platform': 'macOS-10.16-x86_64-i386-64bit', 'event': 'created'}\n",
      "/Users/arjunvelmurugan/opt/anaconda3/lib/python3.9/site-packages/sklearn/linear_model/_logistic.py:814: ConvergenceWarning: lbfgs failed to converge (status=1):\n",
      "STOP: TOTAL NO. of ITERATIONS REACHED LIMIT.\n",
      "\n",
      "Increase the number of iterations (max_iter) or scale the data as shown in:\n",
      "    https://scikit-learn.org/stable/modules/preprocessing.html\n",
      "Please also refer to the documentation for alternative solver options:\n",
      "    https://scikit-learn.org/stable/modules/linear_model.html#logistic-regression\n",
      "  n_iter_i = _check_optimize_result(\n"
     ]
    },
    {
     "name": "stdout",
     "output_type": "stream",
     "text": [
      "CLASSIFICATION REPORT FOR WINDOW= 5\n",
      "              precision    recall  f1-score   support\n",
      "\n",
      "    negative       0.86      0.86      0.86      4988\n",
      "    positive       0.86      0.86      0.86      5012\n",
      "\n",
      "    accuracy                           0.86     10000\n",
      "   macro avg       0.86      0.86      0.86     10000\n",
      "weighted avg       0.86      0.86      0.86     10000\n",
      "\n"
     ]
    },
    {
     "name": "stderr",
     "output_type": "stream",
     "text": [
      "2023-03-13 23:10:06,664 : INFO : collecting all words and their counts\n",
      "2023-03-13 23:10:06,665 : INFO : PROGRESS: at sentence #0, processed 0 words, keeping 0 word types\n",
      "2023-03-13 23:10:06,970 : INFO : PROGRESS: at sentence #10000, processed 2235115 words, keeping 34948 word types\n",
      "2023-03-13 23:10:07,276 : INFO : PROGRESS: at sentence #20000, processed 4471355 words, keeping 46592 word types\n",
      "2023-03-13 23:10:07,576 : INFO : PROGRESS: at sentence #30000, processed 6703795 words, keeping 55178 word types\n",
      "2023-03-13 23:10:07,876 : INFO : PROGRESS: at sentence #40000, processed 8930547 words, keeping 62430 word types\n",
      "2023-03-13 23:10:08,180 : INFO : collected 68818 word types from a corpus of 11176467 raw words and 50000 sentences\n",
      "2023-03-13 23:10:08,181 : INFO : Creating a fresh vocabulary\n",
      "2023-03-13 23:10:08,286 : INFO : Word2Vec lifecycle event {'msg': 'effective_min_count=5 retains 26588 unique words (38.63524078002848%% of original 68818, drops 42230)', 'datetime': '2023-03-13T23:10:08.286868', 'gensim': '4.1.2', 'python': '3.9.13 (main, Aug 25 2022, 18:29:29) \\n[Clang 12.0.0 ]', 'platform': 'macOS-10.16-x86_64-i386-64bit', 'event': 'prepare_vocab'}\n",
      "2023-03-13 23:10:08,287 : INFO : Word2Vec lifecycle event {'msg': 'effective_min_count=5 leaves 11108863 word corpus (99.39512191106546%% of original 11176467, drops 67604)', 'datetime': '2023-03-13T23:10:08.287628', 'gensim': '4.1.2', 'python': '3.9.13 (main, Aug 25 2022, 18:29:29) \\n[Clang 12.0.0 ]', 'platform': 'macOS-10.16-x86_64-i386-64bit', 'event': 'prepare_vocab'}\n",
      "2023-03-13 23:10:08,433 : INFO : deleting the raw counts dictionary of 68818 items\n",
      "2023-03-13 23:10:08,434 : INFO : sample=0.001 downsamples 48 most-common words\n",
      "2023-03-13 23:10:08,435 : INFO : Word2Vec lifecycle event {'msg': 'downsampling leaves estimated 8368333.100896217 word corpus (75.3%% of prior 11108863)', 'datetime': '2023-03-13T23:10:08.435656', 'gensim': '4.1.2', 'python': '3.9.13 (main, Aug 25 2022, 18:29:29) \\n[Clang 12.0.0 ]', 'platform': 'macOS-10.16-x86_64-i386-64bit', 'event': 'prepare_vocab'}\n",
      "2023-03-13 23:10:08,672 : INFO : estimated required memory for 26588 words and 100 dimensions: 34564400 bytes\n",
      "2023-03-13 23:10:08,672 : INFO : resetting layer weights\n",
      "2023-03-13 23:10:08,685 : INFO : Word2Vec lifecycle event {'update': False, 'trim_rule': 'None', 'datetime': '2023-03-13T23:10:08.685748', 'gensim': '4.1.2', 'python': '3.9.13 (main, Aug 25 2022, 18:29:29) \\n[Clang 12.0.0 ]', 'platform': 'macOS-10.16-x86_64-i386-64bit', 'event': 'build_vocab'}\n",
      "2023-03-13 23:10:08,686 : INFO : Word2Vec lifecycle event {'msg': 'training model with 3 workers on 26588 vocabulary and 100 features, using sg=1 hs=0 sample=0.001 negative=5 window=10 shrink_windows=True', 'datetime': '2023-03-13T23:10:08.686505', 'gensim': '4.1.2', 'python': '3.9.13 (main, Aug 25 2022, 18:29:29) \\n[Clang 12.0.0 ]', 'platform': 'macOS-10.16-x86_64-i386-64bit', 'event': 'train'}\n",
      "2023-03-13 23:10:09,756 : INFO : EPOCH 1 - PROGRESS: at 3.32% examples, 256418 words/s, in_qsize 5, out_qsize 0\n",
      "2023-03-13 23:10:10,819 : INFO : EPOCH 1 - PROGRESS: at 6.74% examples, 264167 words/s, in_qsize 5, out_qsize 0\n",
      "2023-03-13 23:10:11,874 : INFO : EPOCH 1 - PROGRESS: at 10.12% examples, 266545 words/s, in_qsize 5, out_qsize 0\n",
      "2023-03-13 23:10:12,875 : INFO : EPOCH 1 - PROGRESS: at 13.41% examples, 269691 words/s, in_qsize 5, out_qsize 0\n",
      "2023-03-13 23:10:13,918 : INFO : EPOCH 1 - PROGRESS: at 16.67% examples, 267787 words/s, in_qsize 5, out_qsize 0\n",
      "2023-03-13 23:10:14,981 : INFO : EPOCH 1 - PROGRESS: at 20.15% examples, 268170 words/s, in_qsize 5, out_qsize 0\n",
      "2023-03-13 23:10:16,037 : INFO : EPOCH 1 - PROGRESS: at 23.45% examples, 268559 words/s, in_qsize 5, out_qsize 0\n",
      "2023-03-13 23:10:17,088 : INFO : EPOCH 1 - PROGRESS: at 26.93% examples, 269123 words/s, in_qsize 6, out_qsize 0\n",
      "2023-03-13 23:10:18,096 : INFO : EPOCH 1 - PROGRESS: at 30.29% examples, 270035 words/s, in_qsize 5, out_qsize 0\n",
      "2023-03-13 23:10:19,136 : INFO : EPOCH 1 - PROGRESS: at 33.54% examples, 269258 words/s, in_qsize 5, out_qsize 0\n",
      "2023-03-13 23:10:20,193 : INFO : EPOCH 1 - PROGRESS: at 37.01% examples, 269415 words/s, in_qsize 5, out_qsize 0\n",
      "2023-03-13 23:10:21,213 : INFO : EPOCH 1 - PROGRESS: at 40.06% examples, 267885 words/s, in_qsize 5, out_qsize 0\n",
      "2023-03-13 23:10:22,242 : INFO : EPOCH 1 - PROGRESS: at 43.01% examples, 265955 words/s, in_qsize 5, out_qsize 0\n",
      "2023-03-13 23:10:23,244 : INFO : EPOCH 1 - PROGRESS: at 46.05% examples, 265335 words/s, in_qsize 5, out_qsize 0\n",
      "2023-03-13 23:10:24,249 : INFO : EPOCH 1 - PROGRESS: at 49.18% examples, 264767 words/s, in_qsize 5, out_qsize 0\n",
      "2023-03-13 23:10:25,268 : INFO : EPOCH 1 - PROGRESS: at 52.32% examples, 264511 words/s, in_qsize 5, out_qsize 0\n",
      "2023-03-13 23:10:26,293 : INFO : EPOCH 1 - PROGRESS: at 55.45% examples, 263754 words/s, in_qsize 5, out_qsize 0\n",
      "2023-03-13 23:10:27,335 : INFO : EPOCH 1 - PROGRESS: at 58.45% examples, 262081 words/s, in_qsize 5, out_qsize 0\n",
      "2023-03-13 23:10:28,361 : INFO : EPOCH 1 - PROGRESS: at 61.08% examples, 260041 words/s, in_qsize 5, out_qsize 0\n",
      "2023-03-13 23:10:29,394 : INFO : EPOCH 1 - PROGRESS: at 64.05% examples, 259182 words/s, in_qsize 5, out_qsize 0\n",
      "2023-03-13 23:10:30,413 : INFO : EPOCH 1 - PROGRESS: at 67.28% examples, 259209 words/s, in_qsize 6, out_qsize 0\n",
      "2023-03-13 23:10:31,426 : INFO : EPOCH 1 - PROGRESS: at 70.46% examples, 259294 words/s, in_qsize 5, out_qsize 0\n",
      "2023-03-13 23:10:32,431 : INFO : EPOCH 1 - PROGRESS: at 73.63% examples, 259486 words/s, in_qsize 5, out_qsize 0\n",
      "2023-03-13 23:10:33,452 : INFO : EPOCH 1 - PROGRESS: at 76.83% examples, 259561 words/s, in_qsize 5, out_qsize 0\n",
      "2023-03-13 23:10:34,453 : INFO : EPOCH 1 - PROGRESS: at 79.96% examples, 259513 words/s, in_qsize 5, out_qsize 0\n",
      "2023-03-13 23:10:35,496 : INFO : EPOCH 1 - PROGRESS: at 83.16% examples, 259261 words/s, in_qsize 5, out_qsize 0\n",
      "2023-03-13 23:10:36,506 : INFO : EPOCH 1 - PROGRESS: at 85.94% examples, 258567 words/s, in_qsize 5, out_qsize 0\n",
      "2023-03-13 23:10:37,534 : INFO : EPOCH 1 - PROGRESS: at 88.74% examples, 257701 words/s, in_qsize 6, out_qsize 0\n",
      "2023-03-13 23:10:38,558 : INFO : EPOCH 1 - PROGRESS: at 91.64% examples, 257018 words/s, in_qsize 5, out_qsize 0\n",
      "2023-03-13 23:10:39,581 : INFO : EPOCH 1 - PROGRESS: at 94.80% examples, 257040 words/s, in_qsize 5, out_qsize 0\n",
      "2023-03-13 23:10:40,636 : INFO : EPOCH 1 - PROGRESS: at 98.07% examples, 256987 words/s, in_qsize 5, out_qsize 0\n",
      "2023-03-13 23:10:41,172 : INFO : worker thread finished; awaiting finish of 2 more threads\n",
      "2023-03-13 23:10:41,217 : INFO : worker thread finished; awaiting finish of 1 more threads\n",
      "2023-03-13 23:10:41,227 : INFO : worker thread finished; awaiting finish of 0 more threads\n",
      "2023-03-13 23:10:41,228 : INFO : EPOCH - 1 : training on 11176467 raw words (8369755 effective words) took 32.5s, 257243 effective words/s\n",
      "2023-03-13 23:10:42,275 : INFO : EPOCH 2 - PROGRESS: at 3.06% examples, 240873 words/s, in_qsize 5, out_qsize 0\n",
      "2023-03-13 23:10:43,283 : INFO : EPOCH 2 - PROGRESS: at 6.03% examples, 245370 words/s, in_qsize 5, out_qsize 0\n",
      "2023-03-13 23:10:44,335 : INFO : EPOCH 2 - PROGRESS: at 9.14% examples, 245136 words/s, in_qsize 5, out_qsize 0\n",
      "2023-03-13 23:10:45,376 : INFO : EPOCH 2 - PROGRESS: at 11.91% examples, 243983 words/s, in_qsize 5, out_qsize 0\n",
      "2023-03-13 23:10:46,389 : INFO : EPOCH 2 - PROGRESS: at 15.09% examples, 245903 words/s, in_qsize 6, out_qsize 0\n",
      "2023-03-13 23:10:47,400 : INFO : EPOCH 2 - PROGRESS: at 18.06% examples, 246172 words/s, in_qsize 6, out_qsize 0\n",
      "2023-03-13 23:10:48,451 : INFO : EPOCH 2 - PROGRESS: at 21.22% examples, 247002 words/s, in_qsize 5, out_qsize 0\n",
      "2023-03-13 23:10:49,499 : INFO : EPOCH 2 - PROGRESS: at 24.37% examples, 247532 words/s, in_qsize 5, out_qsize 0\n",
      "2023-03-13 23:10:50,556 : INFO : EPOCH 2 - PROGRESS: at 27.52% examples, 247917 words/s, in_qsize 5, out_qsize 0\n",
      "2023-03-13 23:10:51,575 : INFO : EPOCH 2 - PROGRESS: at 30.46% examples, 246979 words/s, in_qsize 5, out_qsize 0\n",
      "2023-03-13 23:10:52,603 : INFO : EPOCH 2 - PROGRESS: at 33.38% examples, 246026 words/s, in_qsize 5, out_qsize 0\n",
      "2023-03-13 23:10:53,612 : INFO : EPOCH 2 - PROGRESS: at 36.30% examples, 245610 words/s, in_qsize 5, out_qsize 0\n",
      "2023-03-13 23:10:54,613 : INFO : EPOCH 2 - PROGRESS: at 39.31% examples, 245785 words/s, in_qsize 5, out_qsize 0\n"
     ]
    },
    {
     "name": "stderr",
     "output_type": "stream",
     "text": [
      "2023-03-13 23:10:55,647 : INFO : EPOCH 2 - PROGRESS: at 42.29% examples, 245953 words/s, in_qsize 5, out_qsize 0\n",
      "2023-03-13 23:10:56,658 : INFO : EPOCH 2 - PROGRESS: at 45.44% examples, 247010 words/s, in_qsize 5, out_qsize 0\n",
      "2023-03-13 23:10:57,670 : INFO : EPOCH 2 - PROGRESS: at 48.63% examples, 247957 words/s, in_qsize 5, out_qsize 0\n",
      "2023-03-13 23:10:58,684 : INFO : EPOCH 2 - PROGRESS: at 51.76% examples, 248759 words/s, in_qsize 5, out_qsize 0\n",
      "2023-03-13 23:10:59,718 : INFO : EPOCH 2 - PROGRESS: at 55.03% examples, 249182 words/s, in_qsize 5, out_qsize 0\n",
      "2023-03-13 23:11:00,723 : INFO : EPOCH 2 - PROGRESS: at 58.15% examples, 249574 words/s, in_qsize 5, out_qsize 0\n",
      "2023-03-13 23:11:01,725 : INFO : EPOCH 2 - PROGRESS: at 61.08% examples, 249624 words/s, in_qsize 5, out_qsize 0\n",
      "2023-03-13 23:11:02,726 : INFO : EPOCH 2 - PROGRESS: at 64.05% examples, 249664 words/s, in_qsize 6, out_qsize 0\n",
      "2023-03-13 23:11:03,756 : INFO : EPOCH 2 - PROGRESS: at 67.28% examples, 250017 words/s, in_qsize 5, out_qsize 0\n",
      "2023-03-13 23:11:04,767 : INFO : EPOCH 2 - PROGRESS: at 70.46% examples, 250518 words/s, in_qsize 5, out_qsize 0\n",
      "2023-03-13 23:11:05,768 : INFO : EPOCH 2 - PROGRESS: at 73.63% examples, 251118 words/s, in_qsize 5, out_qsize 0\n",
      "2023-03-13 23:11:06,795 : INFO : EPOCH 2 - PROGRESS: at 76.67% examples, 250894 words/s, in_qsize 5, out_qsize 0\n",
      "2023-03-13 23:11:07,814 : INFO : EPOCH 2 - PROGRESS: at 79.51% examples, 250150 words/s, in_qsize 5, out_qsize 0\n",
      "2023-03-13 23:11:08,833 : INFO : EPOCH 2 - PROGRESS: at 82.32% examples, 249407 words/s, in_qsize 5, out_qsize 0\n",
      "2023-03-13 23:11:09,836 : INFO : EPOCH 2 - PROGRESS: at 85.18% examples, 249159 words/s, in_qsize 5, out_qsize 0\n",
      "2023-03-13 23:11:10,862 : INFO : EPOCH 2 - PROGRESS: at 88.22% examples, 249384 words/s, in_qsize 5, out_qsize 0\n",
      "2023-03-13 23:11:11,898 : INFO : EPOCH 2 - PROGRESS: at 91.34% examples, 249599 words/s, in_qsize 5, out_qsize 0\n",
      "2023-03-13 23:11:12,938 : INFO : EPOCH 2 - PROGRESS: at 94.53% examples, 249726 words/s, in_qsize 6, out_qsize 0\n",
      "2023-03-13 23:11:13,953 : INFO : EPOCH 2 - PROGRESS: at 97.54% examples, 249555 words/s, in_qsize 5, out_qsize 0\n",
      "2023-03-13 23:11:14,744 : INFO : worker thread finished; awaiting finish of 2 more threads\n",
      "2023-03-13 23:11:14,759 : INFO : worker thread finished; awaiting finish of 1 more threads\n",
      "2023-03-13 23:11:14,761 : INFO : worker thread finished; awaiting finish of 0 more threads\n",
      "2023-03-13 23:11:14,762 : INFO : EPOCH - 2 : training on 11176467 raw words (8369283 effective words) took 33.5s, 249620 effective words/s\n",
      "2023-03-13 23:11:15,775 : INFO : EPOCH 3 - PROGRESS: at 2.99% examples, 241222 words/s, in_qsize 5, out_qsize 0\n",
      "2023-03-13 23:11:16,828 : INFO : EPOCH 3 - PROGRESS: at 5.94% examples, 240244 words/s, in_qsize 5, out_qsize 0\n",
      "2023-03-13 23:11:17,834 : INFO : EPOCH 3 - PROGRESS: at 9.05% examples, 245575 words/s, in_qsize 5, out_qsize 0\n",
      "2023-03-13 23:11:18,846 : INFO : EPOCH 3 - PROGRESS: at 11.77% examples, 244103 words/s, in_qsize 5, out_qsize 0\n",
      "2023-03-13 23:11:19,851 : INFO : EPOCH 3 - PROGRESS: at 14.74% examples, 243683 words/s, in_qsize 5, out_qsize 0\n",
      "2023-03-13 23:11:20,874 : INFO : EPOCH 3 - PROGRESS: at 17.70% examples, 243736 words/s, in_qsize 5, out_qsize 0\n",
      "2023-03-13 23:11:21,920 : INFO : EPOCH 3 - PROGRESS: at 20.80% examples, 243988 words/s, in_qsize 5, out_qsize 0\n",
      "2023-03-13 23:11:22,927 : INFO : EPOCH 3 - PROGRESS: at 23.81% examples, 245243 words/s, in_qsize 5, out_qsize 0\n",
      "2023-03-13 23:11:23,961 : INFO : EPOCH 3 - PROGRESS: at 26.84% examples, 244901 words/s, in_qsize 5, out_qsize 0\n",
      "2023-03-13 23:11:24,978 : INFO : EPOCH 3 - PROGRESS: at 29.84% examples, 244976 words/s, in_qsize 5, out_qsize 0\n",
      "2023-03-13 23:11:25,989 : INFO : EPOCH 3 - PROGRESS: at 32.74% examples, 244580 words/s, in_qsize 5, out_qsize 0\n",
      "2023-03-13 23:11:26,992 : INFO : EPOCH 3 - PROGRESS: at 35.63% examples, 243817 words/s, in_qsize 5, out_qsize 0\n",
      "2023-03-13 23:11:27,992 : INFO : EPOCH 3 - PROGRESS: at 38.36% examples, 242502 words/s, in_qsize 5, out_qsize 0\n",
      "2023-03-13 23:11:29,022 : INFO : EPOCH 3 - PROGRESS: at 41.24% examples, 242422 words/s, in_qsize 5, out_qsize 0\n",
      "2023-03-13 23:11:30,050 : INFO : EPOCH 3 - PROGRESS: at 44.43% examples, 243448 words/s, in_qsize 5, out_qsize 0\n",
      "2023-03-13 23:11:31,066 : INFO : EPOCH 3 - PROGRESS: at 47.38% examples, 243654 words/s, in_qsize 4, out_qsize 1\n",
      "2023-03-13 23:11:32,087 : INFO : EPOCH 3 - PROGRESS: at 50.31% examples, 243276 words/s, in_qsize 5, out_qsize 0\n",
      "2023-03-13 23:11:33,116 : INFO : EPOCH 3 - PROGRESS: at 53.44% examples, 243735 words/s, in_qsize 5, out_qsize 0\n",
      "2023-03-13 23:11:34,143 : INFO : EPOCH 3 - PROGRESS: at 56.51% examples, 244118 words/s, in_qsize 5, out_qsize 0\n",
      "2023-03-13 23:11:35,156 : INFO : EPOCH 3 - PROGRESS: at 59.73% examples, 245002 words/s, in_qsize 5, out_qsize 0\n",
      "2023-03-13 23:11:36,171 : INFO : EPOCH 3 - PROGRESS: at 62.88% examples, 245813 words/s, in_qsize 5, out_qsize 0\n",
      "2023-03-13 23:11:37,178 : INFO : EPOCH 3 - PROGRESS: at 66.02% examples, 246573 words/s, in_qsize 5, out_qsize 0\n",
      "2023-03-13 23:11:38,181 : INFO : EPOCH 3 - PROGRESS: at 69.19% examples, 247360 words/s, in_qsize 5, out_qsize 0\n",
      "2023-03-13 23:11:39,183 : INFO : EPOCH 3 - PROGRESS: at 72.21% examples, 247433 words/s, in_qsize 5, out_qsize 0\n",
      "2023-03-13 23:11:40,201 : INFO : EPOCH 3 - PROGRESS: at 75.15% examples, 247133 words/s, in_qsize 5, out_qsize 0\n",
      "2023-03-13 23:11:41,242 : INFO : EPOCH 3 - PROGRESS: at 78.16% examples, 246888 words/s, in_qsize 5, out_qsize 0\n",
      "2023-03-13 23:11:42,250 : INFO : EPOCH 3 - PROGRESS: at 81.14% examples, 246656 words/s, in_qsize 5, out_qsize 0\n",
      "2023-03-13 23:11:43,261 : INFO : EPOCH 3 - PROGRESS: at 84.20% examples, 246944 words/s, in_qsize 5, out_qsize 0\n",
      "2023-03-13 23:11:44,267 : INFO : EPOCH 3 - PROGRESS: at 87.03% examples, 246968 words/s, in_qsize 5, out_qsize 0\n",
      "2023-03-13 23:11:45,286 : INFO : EPOCH 3 - PROGRESS: at 90.11% examples, 247328 words/s, in_qsize 5, out_qsize 0\n",
      "2023-03-13 23:11:46,329 : INFO : EPOCH 3 - PROGRESS: at 93.30% examples, 247551 words/s, in_qsize 5, out_qsize 0\n",
      "2023-03-13 23:11:47,381 : INFO : EPOCH 3 - PROGRESS: at 96.46% examples, 247628 words/s, in_qsize 5, out_qsize 0\n",
      "2023-03-13 23:11:48,383 : INFO : EPOCH 3 - PROGRESS: at 99.59% examples, 247888 words/s, in_qsize 5, out_qsize 0\n",
      "2023-03-13 23:11:48,470 : INFO : worker thread finished; awaiting finish of 2 more threads\n",
      "2023-03-13 23:11:48,517 : INFO : worker thread finished; awaiting finish of 1 more threads\n",
      "2023-03-13 23:11:48,526 : INFO : worker thread finished; awaiting finish of 0 more threads\n",
      "2023-03-13 23:11:48,527 : INFO : EPOCH - 3 : training on 11176467 raw words (8367666 effective words) took 33.8s, 247863 effective words/s\n",
      "2023-03-13 23:11:49,594 : INFO : EPOCH 4 - PROGRESS: at 3.06% examples, 235611 words/s, in_qsize 6, out_qsize 0\n",
      "2023-03-13 23:11:50,656 : INFO : EPOCH 4 - PROGRESS: at 6.19% examples, 243542 words/s, in_qsize 6, out_qsize 0\n",
      "2023-03-13 23:11:51,706 : INFO : EPOCH 4 - PROGRESS: at 9.37% examples, 246163 words/s, in_qsize 5, out_qsize 0\n",
      "2023-03-13 23:11:52,715 : INFO : EPOCH 4 - PROGRESS: at 12.27% examples, 248620 words/s, in_qsize 5, out_qsize 0\n",
      "2023-03-13 23:11:53,733 : INFO : EPOCH 4 - PROGRESS: at 15.36% examples, 247844 words/s, in_qsize 6, out_qsize 0\n",
      "2023-03-13 23:11:54,775 : INFO : EPOCH 4 - PROGRESS: at 18.48% examples, 248823 words/s, in_qsize 5, out_qsize 0\n",
      "2023-03-13 23:11:55,800 : INFO : EPOCH 4 - PROGRESS: at 21.39% examples, 247056 words/s, in_qsize 5, out_qsize 0\n",
      "2023-03-13 23:11:56,827 : INFO : EPOCH 4 - PROGRESS: at 24.28% examples, 245637 words/s, in_qsize 5, out_qsize 0\n",
      "2023-03-13 23:11:57,837 : INFO : EPOCH 4 - PROGRESS: at 27.27% examples, 245834 words/s, in_qsize 5, out_qsize 0\n",
      "2023-03-13 23:11:58,845 : INFO : EPOCH 4 - PROGRESS: at 30.37% examples, 246794 words/s, in_qsize 5, out_qsize 0\n",
      "2023-03-13 23:11:59,857 : INFO : EPOCH 4 - PROGRESS: at 33.54% examples, 248155 words/s, in_qsize 5, out_qsize 0\n",
      "2023-03-13 23:12:00,878 : INFO : EPOCH 4 - PROGRESS: at 36.75% examples, 249086 words/s, in_qsize 5, out_qsize 0\n",
      "2023-03-13 23:12:01,884 : INFO : EPOCH 4 - PROGRESS: at 39.80% examples, 249482 words/s, in_qsize 5, out_qsize 0\n",
      "2023-03-13 23:12:02,925 : INFO : EPOCH 4 - PROGRESS: at 42.81% examples, 249285 words/s, in_qsize 5, out_qsize 0\n"
     ]
    },
    {
     "name": "stderr",
     "output_type": "stream",
     "text": [
      "2023-03-13 23:12:03,979 : INFO : EPOCH 4 - PROGRESS: at 45.95% examples, 249380 words/s, in_qsize 5, out_qsize 0\n",
      "2023-03-13 23:12:04,980 : INFO : EPOCH 4 - PROGRESS: at 48.91% examples, 249022 words/s, in_qsize 5, out_qsize 0\n",
      "2023-03-13 23:12:06,041 : INFO : EPOCH 4 - PROGRESS: at 51.76% examples, 247824 words/s, in_qsize 6, out_qsize 0\n",
      "2023-03-13 23:12:07,057 : INFO : EPOCH 4 - PROGRESS: at 54.76% examples, 247359 words/s, in_qsize 5, out_qsize 0\n",
      "2023-03-13 23:12:08,105 : INFO : EPOCH 4 - PROGRESS: at 57.98% examples, 247703 words/s, in_qsize 5, out_qsize 0\n",
      "2023-03-13 23:12:09,111 : INFO : EPOCH 4 - PROGRESS: at 61.08% examples, 248493 words/s, in_qsize 5, out_qsize 0\n",
      "2023-03-13 23:12:10,116 : INFO : EPOCH 4 - PROGRESS: at 64.20% examples, 249209 words/s, in_qsize 6, out_qsize 0\n",
      "2023-03-13 23:12:11,123 : INFO : EPOCH 4 - PROGRESS: at 67.48% examples, 249830 words/s, in_qsize 5, out_qsize 0\n",
      "2023-03-13 23:12:12,148 : INFO : EPOCH 4 - PROGRESS: at 70.63% examples, 250194 words/s, in_qsize 5, out_qsize 0\n",
      "2023-03-13 23:12:13,155 : INFO : EPOCH 4 - PROGRESS: at 73.63% examples, 250127 words/s, in_qsize 5, out_qsize 0\n",
      "2023-03-13 23:12:14,170 : INFO : EPOCH 4 - PROGRESS: at 76.77% examples, 250337 words/s, in_qsize 5, out_qsize 0\n",
      "2023-03-13 23:12:15,181 : INFO : EPOCH 4 - PROGRESS: at 79.96% examples, 250811 words/s, in_qsize 6, out_qsize 0\n",
      "2023-03-13 23:12:16,187 : INFO : EPOCH 4 - PROGRESS: at 83.16% examples, 251222 words/s, in_qsize 5, out_qsize 0\n",
      "2023-03-13 23:12:17,215 : INFO : EPOCH 4 - PROGRESS: at 86.28% examples, 251668 words/s, in_qsize 5, out_qsize 0\n",
      "2023-03-13 23:12:18,223 : INFO : EPOCH 4 - PROGRESS: at 89.33% examples, 251988 words/s, in_qsize 5, out_qsize 0\n",
      "2023-03-13 23:12:19,230 : INFO : EPOCH 4 - PROGRESS: at 92.51% examples, 252353 words/s, in_qsize 5, out_qsize 0\n",
      "2023-03-13 23:12:20,234 : INFO : EPOCH 4 - PROGRESS: at 95.64% examples, 252651 words/s, in_qsize 5, out_qsize 0\n",
      "2023-03-13 23:12:21,240 : INFO : EPOCH 4 - PROGRESS: at 98.97% examples, 253150 words/s, in_qsize 5, out_qsize 0\n",
      "2023-03-13 23:12:21,497 : INFO : worker thread finished; awaiting finish of 2 more threads\n",
      "2023-03-13 23:12:21,555 : INFO : worker thread finished; awaiting finish of 1 more threads\n",
      "2023-03-13 23:12:21,560 : INFO : worker thread finished; awaiting finish of 0 more threads\n",
      "2023-03-13 23:12:21,561 : INFO : EPOCH - 4 : training on 11176467 raw words (8367552 effective words) took 33.0s, 253325 effective words/s\n",
      "2023-03-13 23:12:22,578 : INFO : EPOCH 5 - PROGRESS: at 3.06% examples, 247499 words/s, in_qsize 5, out_qsize 0\n",
      "2023-03-13 23:12:23,615 : INFO : EPOCH 5 - PROGRESS: at 6.19% examples, 252593 words/s, in_qsize 5, out_qsize 0\n",
      "2023-03-13 23:12:24,638 : INFO : EPOCH 5 - PROGRESS: at 9.37% examples, 254473 words/s, in_qsize 5, out_qsize 0\n",
      "2023-03-13 23:12:25,645 : INFO : EPOCH 5 - PROGRESS: at 12.38% examples, 256652 words/s, in_qsize 5, out_qsize 0\n",
      "2023-03-13 23:12:26,646 : INFO : EPOCH 5 - PROGRESS: at 15.62% examples, 258143 words/s, in_qsize 5, out_qsize 0\n",
      "2023-03-13 23:12:27,653 : INFO : EPOCH 5 - PROGRESS: at 18.85% examples, 260099 words/s, in_qsize 5, out_qsize 0\n",
      "2023-03-13 23:12:28,665 : INFO : EPOCH 5 - PROGRESS: at 22.00% examples, 260237 words/s, in_qsize 6, out_qsize 0\n",
      "2023-03-13 23:12:29,692 : INFO : EPOCH 5 - PROGRESS: at 25.18% examples, 259876 words/s, in_qsize 5, out_qsize 0\n",
      "2023-03-13 23:12:30,709 : INFO : EPOCH 5 - PROGRESS: at 27.78% examples, 255012 words/s, in_qsize 5, out_qsize 0\n",
      "2023-03-13 23:12:31,711 : INFO : EPOCH 5 - PROGRESS: at 30.57% examples, 252402 words/s, in_qsize 5, out_qsize 0\n",
      "2023-03-13 23:12:32,739 : INFO : EPOCH 5 - PROGRESS: at 33.46% examples, 250950 words/s, in_qsize 5, out_qsize 0\n",
      "2023-03-13 23:12:33,775 : INFO : EPOCH 5 - PROGRESS: at 36.67% examples, 251308 words/s, in_qsize 6, out_qsize 0\n",
      "2023-03-13 23:12:34,778 : INFO : EPOCH 5 - PROGRESS: at 39.80% examples, 252119 words/s, in_qsize 5, out_qsize 0\n",
      "2023-03-13 23:12:35,784 : INFO : EPOCH 5 - PROGRESS: at 43.01% examples, 253388 words/s, in_qsize 5, out_qsize 0\n",
      "2023-03-13 23:12:36,798 : INFO : EPOCH 5 - PROGRESS: at 46.15% examples, 253882 words/s, in_qsize 6, out_qsize 0\n",
      "2023-03-13 23:12:37,815 : INFO : EPOCH 5 - PROGRESS: at 49.34% examples, 254322 words/s, in_qsize 5, out_qsize 0\n",
      "2023-03-13 23:12:38,820 : INFO : EPOCH 5 - PROGRESS: at 52.51% examples, 254893 words/s, in_qsize 5, out_qsize 0\n",
      "2023-03-13 23:12:39,825 : INFO : EPOCH 5 - PROGRESS: at 55.72% examples, 255393 words/s, in_qsize 5, out_qsize 0\n",
      "2023-03-13 23:12:40,833 : INFO : EPOCH 5 - PROGRESS: at 58.97% examples, 255821 words/s, in_qsize 5, out_qsize 0\n",
      "2023-03-13 23:12:41,855 : INFO : EPOCH 5 - PROGRESS: at 62.08% examples, 256052 words/s, in_qsize 5, out_qsize 0\n",
      "2023-03-13 23:12:42,858 : INFO : EPOCH 5 - PROGRESS: at 65.19% examples, 256413 words/s, in_qsize 5, out_qsize 0\n",
      "2023-03-13 23:12:43,861 : INFO : EPOCH 5 - PROGRESS: at 68.45% examples, 256768 words/s, in_qsize 6, out_qsize 0\n",
      "2023-03-13 23:12:44,880 : INFO : EPOCH 5 - PROGRESS: at 71.59% examples, 256900 words/s, in_qsize 6, out_qsize 0\n",
      "2023-03-13 23:12:45,948 : INFO : EPOCH 5 - PROGRESS: at 74.79% examples, 256564 words/s, in_qsize 5, out_qsize 0\n",
      "2023-03-13 23:12:47,013 : INFO : EPOCH 5 - PROGRESS: at 77.97% examples, 256261 words/s, in_qsize 5, out_qsize 0\n",
      "2023-03-13 23:12:48,015 : INFO : EPOCH 5 - PROGRESS: at 81.10% examples, 256279 words/s, in_qsize 6, out_qsize 0\n",
      "2023-03-13 23:12:49,059 : INFO : EPOCH 5 - PROGRESS: at 84.11% examples, 255649 words/s, in_qsize 5, out_qsize 0\n",
      "2023-03-13 23:12:50,087 : INFO : EPOCH 5 - PROGRESS: at 87.11% examples, 255674 words/s, in_qsize 6, out_qsize 0\n",
      "2023-03-13 23:12:51,089 : INFO : EPOCH 5 - PROGRESS: at 90.22% examples, 255917 words/s, in_qsize 5, out_qsize 0\n",
      "2023-03-13 23:12:52,102 : INFO : EPOCH 5 - PROGRESS: at 93.57% examples, 256577 words/s, in_qsize 5, out_qsize 0\n",
      "2023-03-13 23:12:53,110 : INFO : EPOCH 5 - PROGRESS: at 96.72% examples, 256705 words/s, in_qsize 5, out_qsize 0\n",
      "2023-03-13 23:12:54,082 : INFO : worker thread finished; awaiting finish of 2 more threads\n",
      "2023-03-13 23:12:54,105 : INFO : worker thread finished; awaiting finish of 1 more threads\n",
      "2023-03-13 23:12:54,141 : INFO : EPOCH 5 - PROGRESS: at 100.00% examples, 256871 words/s, in_qsize 0, out_qsize 1\n",
      "2023-03-13 23:12:54,142 : INFO : worker thread finished; awaiting finish of 0 more threads\n",
      "2023-03-13 23:12:54,142 : INFO : EPOCH - 5 : training on 11176467 raw words (8367528 effective words) took 32.6s, 256864 effective words/s\n",
      "2023-03-13 23:12:54,142 : INFO : Word2Vec lifecycle event {'msg': 'training on 55882335 raw words (41841784 effective words) took 165.5s, 252895 effective words/s', 'datetime': '2023-03-13T23:12:54.142921', 'gensim': '4.1.2', 'python': '3.9.13 (main, Aug 25 2022, 18:29:29) \\n[Clang 12.0.0 ]', 'platform': 'macOS-10.16-x86_64-i386-64bit', 'event': 'train'}\n",
      "2023-03-13 23:12:54,143 : INFO : Word2Vec lifecycle event {'params': 'Word2Vec(vocab=26588, vector_size=100, alpha=0.025)', 'datetime': '2023-03-13T23:12:54.143362', 'gensim': '4.1.2', 'python': '3.9.13 (main, Aug 25 2022, 18:29:29) \\n[Clang 12.0.0 ]', 'platform': 'macOS-10.16-x86_64-i386-64bit', 'event': 'created'}\n",
      "/Users/arjunvelmurugan/opt/anaconda3/lib/python3.9/site-packages/sklearn/linear_model/_logistic.py:814: ConvergenceWarning: lbfgs failed to converge (status=1):\n",
      "STOP: TOTAL NO. of ITERATIONS REACHED LIMIT.\n",
      "\n",
      "Increase the number of iterations (max_iter) or scale the data as shown in:\n",
      "    https://scikit-learn.org/stable/modules/preprocessing.html\n",
      "Please also refer to the documentation for alternative solver options:\n",
      "    https://scikit-learn.org/stable/modules/linear_model.html#logistic-regression\n",
      "  n_iter_i = _check_optimize_result(\n"
     ]
    },
    {
     "name": "stdout",
     "output_type": "stream",
     "text": [
      "CLASSIFICATION REPORT FOR WINDOW= 10\n",
      "              precision    recall  f1-score   support\n",
      "\n",
      "    negative       0.87      0.87      0.87      4988\n",
      "    positive       0.87      0.87      0.87      5012\n",
      "\n",
      "    accuracy                           0.87     10000\n",
      "   macro avg       0.87      0.87      0.87     10000\n",
      "weighted avg       0.87      0.87      0.87     10000\n",
      "\n"
     ]
    }
   ],
   "source": [
    "#Loop through window size\n",
    "test_acc2=[]\n",
    "train_acc2=[]\n",
    "for i in [2, 3, 5, 10]:\n",
    "    #fit w2v model\n",
    "    w2v_model = gensim.models.Word2Vec (stemmed_tokens, vector_size=100, window=i, min_count=5, sg=1)\n",
    "    #create doc embeddings train df\n",
    "    w2v_embed_df_train=create_doc_vec(X_train)\n",
    "    #fit logit\n",
    "    logreg = LogisticRegression(n_jobs=1)\n",
    "    logreg.fit(w2v_embed_df_train, Y_train)\n",
    "    #create doc embeddings test df\n",
    "    doc_vec_test=create_doc_vec(X_test)\n",
    "    #evaluate performance\n",
    "    test_predictions_word2vec = logreg.predict(doc_vec_test)\n",
    "    train_predictions_word2vec = logreg.predict(w2v_embed_df_train)\n",
    "    print('CLASSIFICATION REPORT FOR WINDOW=',i)\n",
    "    print(classification_report(Y_test,test_predictions_word2vec))\n",
    "    test_acc2.append(classification_report(Y_test, test_predictions_word2vec, output_dict=True)['accuracy'])\n",
    "    train_acc2.append(classification_report(Y_train, train_predictions_word2vec, output_dict=True)['accuracy'])"
   ]
  },
  {
   "cell_type": "code",
   "execution_count": 120,
   "id": "52f4d9a9",
   "metadata": {},
   "outputs": [
    {
     "data": {
      "image/png": "[encoded data removed]",
      "text/plain": [
       "<Figure size 432x288 with 1 Axes>"
      ]
     },
     "metadata": {
      "needs_background": "light"
     },
     "output_type": "display_data"
    }
   ],
   "source": [
    "d={\"train\":train_acc2,\n",
    "  \"test\":test_acc2}\n",
    "acc_df=pd.DataFrame(d)\n",
    "acc_df.plot(style=['o','rx'], linestyle = 'dotted')\n",
    "plt.show()"
   ]
  },
  {
   "cell_type": "markdown",
   "id": "15dc2f7d",
   "metadata": {},
   "source": [
    "## Analysis\n",
    "\n",
    "There is marginal increase in accuracy with large increase in window size, window size doesn't affect our model as much."
   ]
  },
  {
   "cell_type": "markdown",
   "id": "37c70191",
   "metadata": {},
   "source": [
    "# Question 4"
   ]
  },
  {
   "cell_type": "markdown",
   "id": "e8cad707",
   "metadata": {},
   "source": [
    "## Part 1\n",
    "\n",
    "An RNN is good for analyzing text data, like in sentiment analysis, because it can remember the context of previous words when analyzing the next word. For example, in the sentence \"I love pizza, but I hate broccoli,\" an RNN can use the context of \"love\" to understand that \"pizza\" is positive and the context of \"hate\" to understand that \"broccoli\" is negative, even though they are far apart in the sentence."
   ]
  },
  {
   "cell_type": "markdown",
   "id": "53cecbd8",
   "metadata": {},
   "source": [
    "## Part 2"
   ]
  },
  {
   "cell_type": "code",
   "execution_count": null,
   "id": "cf4d8996",
   "metadata": {},
   "outputs": [],
   "source": [
    "#import packages\n",
    "from keras.models import Model\n",
    "from keras.layers import LSTM, Activation, Dense, Dropout, Input, Embedding\n",
    "from keras.preprocessing.text import Tokenizer\n",
    "from keras.preprocessing import sequence\n",
    "from tensorflow.keras.utils import to_categorical\n",
    "from keras.callbacks import EarlyStopping\n",
    "from keras.models import Sequential\n",
    "from keras import layers\n",
    "import tensorflow as tf\n",
    "from keras.utils import pad_sequences"
   ]
  },
  {
   "cell_type": "code",
   "execution_count": 11,
   "id": "975e380f",
   "metadata": {},
   "outputs": [],
   "source": [
    "#set parameters\n",
    "max_words = 1000\n",
    "max_len = 150\n",
    "#tokenize text\n",
    "tok = Tokenizer(num_words=max_words)\n",
    "tok.fit_on_texts(X_train)\n",
    "#convert to sequence\n",
    "sequences = tok.texts_to_sequences(X_train)\n",
    "sequences_matrix = pad_sequences(sequences,maxlen=max_len)"
   ]
  },
  {
   "cell_type": "code",
   "execution_count": 75,
   "id": "07bb5ddb",
   "metadata": {},
   "outputs": [],
   "source": [
    "#define simple architecture\n",
    "model = Sequential()\n",
    "model.add(Embedding(max_words, 50, input_length=max_len))\n",
    "model.add(LSTM(300))\n",
    "model.add(Dense(1, activation = 'sigmoid'))\n",
    "model.compile(optimizer='adam',loss = 'binary_crossentropy', metrics = ['accuracy']) "
   ]
  },
  {
   "cell_type": "code",
   "execution_count": 12,
   "id": "c45690df",
   "metadata": {},
   "outputs": [],
   "source": [
    "from sklearn.preprocessing import LabelEncoder"
   ]
  },
  {
   "cell_type": "code",
   "execution_count": 26,
   "id": "1aa181dd",
   "metadata": {},
   "outputs": [
    {
     "name": "stderr",
     "output_type": "stream",
     "text": [
      "/Users/jakebrophy/miniforge3/envs/myenv/lib/python3.8/site-packages/sklearn/preprocessing/_label.py:115: DataConversionWarning: A column-vector y was passed when a 1d array was expected. Please change the shape of y to (n_samples, ), for example using ravel().\n",
      "  y = column_or_1d(y, warn=True)\n"
     ]
    }
   ],
   "source": [
    "#label encode y variable\n",
    "le=LabelEncoder()\n",
    "Y_train = le.fit_transform(Y_train)\n",
    "Y_train = Y_train.reshape(-1,1)"
   ]
  },
  {
   "cell_type": "code",
   "execution_count": 77,
   "id": "af2725c9",
   "metadata": {},
   "outputs": [
    {
     "name": "stdout",
     "output_type": "stream",
     "text": [
      "Epoch 1/10\n",
      "125/125 [==============================] - 93s 740ms/step - loss: 0.6618 - accuracy: 0.5902 - val_loss: 0.5526 - val_accuracy: 0.7495\n",
      "Epoch 2/10\n",
      "125/125 [==============================] - 91s 730ms/step - loss: 0.3833 - accuracy: 0.8336 - val_loss: 0.4172 - val_accuracy: 0.8179\n",
      "Epoch 3/10\n",
      "125/125 [==============================] - 90s 721ms/step - loss: 0.3327 - accuracy: 0.8603 - val_loss: 0.3480 - val_accuracy: 0.8530\n",
      "Epoch 4/10\n",
      "125/125 [==============================] - 93s 743ms/step - loss: 0.3209 - accuracy: 0.8635 - val_loss: 0.3488 - val_accuracy: 0.8443\n",
      "Epoch 5/10\n",
      "125/125 [==============================] - 95s 758ms/step - loss: 0.3187 - accuracy: 0.8661 - val_loss: 0.3435 - val_accuracy: 0.8512\n",
      "Epoch 6/10\n",
      "125/125 [==============================] - 89s 715ms/step - loss: 0.3042 - accuracy: 0.8713 - val_loss: 0.3572 - val_accuracy: 0.8451\n",
      "Epoch 7/10\n",
      "125/125 [==============================] - 90s 722ms/step - loss: 0.3005 - accuracy: 0.8729 - val_loss: 0.3403 - val_accuracy: 0.8501\n",
      "Epoch 8/10\n",
      "125/125 [==============================] - 91s 726ms/step - loss: 0.2893 - accuracy: 0.8777 - val_loss: 0.3479 - val_accuracy: 0.8461\n",
      "Epoch 9/10\n",
      "125/125 [==============================] - 97s 775ms/step - loss: 0.2871 - accuracy: 0.8789 - val_loss: 0.3477 - val_accuracy: 0.8528\n",
      "Epoch 10/10\n",
      "125/125 [==============================] - 92s 736ms/step - loss: 0.2750 - accuracy: 0.8844 - val_loss: 0.3528 - val_accuracy: 0.8486\n"
     ]
    }
   ],
   "source": [
    "history=model.fit(sequences_matrix,Y_train,batch_size=256,epochs=10,validation_split=0.2)"
   ]
  },
  {
   "cell_type": "code",
   "execution_count": 85,
   "id": "5ac76156",
   "metadata": {},
   "outputs": [
    {
     "name": "stdout",
     "output_type": "stream",
     "text": [
      "313/313 [==============================] - 21s 66ms/step\n"
     ]
    },
    {
     "data": {
      "text/plain": [
       "0.8574"
      ]
     },
     "execution_count": 85,
     "metadata": {},
     "output_type": "execute_result"
    }
   ],
   "source": [
    "sequences_test = tok.texts_to_sequences(X_test)\n",
    "sequences_matrix_test = pad_sequences(sequences_test,maxlen=max_len)\n",
    "y_pred = (model.predict(sequences_matrix_test) >= 0.5).astype(\"int\")\n",
    "import sklearn\n",
    "Y_test_encode = le.fit_transform(Y_test)\n",
    "Y_test_encode = Y_test_encode.reshape(-1,1)\n",
    "sklearn.metrics.accuracy_score(Y_test_encode, y_pred)"
   ]
  },
  {
   "cell_type": "markdown",
   "id": "26cab2e9",
   "metadata": {},
   "source": [
    "## Analysis:\n",
    "\n",
    "The Neural Network is performing on par with logistic regression, with minor improvement. I suspect overfitting over the 10 epochs for which the network runs. The r-squared value shows visible dips with time.\n"
   ]
  },
  {
   "cell_type": "markdown",
   "id": "4a03f35a",
   "metadata": {},
   "source": [
    "# Question 5"
   ]
  },
  {
   "cell_type": "code",
   "execution_count": 47,
   "id": "af83e4fe",
   "metadata": {
    "scrolled": false
   },
   "outputs": [
    {
     "name": "stderr",
     "output_type": "stream",
     "text": [
      "2023-03-09 14:15:13,737 : INFO : loading projection weights from GoogleNews-vectors-negative300.bin.gz\n",
      "2023-03-09 14:15:40,250 : INFO : KeyedVectors lifecycle event {'msg': 'loaded (3000000, 300) matrix of type float32 from GoogleNews-vectors-negative300.bin.gz', 'binary': True, 'encoding': 'utf8', 'datetime': '2023-03-09T14:15:40.246978', 'gensim': '4.2.0', 'python': '3.8.11 (default, Aug 16 2021, 12:04:33) \\n[Clang 12.0.0 ]', 'platform': 'macOS-13.2.1-arm64-arm-64bit', 'event': 'load_word2vec_format'}\n"
     ]
    }
   ],
   "source": [
    "#read in google vectors\n",
    "from gensim.models import KeyedVectors\n",
    "embeddings_index=KeyedVectors.load_word2vec_format(\"GoogleNews-vectors-negative300.bin.gz\", binary=True)"
   ]
  },
  {
   "cell_type": "code",
   "execution_count": 19,
   "id": "00ffd0b7",
   "metadata": {},
   "outputs": [],
   "source": [
    "#import Constant package\n",
    "from keras.initializers import Constant\n",
    "#set vocab size\n",
    "vocab_size = len(tok.word_index) + 1\n",
    "#set embedding dim and maximum words\n",
    "EMBEDDING_DIM = 300\n",
    "MAX_NUM_WORDS = 10000\n",
    "#set word index\n",
    "word_index = tok.word_index\n",
    "num_words = vocab_size\n",
    "#create empty embedding matrix\n",
    "embedding_matrix = np.zeros((vocab_size, EMBEDDING_DIM))\n",
    "#loop through words present in our corpus\n",
    "for word, i in word_index.items():\n",
    "    #append words present in the google vectors to our embeddings index\n",
    "    try:\n",
    "        embedding_vector = embeddings_index[word]\n",
    "        embedding_matrix[i] = embedding_vector\n",
    "    except KeyError:\n",
    "        embedding_matrix[i]=np.random.normal(0,np.sqrt(0.25),EMBEDDING_DIM)"
   ]
  },
  {
   "cell_type": "code",
   "execution_count": 78,
   "id": "0006c7e1",
   "metadata": {},
   "outputs": [],
   "source": [
    "#define simple model architecture\n",
    "model_w2v = Sequential()\n",
    "model_w2v.add(Embedding(vocab_size, output_dim=EMBEDDING_DIM, weights=[embedding_matrix], input_length=max_len, trainable=False))\n",
    "model_w2v.add(LSTM(300))\n",
    "model_w2v.add(Dense(1, activation = 'sigmoid'))\n",
    "model_w2v.compile(optimizer='adam',loss = 'binary_crossentropy', metrics = ['accuracy']) "
   ]
  },
  {
   "cell_type": "code",
   "execution_count": 79,
   "id": "2263daf7",
   "metadata": {
    "scrolled": false
   },
   "outputs": [
    {
     "name": "stdout",
     "output_type": "stream",
     "text": [
      "Epoch 1/10\n",
      "125/125 [==============================] - 116s 922ms/step - loss: 0.6264 - accuracy: 0.6511 - val_loss: 0.6146 - val_accuracy: 0.6624\n",
      "Epoch 2/10\n",
      "125/125 [==============================] - 115s 917ms/step - loss: 0.5005 - accuracy: 0.7555 - val_loss: 0.4716 - val_accuracy: 0.7819\n",
      "Epoch 3/10\n",
      "125/125 [==============================] - 115s 922ms/step - loss: 0.4347 - accuracy: 0.7997 - val_loss: 0.5141 - val_accuracy: 0.7857\n",
      "Epoch 4/10\n",
      "125/125 [==============================] - 113s 908ms/step - loss: 0.4216 - accuracy: 0.8105 - val_loss: 0.4322 - val_accuracy: 0.8006\n",
      "Epoch 5/10\n",
      "125/125 [==============================] - 116s 932ms/step - loss: 0.3905 - accuracy: 0.8259 - val_loss: 0.4244 - val_accuracy: 0.8065\n",
      "Epoch 6/10\n",
      "125/125 [==============================] - 110s 885ms/step - loss: 0.3729 - accuracy: 0.8355 - val_loss: 0.4173 - val_accuracy: 0.8014\n",
      "Epoch 7/10\n",
      "125/125 [==============================] - 113s 906ms/step - loss: 0.3603 - accuracy: 0.8403 - val_loss: 0.3733 - val_accuracy: 0.8365\n",
      "Epoch 8/10\n",
      "125/125 [==============================] - 117s 934ms/step - loss: 0.3430 - accuracy: 0.8501 - val_loss: 0.3676 - val_accuracy: 0.8399\n",
      "Epoch 9/10\n",
      "125/125 [==============================] - 117s 935ms/step - loss: 0.3232 - accuracy: 0.8623 - val_loss: 0.3537 - val_accuracy: 0.8479\n",
      "Epoch 10/10\n",
      "125/125 [==============================] - 118s 943ms/step - loss: 0.3119 - accuracy: 0.8662 - val_loss: 0.3571 - val_accuracy: 0.8494\n"
     ]
    }
   ],
   "source": [
    "history=model_w2v.fit(sequences_matrix,Y_train,batch_size=256,epochs=10,validation_split=0.2)"
   ]
  },
  {
   "cell_type": "code",
   "execution_count": 86,
   "id": "baef05a4",
   "metadata": {},
   "outputs": [
    {
     "name": "stdout",
     "output_type": "stream",
     "text": [
      "313/313 [==============================] - 32s 101ms/step\n"
     ]
    },
    {
     "data": {
      "text/plain": [
       "0.8514"
      ]
     },
     "execution_count": 86,
     "metadata": {},
     "output_type": "execute_result"
    }
   ],
   "source": [
    "y_pred = (model_w2v.predict(sequences_matrix_test) >= 0.5).astype(\"int\")\n",
    "sklearn.metrics.accuracy_score(Y_test_encode, y_pred)"
   ]
  },
  {
   "cell_type": "markdown",
   "id": "22bc0204",
   "metadata": {},
   "source": [
    "## Analysis:\n",
    "\n",
    "The performance using the google word2vec embeddings is a little worse than the previous model we trained. Maybe, in this case 10 epochs was not enough. In this case accuracy is on an upward trend till the last epoch.\n"
   ]
  },
  {
   "cell_type": "markdown",
   "id": "1a1241b0",
   "metadata": {},
   "source": [
    "# Question 6"
   ]
  },
  {
   "cell_type": "code",
   "execution_count": 20,
   "id": "21598c92",
   "metadata": {},
   "outputs": [
    {
     "data": {
      "text/plain": [
       "[('intrigu', 0.748183012008667),\n",
       " ('engag', 0.694418728351593),\n",
       " ('unusu', 0.678403377532959),\n",
       " ('import', 0.6678760051727295),\n",
       " ('compel', 0.6577246189117432),\n",
       " ('worthwhil', 0.6548833847045898),\n",
       " ('entic', 0.6540057063102722),\n",
       " ('fascin', 0.651665210723877),\n",
       " ('enjoy', 0.647544801235199),\n",
       " ('entertain', 0.6293315291404724),\n",
       " ('excit', 0.6251449584960938),\n",
       " ('kernel', 0.6212165355682373),\n",
       " ('substant', 0.6188052296638489),\n",
       " ('workabl', 0.6180407404899597),\n",
       " ('satisfactori', 0.6140120029449463),\n",
       " ('occident', 0.6117244958877563),\n",
       " ('inconclus', 0.6108110547065735),\n",
       " ('develop', 0.5988857746124268),\n",
       " ('engross', 0.5982039570808411),\n",
       " ('layman', 0.5964980125427246)]"
      ]
     },
     "execution_count": 20,
     "metadata": {},
     "output_type": "execute_result"
    }
   ],
   "source": [
    "w1 = [\"interest\"]\n",
    "w2v_model.wv.most_similar (positive=w1,topn=20)"
   ]
  },
  {
   "cell_type": "code",
   "execution_count": 23,
   "id": "d9233ebc",
   "metadata": {},
   "outputs": [
    {
     "data": {
      "text/plain": [
       "[('intriguing', 0.8185973167419434),\n",
       " ('fascinating', 0.7623068690299988),\n",
       " ('exciting', 0.666785717010498),\n",
       " ('Interesting', 0.6602181196212769),\n",
       " ('intersting', 0.6464772820472717),\n",
       " ('instructive', 0.6250472068786621),\n",
       " ('intruiging', 0.6132698059082031),\n",
       " ('amusing', 0.5975308418273926),\n",
       " ('enlightening', 0.586188554763794),\n",
       " ('curious', 0.5820387005805969),\n",
       " ('surprising', 0.5713135004043579),\n",
       " ('interesing', 0.5630740523338318),\n",
       " ('noteworthy', 0.5548619031906128),\n",
       " ('perplexing', 0.5477174520492554),\n",
       " ('intresting', 0.544119119644165),\n",
       " ('entertaining', 0.5434436798095703),\n",
       " ('facinating', 0.5416558980941772),\n",
       " ('enjoyable', 0.5395940542221069),\n",
       " ('amazing', 0.5381636023521423),\n",
       " ('weird', 0.5364336967468262)]"
      ]
     },
     "execution_count": 23,
     "metadata": {},
     "output_type": "execute_result"
    }
   ],
   "source": [
    "w1 = [\"interesting\"]\n",
    "embeddings_index.most_similar(w1, topn=20)"
   ]
  },
  {
   "cell_type": "markdown",
   "id": "78465650",
   "metadata": {},
   "source": [
    "## Analysis:\n",
    "\n",
    "There is a clear difference in words that are similar to \"interesting\" between both the models. The difference is purely based on the dataset we used. Stemming could also cause these differences.In the first model we stemmed and the context is purely based on reviews, which are in essence a very focused use of language."
   ]
  },
  {
   "cell_type": "code",
   "execution_count": 123,
   "id": "78532751",
   "metadata": {},
   "outputs": [],
   "source": [
    "#import PCA\n",
    "from sklearn.decomposition import PCA"
   ]
  },
  {
   "cell_type": "code",
   "execution_count": 124,
   "id": "56b9c54c",
   "metadata": {},
   "outputs": [],
   "source": [
    "#get similar words for boring and interesting\n",
    "int_words_similar_list=[i for i in list(zip(*embeddings_index.most_similar(w1, topn=20)))[0]]\n",
    "boring_words_similar_list=[i for i in list(zip(*embeddings_index.most_similar('boring', topn=20)))[0]]"
   ]
  },
  {
   "cell_type": "code",
   "execution_count": 125,
   "id": "e2741199",
   "metadata": {},
   "outputs": [],
   "source": [
    "#combine lists\n",
    "full_list=int_words_similar_list+boring_words_similar_list"
   ]
  },
  {
   "cell_type": "code",
   "execution_count": 126,
   "id": "0ea4f5cc",
   "metadata": {
    "scrolled": true
   },
   "outputs": [],
   "source": [
    "#get word vectors\n",
    "word_vectors = np.array([embeddings_index[w] for w in full_list])\n",
    "pca=PCA()\n",
    "pca_words = pca.fit(word_vectors)"
   ]
  },
  {
   "cell_type": "code",
   "execution_count": 127,
   "id": "b433ae3f",
   "metadata": {},
   "outputs": [
    {
     "data": {
      "image/png": "[encoded data removed]",
      "text/plain": [
       "<Figure size 432x288 with 1 Axes>"
      ]
     },
     "metadata": {
      "needs_background": "light"
     },
     "output_type": "display_data"
    }
   ],
   "source": [
    "exp_var_pca = pca_words.explained_variance_ratio_\n",
    "\n",
    "# Cumulative sum of eigenvalues to visualize factor loadings\n",
    "\n",
    "cum_sum_eigenvalues = np.cumsum(exp_var_pca)\n",
    "\n",
    "# Create the visualization plot\n",
    "\n",
    "plt.scatter(range(0,len(cum_sum_eigenvalues)), cum_sum_eigenvalues,label='Cumulative explained variance')\n",
    "plt.ylabel('Explained variance ratio')\n",
    "plt.xlabel('Principal component number')\n",
    "plt.legend(loc='best')\n",
    "plt.tight_layout()\n",
    "plt.show()"
   ]
  },
  {
   "cell_type": "markdown",
   "id": "cbbeff89",
   "metadata": {},
   "source": [
    "## Analysis:\n",
    "\n",
    "As per the 75% rule, it's safer to use 20 components as they explain a significant amount of variance in our data"
   ]
  },
  {
   "cell_type": "code",
   "execution_count": 128,
   "id": "8b6b2c61",
   "metadata": {},
   "outputs": [],
   "source": [
    "# Fit PCA\n",
    "pca = PCA(n_components=20)\n",
    "pca_w2v = pca.fit_transform(word_vectors)"
   ]
  },
  {
   "cell_type": "code",
   "execution_count": 129,
   "id": "c4255166",
   "metadata": {},
   "outputs": [],
   "source": [
    "#Create pandas df for plotting\n",
    "pca_df = pd.DataFrame(data = pca_w2v[:,0:2], \n",
    "                                  columns = ['principal component 1', 'principal component 2'])"
   ]
  },
  {
   "cell_type": "code",
   "execution_count": 130,
   "id": "5c7b4d88",
   "metadata": {},
   "outputs": [
    {
     "data": {
      "text/plain": [
       "<AxesSubplot:xlabel='principal component 1', ylabel='principal component 2'>"
      ]
     },
     "execution_count": 130,
     "metadata": {},
     "output_type": "execute_result"
    },
    {
     "data": {
      "image/png": "[encoded data removed]",
      "text/plain": [
       "<Figure size 1152x720 with 1 Axes>"
      ]
     },
     "metadata": {
      "needs_background": "light"
     },
     "output_type": "display_data"
    }
   ],
   "source": [
    "#Plot PC1 vs PC2\n",
    "import seaborn as sns\n",
    "plt.figure(figsize=(16,10))\n",
    "sns.scatterplot(\n",
    "    x=\"principal component 1\", y=\"principal component 2\",\n",
    "    palette=sns.color_palette(\"hls\", 10),\n",
    "    data=pca_df,\n",
    "    legend=\"full\",\n",
    "    alpha=0.3\n",
    ")"
   ]
  },
  {
   "cell_type": "markdown",
   "id": "f4e7f2cc",
   "metadata": {},
   "source": [
    "## Analysis:\n",
    "We see two visible clusters on either side of 0 in PC1. They are likely representations of the differences between the words 'interesting' and 'boring'. Clear opposites are very unlikely to have any similarity.\n"
   ]
  }
 ],
 "metadata": {
  "kernelspec": {
   "display_name": "Python 3 (ipykernel)",
   "language": "python",
   "name": "python3"
  },
  "language_info": {
   "codemirror_mode": {
    "name": "ipython",
    "version": 3
   },
   "file_extension": ".py",
   "mimetype": "text/x-python",
   "name": "python",
   "nbconvert_exporter": "python",
   "pygments_lexer": "ipython3",
   "version": "3.9.13"
  }
 },
 "nbformat": 4,
 "nbformat_minor": 5
}
