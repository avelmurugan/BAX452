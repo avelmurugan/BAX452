{
 "cells": [
  {
   "cell_type": "markdown",
   "id": "2d10b623",
   "metadata": {},
   "source": [
    "Question 1 Using the sales.csv Download sales.csv, write code to show effects of interactions, if any, on the linear regression model to predict the total_sales for a new area using given sales from three areas"
   ]
  },
  {
   "cell_type": "code",
   "execution_count": 97,
   "id": "64e584bf",
   "metadata": {},
   "outputs": [
    {
     "name": "stdout",
     "output_type": "stream",
     "text": [
      "Requirement already satisfied: scikit-learn in ./opt/anaconda3/lib/python3.9/site-packages (1.1.3)\n",
      "Collecting scikit-learn\n",
      "  Downloading scikit_learn-1.2.0-cp39-cp39-macosx_10_9_x86_64.whl (9.1 MB)\n",
      "\u001b[2K     \u001b[90m━━━━━━━━━━━━━━━━━━━━━━━━━━━━━━━━━━━━━━━━\u001b[0m \u001b[32m9.1/9.1 MB\u001b[0m \u001b[31m14.9 MB/s\u001b[0m eta \u001b[36m0:00:00\u001b[0m00:01\u001b[0m00:01\u001b[0m\n",
      "\u001b[?25hRequirement already satisfied: numpy>=1.17.3 in ./opt/anaconda3/lib/python3.9/site-packages (from scikit-learn) (1.21.5)\n",
      "Requirement already satisfied: threadpoolctl>=2.0.0 in ./opt/anaconda3/lib/python3.9/site-packages (from scikit-learn) (2.2.0)\n",
      "Requirement already satisfied: scipy>=1.3.2 in ./opt/anaconda3/lib/python3.9/site-packages (from scikit-learn) (1.9.1)\n",
      "Requirement already satisfied: joblib>=1.1.1 in ./opt/anaconda3/lib/python3.9/site-packages (from scikit-learn) (1.2.0)\n",
      "Installing collected packages: scikit-learn\n",
      "  Attempting uninstall: scikit-learn\n",
      "    Found existing installation: scikit-learn 1.1.3\n",
      "    Uninstalling scikit-learn-1.1.3:\n",
      "      Successfully uninstalled scikit-learn-1.1.3\n",
      "Successfully installed scikit-learn-1.2.0\n",
      "Note: you may need to restart the kernel to use updated packages.\n"
     ]
    }
   ],
   "source": [
    " pip install -U scikit-learn\n"
   ]
  },
  {
   "cell_type": "code",
   "execution_count": 3,
   "id": "cc7cec34",
   "metadata": {},
   "outputs": [],
   "source": [
    "##importbox\n",
    "import pandas as pd\n",
    "import matplotlib.pyplot as plt\n",
    "import numpy as np\n",
    "import statsmodels.formula.api as smf \n",
    "import statsmodels.api as sm\n",
    "from statsmodels.formula.api import ols\n",
    "from sklearn.linear_model import LogisticRegression\n",
    "from sklearn.metrics import classification_report\n",
    "from sklearn.metrics import confusion_matrix\n",
    "from statsmodels.graphics.factorplots import interaction_plot\n",
    "from sklearn.linear_model import LinearRegression\n",
    "from sklearn.metrics import log_loss\n",
    "from sklearn.preprocessing import PolynomialFeatures"
   ]
  },
  {
   "cell_type": "code",
   "execution_count": 79,
   "id": "d16d012b",
   "metadata": {},
   "outputs": [
    {
     "data": {
      "text/html": [
       "<div>\n",
       "<style scoped>\n",
       "    .dataframe tbody tr th:only-of-type {\n",
       "        vertical-align: middle;\n",
       "    }\n",
       "\n",
       "    .dataframe tbody tr th {\n",
       "        vertical-align: top;\n",
       "    }\n",
       "\n",
       "    .dataframe thead th {\n",
       "        text-align: right;\n",
       "    }\n",
       "</style>\n",
       "<table border=\"1\" class=\"dataframe\">\n",
       "  <thead>\n",
       "    <tr style=\"text-align: right;\">\n",
       "      <th></th>\n",
       "      <th>Unnamed: 0</th>\n",
       "      <th>area1_sales</th>\n",
       "      <th>area2_sales</th>\n",
       "      <th>area3_sales</th>\n",
       "      <th>total_sales</th>\n",
       "    </tr>\n",
       "  </thead>\n",
       "  <tbody>\n",
       "    <tr>\n",
       "      <th>count</th>\n",
       "      <td>3000.000000</td>\n",
       "      <td>3000.000000</td>\n",
       "      <td>3000.000000</td>\n",
       "      <td>3000.000000</td>\n",
       "      <td>3000.000000</td>\n",
       "    </tr>\n",
       "    <tr>\n",
       "      <th>mean</th>\n",
       "      <td>2499.500000</td>\n",
       "      <td>0.455067</td>\n",
       "      <td>0.115893</td>\n",
       "      <td>0.085187</td>\n",
       "      <td>0.909147</td>\n",
       "    </tr>\n",
       "    <tr>\n",
       "      <th>std</th>\n",
       "      <td>866.169729</td>\n",
       "      <td>0.296090</td>\n",
       "      <td>0.251816</td>\n",
       "      <td>0.091396</td>\n",
       "      <td>0.344035</td>\n",
       "    </tr>\n",
       "    <tr>\n",
       "      <th>min</th>\n",
       "      <td>1000.000000</td>\n",
       "      <td>0.000000</td>\n",
       "      <td>0.000000</td>\n",
       "      <td>0.000000</td>\n",
       "      <td>0.490000</td>\n",
       "    </tr>\n",
       "    <tr>\n",
       "      <th>25%</th>\n",
       "      <td>1749.750000</td>\n",
       "      <td>0.260000</td>\n",
       "      <td>0.000000</td>\n",
       "      <td>0.040000</td>\n",
       "      <td>0.610000</td>\n",
       "    </tr>\n",
       "    <tr>\n",
       "      <th>50%</th>\n",
       "      <td>2499.500000</td>\n",
       "      <td>0.420000</td>\n",
       "      <td>0.000000</td>\n",
       "      <td>0.070000</td>\n",
       "      <td>0.810000</td>\n",
       "    </tr>\n",
       "    <tr>\n",
       "      <th>75%</th>\n",
       "      <td>3249.250000</td>\n",
       "      <td>0.610000</td>\n",
       "      <td>0.080000</td>\n",
       "      <td>0.110000</td>\n",
       "      <td>1.150000</td>\n",
       "    </tr>\n",
       "    <tr>\n",
       "      <th>max</th>\n",
       "      <td>3999.000000</td>\n",
       "      <td>1.690000</td>\n",
       "      <td>1.710000</td>\n",
       "      <td>1.230000</td>\n",
       "      <td>1.750000</td>\n",
       "    </tr>\n",
       "  </tbody>\n",
       "</table>\n",
       "</div>"
      ],
      "text/plain": [
       "        Unnamed: 0  area1_sales  area2_sales  area3_sales  total_sales\n",
       "count  3000.000000  3000.000000  3000.000000  3000.000000  3000.000000\n",
       "mean   2499.500000     0.455067     0.115893     0.085187     0.909147\n",
       "std     866.169729     0.296090     0.251816     0.091396     0.344035\n",
       "min    1000.000000     0.000000     0.000000     0.000000     0.490000\n",
       "25%    1749.750000     0.260000     0.000000     0.040000     0.610000\n",
       "50%    2499.500000     0.420000     0.000000     0.070000     0.810000\n",
       "75%    3249.250000     0.610000     0.080000     0.110000     1.150000\n",
       "max    3999.000000     1.690000     1.710000     1.230000     1.750000"
      ]
     },
     "execution_count": 79,
     "metadata": {},
     "output_type": "execute_result"
    }
   ],
   "source": [
    "##reading and describing the data\n",
    "interaction = 'off' ##we can turn this off to avoid interaction effects\n",
    "q1 = pd.read_csv('sales.csv')\n",
    "q1.describe()"
   ]
  },
  {
   "cell_type": "code",
   "execution_count": 82,
   "id": "e70123c7",
   "metadata": {},
   "outputs": [],
   "source": [
    "##using the scikitLearn LR module, we model the following:\n",
    "def modelo():\n",
    "    if interaction == 'off':\n",
    "        model1 = smf.ols(formula='total_sales ~ area1_sales + area2_sales + area3_sales', data=q1) ##fitting the model with data in hand\n",
    "        model_result1=model1.fit()\n",
    "        print(model_result1.summary()) ##printing out the model details\n",
    "        fit1 = pd.DataFrame(np.random.random((3000,1)))  ##making a randomized column for new area sales\n",
    "        ext = q1[['area1_sales','area2_sales']] ##taking out area sales for 2 of the 3 columns\n",
    "        fit1 = fit1.join(ext) ##joining the 2 to the new randomized area sales column\n",
    "        fit1.columns = ['area1_sales','area2_sales','area3_sales'] ##using new dataframe, without interaction effects\n",
    "        ans1 = pd.DataFrame(model_result1.predict(fit1)) #we will run predictions from the model\n",
    "        print(\"Prediction for new area is:\")\n",
    "        print(ans1)\n",
    "    elif interaction == 'on':\n",
    "        model1 = smf.ols(formula='total_sales ~ area1_sales + area2_sales + area3_sales + area1_sales*area2_sales + area2_sales*area3_sales + area3_sales*area1_sales', data=q1) ##fitting the model with data in hand\n",
    "        model_result1=model1.fit()\n",
    "        print(model_result1.summary()) ##printing out the model details\n",
    "        fit1 = pd.DataFrame(np.random.random((3000,1)))\n",
    "        ext = q1[['area1_sales','area2_sales']]\n",
    "        fit1 = fit1.join(ext)\n",
    "        fit1.columns = ['area1_sales','area2_sales','area3_sales'] ##using new dataframe, without interaction effects\n",
    "        ans1 = pd.DataFrame(model_result1.predict(fit1))\n",
    "        print(\"Prediction for new area is:\")\n",
    "        print(ans1)\n",
    "    else:\n",
    "        print(\"something's up, go home!\")\n"
   ]
  },
  {
   "cell_type": "markdown",
   "id": "42528ca4",
   "metadata": {},
   "source": [
    "We now need to fit an area4 sales into this model and see predicted probabilities, from area sales for 1,2 & 3 we know that the max sales is 1.71 and min sales is 0, so we used a randomized function that generated values between 0 & 1"
   ]
  },
  {
   "cell_type": "code",
   "execution_count": 83,
   "id": "8a243ed2",
   "metadata": {
    "scrolled": true
   },
   "outputs": [
    {
     "name": "stdout",
     "output_type": "stream",
     "text": [
      "                            OLS Regression Results                            \n",
      "==============================================================================\n",
      "Dep. Variable:            total_sales   R-squared:                       0.702\n",
      "Model:                            OLS   Adj. R-squared:                  0.702\n",
      "Method:                 Least Squares   F-statistic:                     2354.\n",
      "Date:                Sun, 22 Jan 2023   Prob (F-statistic):               0.00\n",
      "Time:                        20:03:30   Log-Likelihood:                 761.25\n",
      "No. Observations:                3000   AIC:                            -1515.\n",
      "Df Residuals:                    2996   BIC:                            -1490.\n",
      "Df Model:                           3                                         \n",
      "Covariance Type:            nonrobust                                         \n",
      "===============================================================================\n",
      "                  coef    std err          t      P>|t|      [0.025      0.975]\n",
      "-------------------------------------------------------------------------------\n",
      "Intercept       0.2601      0.008     30.743      0.000       0.243       0.277\n",
      "area1_sales     0.9148      0.013     72.435      0.000       0.890       0.940\n",
      "area2_sales     0.7489      0.015     49.102      0.000       0.719       0.779\n",
      "area3_sales     1.7136      0.039     44.344      0.000       1.638       1.789\n",
      "==============================================================================\n",
      "Omnibus:                      482.733   Durbin-Watson:                   1.442\n",
      "Prob(Omnibus):                  0.000   Jarque-Bera (JB):             2611.741\n",
      "Skew:                           0.653   Prob(JB):                         0.00\n",
      "Kurtosis:                       7.380   Cond. No.                         12.7\n",
      "==============================================================================\n",
      "\n",
      "Notes:\n",
      "[1] Standard Errors assume that the covariance matrix of the errors is correctly specified.\n",
      "Prediction for new area is:\n",
      "             0\n",
      "0     2.414162\n",
      "1     1.534759\n",
      "2     1.049213\n",
      "3     1.749044\n",
      "4     1.086223\n",
      "...        ...\n",
      "2995  0.882119\n",
      "2996  0.573946\n",
      "2997  1.506012\n",
      "2998  1.142970\n",
      "2999  0.596980\n",
      "\n",
      "[3000 rows x 1 columns]\n"
     ]
    }
   ],
   "source": [
    "if __name__ == '__main__':\n",
    "    modelo()\n"
   ]
  },
  {
   "cell_type": "markdown",
   "id": "8c63a326",
   "metadata": {},
   "source": [
    "Question 2: Develop a full Logistic Regression Model using customer.csv Download customer.csvto predict whether the customer will purchase the product. Also train trimmed logistic regression models (Trimmed over features in the data). Compute the \"in-sample R2\" (pseudo) for the models you train and compare the models based on this metric."
   ]
  },
  {
   "cell_type": "code",
   "execution_count": 12,
   "id": "4cf3489c",
   "metadata": {},
   "outputs": [
    {
     "name": "stdout",
     "output_type": "stream",
     "text": [
      "      User ID  Age  EstimatedSalary  Purchased  Gender\n",
      "0    15624510   19            19000          0       0\n",
      "1    15810944   35            20000          0       0\n",
      "2    15668575   26            43000          0       1\n",
      "3    15603246   27            57000          0       1\n",
      "4    15804002   19            76000          0       0\n",
      "..        ...  ...              ...        ...     ...\n",
      "395  15691863   46            41000          1       1\n",
      "396  15706071   51            23000          1       0\n",
      "397  15654296   50            20000          1       1\n",
      "398  15755018   36            33000          0       0\n",
      "399  15594041   49            36000          1       1\n",
      "\n",
      "[400 rows x 5 columns]\n"
     ]
    }
   ],
   "source": [
    "q2 = pd.read_csv('customer.csv') ##reading the file\n",
    "q2_g = pd.get_dummies(q2[\"Gender\"]) ##turning gender into two dummy variables\n",
    "q2_g = q2_g.drop([\"Male\"], axis=1) ##taking the male gender out of the dataframe *sigh, they had to go*\n",
    "q2 = pd.concat((q2,q2_g), axis = 1) ##concatenating our new female dummy variable\n",
    "q2 = q2.drop([\"Gender\"],axis=1) ##dropping the old naming system\n",
    "q2 = q2.rename(columns={\"Female\": \"Gender\"}) ##swapping out the column name to bring back gender\n",
    "print(q2)"
   ]
  },
  {
   "cell_type": "code",
   "execution_count": 22,
   "id": "7526eac5",
   "metadata": {},
   "outputs": [
    {
     "data": {
      "text/html": [
       "<div>\n",
       "<style scoped>\n",
       "    .dataframe tbody tr th:only-of-type {\n",
       "        vertical-align: middle;\n",
       "    }\n",
       "\n",
       "    .dataframe tbody tr th {\n",
       "        vertical-align: top;\n",
       "    }\n",
       "\n",
       "    .dataframe thead th {\n",
       "        text-align: right;\n",
       "    }\n",
       "</style>\n",
       "<table border=\"1\" class=\"dataframe\">\n",
       "  <thead>\n",
       "    <tr style=\"text-align: right;\">\n",
       "      <th></th>\n",
       "      <th>0</th>\n",
       "      <th>1</th>\n",
       "      <th>2</th>\n",
       "      <th>3</th>\n",
       "      <th>4</th>\n",
       "      <th>5</th>\n",
       "      <th>6</th>\n",
       "      <th>7</th>\n",
       "      <th>8</th>\n",
       "      <th>9</th>\n",
       "      <th>10</th>\n",
       "      <th>11</th>\n",
       "      <th>12</th>\n",
       "      <th>13</th>\n",
       "      <th>14</th>\n",
       "      <th>15</th>\n",
       "      <th>16</th>\n",
       "      <th>17</th>\n",
       "      <th>18</th>\n",
       "      <th>19</th>\n",
       "    </tr>\n",
       "  </thead>\n",
       "  <tbody>\n",
       "    <tr>\n",
       "      <th>0</th>\n",
       "      <td>15624510.0</td>\n",
       "      <td>19.0</td>\n",
       "      <td>19000.0</td>\n",
       "      <td>0.0</td>\n",
       "      <td>0.0</td>\n",
       "      <td>15624510.0</td>\n",
       "      <td>19.0</td>\n",
       "      <td>19000.0</td>\n",
       "      <td>0.0</td>\n",
       "      <td>0.0</td>\n",
       "      <td>296865690.0</td>\n",
       "      <td>2.968657e+11</td>\n",
       "      <td>0.0</td>\n",
       "      <td>0.0</td>\n",
       "      <td>361000.0</td>\n",
       "      <td>0.0</td>\n",
       "      <td>0.0</td>\n",
       "      <td>0.0</td>\n",
       "      <td>0.0</td>\n",
       "      <td>0.0</td>\n",
       "    </tr>\n",
       "    <tr>\n",
       "      <th>1</th>\n",
       "      <td>15810944.0</td>\n",
       "      <td>35.0</td>\n",
       "      <td>20000.0</td>\n",
       "      <td>0.0</td>\n",
       "      <td>0.0</td>\n",
       "      <td>15810944.0</td>\n",
       "      <td>35.0</td>\n",
       "      <td>20000.0</td>\n",
       "      <td>0.0</td>\n",
       "      <td>0.0</td>\n",
       "      <td>553383040.0</td>\n",
       "      <td>3.162189e+11</td>\n",
       "      <td>0.0</td>\n",
       "      <td>0.0</td>\n",
       "      <td>700000.0</td>\n",
       "      <td>0.0</td>\n",
       "      <td>0.0</td>\n",
       "      <td>0.0</td>\n",
       "      <td>0.0</td>\n",
       "      <td>0.0</td>\n",
       "    </tr>\n",
       "    <tr>\n",
       "      <th>2</th>\n",
       "      <td>15668575.0</td>\n",
       "      <td>26.0</td>\n",
       "      <td>43000.0</td>\n",
       "      <td>0.0</td>\n",
       "      <td>1.0</td>\n",
       "      <td>15668575.0</td>\n",
       "      <td>26.0</td>\n",
       "      <td>43000.0</td>\n",
       "      <td>0.0</td>\n",
       "      <td>1.0</td>\n",
       "      <td>407382950.0</td>\n",
       "      <td>6.737487e+11</td>\n",
       "      <td>0.0</td>\n",
       "      <td>15668575.0</td>\n",
       "      <td>1118000.0</td>\n",
       "      <td>0.0</td>\n",
       "      <td>26.0</td>\n",
       "      <td>0.0</td>\n",
       "      <td>43000.0</td>\n",
       "      <td>0.0</td>\n",
       "    </tr>\n",
       "    <tr>\n",
       "      <th>3</th>\n",
       "      <td>15603246.0</td>\n",
       "      <td>27.0</td>\n",
       "      <td>57000.0</td>\n",
       "      <td>0.0</td>\n",
       "      <td>1.0</td>\n",
       "      <td>15603246.0</td>\n",
       "      <td>27.0</td>\n",
       "      <td>57000.0</td>\n",
       "      <td>0.0</td>\n",
       "      <td>1.0</td>\n",
       "      <td>421287642.0</td>\n",
       "      <td>8.893850e+11</td>\n",
       "      <td>0.0</td>\n",
       "      <td>15603246.0</td>\n",
       "      <td>1539000.0</td>\n",
       "      <td>0.0</td>\n",
       "      <td>27.0</td>\n",
       "      <td>0.0</td>\n",
       "      <td>57000.0</td>\n",
       "      <td>0.0</td>\n",
       "    </tr>\n",
       "    <tr>\n",
       "      <th>4</th>\n",
       "      <td>15804002.0</td>\n",
       "      <td>19.0</td>\n",
       "      <td>76000.0</td>\n",
       "      <td>0.0</td>\n",
       "      <td>0.0</td>\n",
       "      <td>15804002.0</td>\n",
       "      <td>19.0</td>\n",
       "      <td>76000.0</td>\n",
       "      <td>0.0</td>\n",
       "      <td>0.0</td>\n",
       "      <td>300276038.0</td>\n",
       "      <td>1.201104e+12</td>\n",
       "      <td>0.0</td>\n",
       "      <td>0.0</td>\n",
       "      <td>1444000.0</td>\n",
       "      <td>0.0</td>\n",
       "      <td>0.0</td>\n",
       "      <td>0.0</td>\n",
       "      <td>0.0</td>\n",
       "      <td>0.0</td>\n",
       "    </tr>\n",
       "    <tr>\n",
       "      <th>...</th>\n",
       "      <td>...</td>\n",
       "      <td>...</td>\n",
       "      <td>...</td>\n",
       "      <td>...</td>\n",
       "      <td>...</td>\n",
       "      <td>...</td>\n",
       "      <td>...</td>\n",
       "      <td>...</td>\n",
       "      <td>...</td>\n",
       "      <td>...</td>\n",
       "      <td>...</td>\n",
       "      <td>...</td>\n",
       "      <td>...</td>\n",
       "      <td>...</td>\n",
       "      <td>...</td>\n",
       "      <td>...</td>\n",
       "      <td>...</td>\n",
       "      <td>...</td>\n",
       "      <td>...</td>\n",
       "      <td>...</td>\n",
       "    </tr>\n",
       "    <tr>\n",
       "      <th>395</th>\n",
       "      <td>15691863.0</td>\n",
       "      <td>46.0</td>\n",
       "      <td>41000.0</td>\n",
       "      <td>1.0</td>\n",
       "      <td>1.0</td>\n",
       "      <td>15691863.0</td>\n",
       "      <td>46.0</td>\n",
       "      <td>41000.0</td>\n",
       "      <td>1.0</td>\n",
       "      <td>1.0</td>\n",
       "      <td>721825698.0</td>\n",
       "      <td>6.433664e+11</td>\n",
       "      <td>15691863.0</td>\n",
       "      <td>15691863.0</td>\n",
       "      <td>1886000.0</td>\n",
       "      <td>46.0</td>\n",
       "      <td>46.0</td>\n",
       "      <td>41000.0</td>\n",
       "      <td>41000.0</td>\n",
       "      <td>1.0</td>\n",
       "    </tr>\n",
       "    <tr>\n",
       "      <th>396</th>\n",
       "      <td>15706071.0</td>\n",
       "      <td>51.0</td>\n",
       "      <td>23000.0</td>\n",
       "      <td>1.0</td>\n",
       "      <td>0.0</td>\n",
       "      <td>15706071.0</td>\n",
       "      <td>51.0</td>\n",
       "      <td>23000.0</td>\n",
       "      <td>1.0</td>\n",
       "      <td>0.0</td>\n",
       "      <td>801009621.0</td>\n",
       "      <td>3.612396e+11</td>\n",
       "      <td>15706071.0</td>\n",
       "      <td>0.0</td>\n",
       "      <td>1173000.0</td>\n",
       "      <td>51.0</td>\n",
       "      <td>0.0</td>\n",
       "      <td>23000.0</td>\n",
       "      <td>0.0</td>\n",
       "      <td>0.0</td>\n",
       "    </tr>\n",
       "    <tr>\n",
       "      <th>397</th>\n",
       "      <td>15654296.0</td>\n",
       "      <td>50.0</td>\n",
       "      <td>20000.0</td>\n",
       "      <td>1.0</td>\n",
       "      <td>1.0</td>\n",
       "      <td>15654296.0</td>\n",
       "      <td>50.0</td>\n",
       "      <td>20000.0</td>\n",
       "      <td>1.0</td>\n",
       "      <td>1.0</td>\n",
       "      <td>782714800.0</td>\n",
       "      <td>3.130859e+11</td>\n",
       "      <td>15654296.0</td>\n",
       "      <td>15654296.0</td>\n",
       "      <td>1000000.0</td>\n",
       "      <td>50.0</td>\n",
       "      <td>50.0</td>\n",
       "      <td>20000.0</td>\n",
       "      <td>20000.0</td>\n",
       "      <td>1.0</td>\n",
       "    </tr>\n",
       "    <tr>\n",
       "      <th>398</th>\n",
       "      <td>15755018.0</td>\n",
       "      <td>36.0</td>\n",
       "      <td>33000.0</td>\n",
       "      <td>0.0</td>\n",
       "      <td>0.0</td>\n",
       "      <td>15755018.0</td>\n",
       "      <td>36.0</td>\n",
       "      <td>33000.0</td>\n",
       "      <td>0.0</td>\n",
       "      <td>0.0</td>\n",
       "      <td>567180648.0</td>\n",
       "      <td>5.199156e+11</td>\n",
       "      <td>0.0</td>\n",
       "      <td>0.0</td>\n",
       "      <td>1188000.0</td>\n",
       "      <td>0.0</td>\n",
       "      <td>0.0</td>\n",
       "      <td>0.0</td>\n",
       "      <td>0.0</td>\n",
       "      <td>0.0</td>\n",
       "    </tr>\n",
       "    <tr>\n",
       "      <th>399</th>\n",
       "      <td>15594041.0</td>\n",
       "      <td>49.0</td>\n",
       "      <td>36000.0</td>\n",
       "      <td>1.0</td>\n",
       "      <td>1.0</td>\n",
       "      <td>15594041.0</td>\n",
       "      <td>49.0</td>\n",
       "      <td>36000.0</td>\n",
       "      <td>1.0</td>\n",
       "      <td>1.0</td>\n",
       "      <td>764108009.0</td>\n",
       "      <td>5.613855e+11</td>\n",
       "      <td>15594041.0</td>\n",
       "      <td>15594041.0</td>\n",
       "      <td>1764000.0</td>\n",
       "      <td>49.0</td>\n",
       "      <td>49.0</td>\n",
       "      <td>36000.0</td>\n",
       "      <td>36000.0</td>\n",
       "      <td>1.0</td>\n",
       "    </tr>\n",
       "  </tbody>\n",
       "</table>\n",
       "<p>400 rows × 20 columns</p>\n",
       "</div>"
      ],
      "text/plain": [
       "             0     1        2    3    4           5     6        7    8    9   \\\n",
       "0    15624510.0  19.0  19000.0  0.0  0.0  15624510.0  19.0  19000.0  0.0  0.0   \n",
       "1    15810944.0  35.0  20000.0  0.0  0.0  15810944.0  35.0  20000.0  0.0  0.0   \n",
       "2    15668575.0  26.0  43000.0  0.0  1.0  15668575.0  26.0  43000.0  0.0  1.0   \n",
       "3    15603246.0  27.0  57000.0  0.0  1.0  15603246.0  27.0  57000.0  0.0  1.0   \n",
       "4    15804002.0  19.0  76000.0  0.0  0.0  15804002.0  19.0  76000.0  0.0  0.0   \n",
       "..          ...   ...      ...  ...  ...         ...   ...      ...  ...  ...   \n",
       "395  15691863.0  46.0  41000.0  1.0  1.0  15691863.0  46.0  41000.0  1.0  1.0   \n",
       "396  15706071.0  51.0  23000.0  1.0  0.0  15706071.0  51.0  23000.0  1.0  0.0   \n",
       "397  15654296.0  50.0  20000.0  1.0  1.0  15654296.0  50.0  20000.0  1.0  1.0   \n",
       "398  15755018.0  36.0  33000.0  0.0  0.0  15755018.0  36.0  33000.0  0.0  0.0   \n",
       "399  15594041.0  49.0  36000.0  1.0  1.0  15594041.0  49.0  36000.0  1.0  1.0   \n",
       "\n",
       "              10            11          12          13         14    15    16  \\\n",
       "0    296865690.0  2.968657e+11         0.0         0.0   361000.0   0.0   0.0   \n",
       "1    553383040.0  3.162189e+11         0.0         0.0   700000.0   0.0   0.0   \n",
       "2    407382950.0  6.737487e+11         0.0  15668575.0  1118000.0   0.0  26.0   \n",
       "3    421287642.0  8.893850e+11         0.0  15603246.0  1539000.0   0.0  27.0   \n",
       "4    300276038.0  1.201104e+12         0.0         0.0  1444000.0   0.0   0.0   \n",
       "..           ...           ...         ...         ...        ...   ...   ...   \n",
       "395  721825698.0  6.433664e+11  15691863.0  15691863.0  1886000.0  46.0  46.0   \n",
       "396  801009621.0  3.612396e+11  15706071.0         0.0  1173000.0  51.0   0.0   \n",
       "397  782714800.0  3.130859e+11  15654296.0  15654296.0  1000000.0  50.0  50.0   \n",
       "398  567180648.0  5.199156e+11         0.0         0.0  1188000.0   0.0   0.0   \n",
       "399  764108009.0  5.613855e+11  15594041.0  15594041.0  1764000.0  49.0  49.0   \n",
       "\n",
       "          17       18   19  \n",
       "0        0.0      0.0  0.0  \n",
       "1        0.0      0.0  0.0  \n",
       "2        0.0  43000.0  0.0  \n",
       "3        0.0  57000.0  0.0  \n",
       "4        0.0      0.0  0.0  \n",
       "..       ...      ...  ...  \n",
       "395  41000.0  41000.0  1.0  \n",
       "396  23000.0      0.0  0.0  \n",
       "397  20000.0  20000.0  1.0  \n",
       "398      0.0      0.0  0.0  \n",
       "399  36000.0  36000.0  1.0  \n",
       "\n",
       "[400 rows x 20 columns]"
      ]
     },
     "execution_count": 22,
     "metadata": {},
     "output_type": "execute_result"
    }
   ],
   "source": [
    "#poly = PolynomialFeatures(degree=2, interaction_only=True, include_bias=False)\n",
    "#q2_int = pd.DataFrame(poly.fit_transform(q2))\n",
    "#q2_new = pd.DataFrame(np.hstack((q2, q2_int)))\n",
    "#q2_new\n",
    "\n",
    "#tried to implement interaction using polynomial features, failed miserably"
   ]
  },
  {
   "cell_type": "markdown",
   "id": "118d94e0",
   "metadata": {},
   "source": [
    "MODEL1: LL(PURCHASED) ~ INTERCEPT + GENDER(DUMMY) + SALARY + AGE"
   ]
  },
  {
   "cell_type": "code",
   "execution_count": 63,
   "id": "a0c30140",
   "metadata": {},
   "outputs": [
    {
     "name": "stdout",
     "output_type": "stream",
     "text": [
      "Optimization terminated successfully.\n",
      "         Current function value: 0.344804\n",
      "         Iterations 8\n",
      "                           Logit Regression Results                           \n",
      "==============================================================================\n",
      "Dep. Variable:              Purchased   No. Observations:                  400\n",
      "Model:                          Logit   Df Residuals:                      396\n",
      "Method:                           MLE   Df Model:                            3\n",
      "Date:                Sun, 22 Jan 2023   Pseudo R-squ.:                  0.4711\n",
      "Time:                        21:49:15   Log-Likelihood:                -137.92\n",
      "converged:                       True   LL-Null:                       -260.79\n",
      "Covariance Type:            nonrobust   LLR p-value:                 5.488e-53\n",
      "===================================================================================\n",
      "                      coef    std err          z      P>|z|      [0.025      0.975]\n",
      "-----------------------------------------------------------------------------------\n",
      "const             -12.4498      1.309     -9.510      0.000     -15.016      -9.884\n",
      "Gender             -0.3338      0.305     -1.094      0.274      -0.932       0.264\n",
      "EstimatedSalary  3.644e-05   5.47e-06      6.659      0.000    2.57e-05    4.72e-05\n",
      "Age                 0.2370      0.026      8.984      0.000       0.185       0.289\n",
      "===================================================================================\n"
     ]
    }
   ],
   "source": [
    "\n",
    "\n",
    "#DataFrame1\n",
    "q2_X = q2.loc[:,('Gender','EstimatedSalary','Age')]\n",
    "\n",
    "#Adding intercept term to regressors\n",
    "q2_X = sm.add_constant(q2_X) \n",
    "q2_Y = q2.loc[:,'Purchased'] #taking out the target\n",
    "\n",
    "\n",
    "#LOGIT IT!\n",
    "log_reg_1 = sm.Logit(q2_Y, q2_X).fit()\n",
    "print(log_reg_1.summary())"
   ]
  },
  {
   "cell_type": "markdown",
   "id": "3aada827",
   "metadata": {},
   "source": [
    "MODEL 2 : LL(Purchased) ~ INTERCEPT + GENDER + SALARY + AGE + GENDER:SALARY + GENDER:AGE + SALARY:AGE"
   ]
  },
  {
   "cell_type": "code",
   "execution_count": 49,
   "id": "bd6fdf14",
   "metadata": {},
   "outputs": [],
   "source": [
    "##Hardcoding all the interaction terms\n",
    "Xi = q2_X.copy() \n",
    "Xi['Gender_Salary'] = Xi['Gender']*Xi['EstimatedSalary']  \n",
    "Xi['Gender_Age'] = Xi['Gender']*Xi['Age']\n",
    "Xi['Salary_Age'] = Xi['EstimatedSalary']*Xi['Age']"
   ]
  },
  {
   "cell_type": "code",
   "execution_count": 48,
   "id": "517126c9",
   "metadata": {},
   "outputs": [
    {
     "name": "stdout",
     "output_type": "stream",
     "text": [
      "Optimization terminated successfully.\n",
      "         Current function value: 0.262888\n",
      "         Iterations 9\n",
      "                           Logit Regression Results                           \n",
      "==============================================================================\n",
      "Dep. Variable:              Purchased   No. Observations:                  400\n",
      "Model:                          Logit   Df Residuals:                      393\n",
      "Method:                           MLE   Df Model:                            6\n",
      "Date:                Sun, 22 Jan 2023   Pseudo R-squ.:                  0.5968\n",
      "Time:                        21:33:15   Log-Likelihood:                -105.16\n",
      "converged:                       True   LL-Null:                       -260.79\n",
      "Covariance Type:            nonrobust   LLR p-value:                 3.155e-64\n",
      "===================================================================================\n",
      "                      coef    std err          z      P>|z|      [0.025      0.975]\n",
      "-----------------------------------------------------------------------------------\n",
      "const             -37.6404      4.771     -7.890      0.000     -46.991     -28.290\n",
      "Gender              0.6031      2.572      0.234      0.815      -4.438       5.644\n",
      "EstimatedSalary     0.0003   4.47e-05      6.969      0.000       0.000       0.000\n",
      "Age                 0.8139      0.106      7.709      0.000       0.607       1.021\n",
      "Gender_Salary   -1.443e-06   1.08e-05     -0.134      0.894   -2.26e-05    1.97e-05\n",
      "Gender_Age         -0.0264      0.054     -0.488      0.625      -0.132       0.080\n",
      "Salary_Age      -6.337e-06   9.62e-07     -6.585      0.000   -8.22e-06   -4.45e-06\n",
      "===================================================================================\n",
      "\n",
      "Possibly complete quasi-separation: A fraction 0.11 of observations can be\n",
      "perfectly predicted. This might indicate that there is complete\n",
      "quasi-separation. In this case some parameters will not be identified.\n"
     ]
    }
   ],
   "source": [
    "#Fitting that logit model\n",
    "log_reg_2 = sm.Logit(q2_Y, Xi).fit()\n",
    "\n",
    "#LOGIT IT!\n",
    "print(log_reg_2.summary())"
   ]
  },
  {
   "cell_type": "markdown",
   "id": "70dad1d7",
   "metadata": {},
   "source": [
    "There is significant increase in Psuedo R-squared value, R-squared values out of sample will not provide us any inferences. With the addition of interaction terms there is a 12% increase in R-squared"
   ]
  },
  {
   "cell_type": "markdown",
   "id": "893170f5",
   "metadata": {},
   "source": [
    "TRIM MODEL 1 - LL(PURCHASED) ~ SALARY"
   ]
  },
  {
   "cell_type": "code",
   "execution_count": 53,
   "id": "573dafdc",
   "metadata": {
    "scrolled": false
   },
   "outputs": [
    {
     "name": "stdout",
     "output_type": "stream",
     "text": [
      "Optimization terminated successfully.\n",
      "         Current function value: 0.687740\n",
      "         Iterations 3\n",
      "                           Logit Regression Results                           \n",
      "==============================================================================\n",
      "Dep. Variable:              Purchased   No. Observations:                  400\n",
      "Model:                          Logit   Df Residuals:                      399\n",
      "Method:                           MLE   Df Model:                            0\n",
      "Date:                Sun, 22 Jan 2023   Pseudo R-squ.:                -0.05487\n",
      "Time:                        21:34:51   Log-Likelihood:                -275.10\n",
      "converged:                       True   LL-Null:                       -260.79\n",
      "Covariance Type:            nonrobust   LLR p-value:                       nan\n",
      "===================================================================================\n",
      "                      coef    std err          z      P>|z|      [0.025      0.975]\n",
      "-----------------------------------------------------------------------------------\n",
      "EstimatedSalary -2.693e-06    1.3e-06     -2.069      0.038   -5.24e-06   -1.43e-07\n",
      "===================================================================================\n"
     ]
    }
   ],
   "source": [
    "q2_X1 = q2.loc[:,('EstimatedSalary')] #DataFrame customer_X1\n",
    "\n",
    "# Fit the logistic regression model\n",
    "log_reg_T1 = sm.Logit(q2_Y, q2_X1).fit()\n",
    "\n",
    "# Print the summary of the model\n",
    "print(log_reg_T1.summary())"
   ]
  },
  {
   "cell_type": "markdown",
   "id": "2109d0bd",
   "metadata": {},
   "source": [
    "TRIM MODEL 2 - LL(PURCHASED) ~ INTERCEPT + SALARY"
   ]
  },
  {
   "cell_type": "code",
   "execution_count": 36,
   "id": "f8b968be",
   "metadata": {
    "scrolled": true
   },
   "outputs": [
    {
     "name": "stdout",
     "output_type": "stream",
     "text": [
      "Optimization terminated successfully.\n",
      "         Current function value: 0.584658\n",
      "         Iterations 5\n",
      "                           Logit Regression Results                           \n",
      "==============================================================================\n",
      "Dep. Variable:              Purchased   No. Observations:                  400\n",
      "Model:                          Logit   Df Residuals:                      398\n",
      "Method:                           MLE   Df Model:                            1\n",
      "Date:                Sun, 22 Jan 2023   Pseudo R-squ.:                  0.1032\n",
      "Time:                        21:01:03   Log-Likelihood:                -233.86\n",
      "converged:                       True   LL-Null:                       -260.79\n",
      "Covariance Type:            nonrobust   LLR p-value:                 2.168e-13\n",
      "===================================================================================\n",
      "                      coef    std err          z      P>|z|      [0.025      0.975]\n",
      "-----------------------------------------------------------------------------------\n",
      "const              -2.3227      0.286     -8.134      0.000      -2.882      -1.763\n",
      "EstimatedSalary  2.387e-05   3.52e-06      6.790      0.000     1.7e-05    3.08e-05\n",
      "===================================================================================\n"
     ]
    }
   ],
   "source": [
    "q2_X2 = sm.add_constant(q2_X1)\n",
    "\n",
    "#Fitting and Printing\n",
    "log_reg_T2 = sm.Logit(q2_Y, q2_X2).fit()\n",
    "print(log_reg_T2.summary())"
   ]
  },
  {
   "cell_type": "markdown",
   "id": "ab2214f3",
   "metadata": {},
   "source": [
    "TRIM MODEL 3 - LL(PURCHASED) ~ AGE"
   ]
  },
  {
   "cell_type": "code",
   "execution_count": 37,
   "id": "381c1124",
   "metadata": {},
   "outputs": [
    {
     "name": "stdout",
     "output_type": "stream",
     "text": [
      "Optimization terminated successfully.\n",
      "         Current function value: 0.686544\n",
      "         Iterations 3\n",
      "                           Logit Regression Results                           \n",
      "==============================================================================\n",
      "Dep. Variable:              Purchased   No. Observations:                  400\n",
      "Model:                          Logit   Df Residuals:                      399\n",
      "Method:                           MLE   Df Model:                            0\n",
      "Date:                Sun, 22 Jan 2023   Pseudo R-squ.:                -0.05304\n",
      "Time:                        21:01:42   Log-Likelihood:                -274.62\n",
      "converged:                       True   LL-Null:                       -260.79\n",
      "Covariance Type:            nonrobust   LLR p-value:                       nan\n",
      "==============================================================================\n",
      "                 coef    std err          z      P>|z|      [0.025      0.975]\n",
      "------------------------------------------------------------------------------\n",
      "Age           -0.0059      0.003     -2.289      0.022      -0.011      -0.001\n",
      "==============================================================================\n"
     ]
    }
   ],
   "source": [
    "q2_X3 = q2.loc[:,('Age')]\n",
    "\n",
    "\n",
    "#Fitting and Printing\n",
    "log_reg_T3 = sm.Logit(q2_Y, q2_X3).fit()\n",
    "print(log_reg_T3.summary())"
   ]
  },
  {
   "cell_type": "markdown",
   "id": "76f6f98d",
   "metadata": {},
   "source": [
    "TRIM MODEL 4 - LL(PURCHASED) ~ INTERCEPT + AGE"
   ]
  },
  {
   "cell_type": "code",
   "execution_count": 54,
   "id": "39f5ea4d",
   "metadata": {},
   "outputs": [
    {
     "name": "stdout",
     "output_type": "stream",
     "text": [
      "Optimization terminated successfully.\n",
      "         Current function value: 0.420327\n",
      "         Iterations 7\n",
      "                           Logit Regression Results                           \n",
      "==============================================================================\n",
      "Dep. Variable:              Purchased   No. Observations:                  400\n",
      "Model:                          Logit   Df Residuals:                      398\n",
      "Method:                           MLE   Df Model:                            1\n",
      "Date:                Sun, 22 Jan 2023   Pseudo R-squ.:                  0.3553\n",
      "Time:                        21:37:56   Log-Likelihood:                -168.13\n",
      "converged:                       True   LL-Null:                       -260.79\n",
      "Covariance Type:            nonrobust   LLR p-value:                 3.356e-42\n",
      "==============================================================================\n",
      "                 coef    std err          z      P>|z|      [0.025      0.975]\n",
      "------------------------------------------------------------------------------\n",
      "const         -8.0441      0.784    -10.258      0.000      -9.581      -6.507\n",
      "Age            0.1889      0.019      9.866      0.000       0.151       0.226\n",
      "==============================================================================\n"
     ]
    }
   ],
   "source": [
    "q2_X4 = sm.add_constant(q2_X3)\n",
    "\n",
    "\n",
    "# Fitting and Printing\n",
    "log_reg_T4 = sm.Logit(q2_Y, q2_X4).fit()\n",
    "print(log_reg_T4.summary())"
   ]
  },
  {
   "cell_type": "markdown",
   "id": "0810691f",
   "metadata": {},
   "source": [
    "TRIM MODEL 5 - LL(PURCHASED) ~ SALARY + AGE"
   ]
  },
  {
   "cell_type": "code",
   "execution_count": 57,
   "id": "e874d6df",
   "metadata": {
    "scrolled": true
   },
   "outputs": [
    {
     "name": "stdout",
     "output_type": "stream",
     "text": [
      "Optimization terminated successfully.\n",
      "         Current function value: 0.686532\n",
      "         Iterations 3\n",
      "                           Logit Regression Results                           \n",
      "==============================================================================\n",
      "Dep. Variable:              Purchased   No. Observations:                  400\n",
      "Model:                          Logit   Df Residuals:                      398\n",
      "Method:                           MLE   Df Model:                            1\n",
      "Date:                Sun, 22 Jan 2023   Pseudo R-squ.:                -0.05302\n",
      "Time:                        21:40:43   Log-Likelihood:                -274.61\n",
      "converged:                       True   LL-Null:                       -260.79\n",
      "Covariance Type:            nonrobust   LLR p-value:                     1.000\n",
      "===================================================================================\n",
      "                      coef    std err          z      P>|z|      [0.025      0.975]\n",
      "-----------------------------------------------------------------------------------\n",
      "EstimatedSalary -2.782e-07   2.78e-06     -0.100      0.920   -5.72e-06    5.16e-06\n",
      "Age                -0.0054      0.006     -0.982      0.326      -0.016       0.005\n",
      "===================================================================================\n"
     ]
    }
   ],
   "source": [
    "q2_X5 = q2.loc[:,('EstimatedSalary','Age')]\n",
    "\n",
    "log_reg_T5 = sm.Logit(q2_Y, q2_X5).fit()\n",
    "print(log_reg_T5.summary())"
   ]
  },
  {
   "cell_type": "markdown",
   "id": "bd3ec580",
   "metadata": {},
   "source": [
    "TRIM MODEL 6 - LL(PURCHASED) ~ INTERCEPT + SALARY + AGE"
   ]
  },
  {
   "cell_type": "code",
   "execution_count": 59,
   "id": "cddf9e9b",
   "metadata": {
    "scrolled": true
   },
   "outputs": [
    {
     "name": "stdout",
     "output_type": "stream",
     "text": [
      "Optimization terminated successfully.\n",
      "         Current function value: 0.346314\n",
      "         Iterations 8\n",
      "                           Logit Regression Results                           \n",
      "==============================================================================\n",
      "Dep. Variable:              Purchased   No. Observations:                  400\n",
      "Model:                          Logit   Df Residuals:                      397\n",
      "Method:                           MLE   Df Model:                            2\n",
      "Date:                Sun, 22 Jan 2023   Pseudo R-squ.:                  0.4688\n",
      "Time:                        21:45:28   Log-Likelihood:                -138.53\n",
      "converged:                       True   LL-Null:                       -260.79\n",
      "Covariance Type:            nonrobust   LLR p-value:                 7.995e-54\n",
      "===================================================================================\n",
      "                      coef    std err          z      P>|z|      [0.025      0.975]\n",
      "-----------------------------------------------------------------------------------\n",
      "const             -12.4340      1.300     -9.566      0.000     -14.982      -9.886\n",
      "EstimatedSalary   3.59e-05   5.43e-06      6.613      0.000    2.53e-05    4.65e-05\n",
      "Age                 0.2335      0.026      9.013      0.000       0.183       0.284\n",
      "===================================================================================\n"
     ]
    }
   ],
   "source": [
    "q2_X6 = sm.add_constant(q2_X5)\n",
    "\n",
    "log_reg_T6 = sm.Logit(q2_Y, q2_X6).fit()\n",
    "print(log_reg_T6.summary())"
   ]
  },
  {
   "cell_type": "markdown",
   "id": "37e58a1a",
   "metadata": {},
   "source": [
    "TRIM MODEL 7 - LL(PURCHASED) ~ SALARY + AGE + AGE:SALARY"
   ]
  },
  {
   "cell_type": "code",
   "execution_count": 62,
   "id": "8cf6037a",
   "metadata": {
    "scrolled": false
   },
   "outputs": [
    {
     "name": "stdout",
     "output_type": "stream",
     "text": [
      "Optimization terminated successfully.\n",
      "         Current function value: 0.266962\n",
      "         Iterations 9\n",
      "                           Logit Regression Results                           \n",
      "==============================================================================\n",
      "Dep. Variable:              Purchased   No. Observations:                  400\n",
      "Model:                          Logit   Df Residuals:                      396\n",
      "Method:                           MLE   Df Model:                            3\n",
      "Date:                Sun, 22 Jan 2023   Pseudo R-squ.:                  0.5905\n",
      "Time:                        21:48:50   Log-Likelihood:                -106.78\n",
      "converged:                       True   LL-Null:                       -260.79\n",
      "Covariance Type:            nonrobust   LLR p-value:                 1.843e-66\n",
      "===================================================================================\n",
      "                      coef    std err          z      P>|z|      [0.025      0.975]\n",
      "-----------------------------------------------------------------------------------\n",
      "const             -36.1099      4.419     -8.172      0.000     -44.770     -27.449\n",
      "EstimatedSalary     0.0003   4.23e-05      7.098      0.000       0.000       0.000\n",
      "Age                 0.7750      0.098      7.933      0.000       0.584       0.967\n",
      "Age_ESalary     -6.146e-06   9.21e-07     -6.670      0.000   -7.95e-06   -4.34e-06\n",
      "===================================================================================\n",
      "\n",
      "Possibly complete quasi-separation: A fraction 0.11 of observations can be\n",
      "perfectly predicted. This might indicate that there is complete\n",
      "quasi-separation. In this case some parameters will not be identified.\n"
     ]
    }
   ],
   "source": [
    "q2_X6i = q2_X6.copy()\n",
    "\n",
    "q2_X6i['Age_ESalary'] = q2_X6i['EstimatedSalary']*q2_X6i['Age']\n",
    "\n",
    "# Fit the logistic regression model\n",
    "log_reg_T7 = sm.Logit(q2_Y, q2_X6i).fit()\n",
    "\n",
    "# Print the summary of the model\n",
    "print(log_reg_T7.summary())"
   ]
  },
  {
   "cell_type": "markdown",
   "id": "7e0cdad5",
   "metadata": {},
   "source": [
    "Model 2 has the highest R-squared value of 0.59, therefore the suggestion would be to use this model for any logistic regression"
   ]
  },
  {
   "cell_type": "code",
   "execution_count": 65,
   "id": "c1a55cce",
   "metadata": {
    "scrolled": true
   },
   "outputs": [
    {
     "name": "stdout",
     "output_type": "stream",
     "text": [
      "                           Logit Regression Results                           \n",
      "==============================================================================\n",
      "Dep. Variable:              Purchased   No. Observations:                  400\n",
      "Model:                          Logit   Df Residuals:                      393\n",
      "Method:                           MLE   Df Model:                            6\n",
      "Date:                Sun, 22 Jan 2023   Pseudo R-squ.:                  0.5968\n",
      "Time:                        21:49:41   Log-Likelihood:                -105.16\n",
      "converged:                       True   LL-Null:                       -260.79\n",
      "Covariance Type:            nonrobust   LLR p-value:                 3.155e-64\n",
      "===================================================================================\n",
      "                      coef    std err          z      P>|z|      [0.025      0.975]\n",
      "-----------------------------------------------------------------------------------\n",
      "const             -37.6404      4.771     -7.890      0.000     -46.991     -28.290\n",
      "Gender              0.6031      2.572      0.234      0.815      -4.438       5.644\n",
      "EstimatedSalary     0.0003   4.47e-05      6.969      0.000       0.000       0.000\n",
      "Age                 0.8139      0.106      7.709      0.000       0.607       1.021\n",
      "Gender_Salary   -1.443e-06   1.08e-05     -0.134      0.894   -2.26e-05    1.97e-05\n",
      "Gender_Age         -0.0264      0.054     -0.488      0.625      -0.132       0.080\n",
      "Salary_Age      -6.337e-06   9.62e-07     -6.585      0.000   -8.22e-06   -4.45e-06\n",
      "===================================================================================\n",
      "\n",
      "Possibly complete quasi-separation: A fraction 0.11 of observations can be\n",
      "perfectly predicted. This might indicate that there is complete\n",
      "quasi-separation. In this case some parameters will not be identified.\n"
     ]
    }
   ],
   "source": [
    "print(log_reg_2.summary())"
   ]
  },
  {
   "cell_type": "code",
   "execution_count": 66,
   "id": "cd9518dc",
   "metadata": {},
   "outputs": [
    {
     "name": "stdout",
     "output_type": "stream",
     "text": [
      "              precision    recall  f1-score   support\n",
      "\n",
      "           0       0.91      0.91      0.91       257\n",
      "           1       0.83      0.85      0.84       143\n",
      "\n",
      "    accuracy                           0.89       400\n",
      "   macro avg       0.87      0.88      0.88       400\n",
      "weighted avg       0.89      0.89      0.89       400\n",
      "\n"
     ]
    }
   ],
   "source": [
    "# Make predictions using the logistic regression model\n",
    "y_pred = log_reg_2.predict(Xi)\n",
    "\n",
    "# Convert the predicted probabilities to binary labels\n",
    "y_pred = [1 if p > 0.5 else 0 for p in y_pred]\n",
    "\n",
    "# Generate the classification report\n",
    "report = classification_report(q2_Y, y_pred)\n",
    "print(report)"
   ]
  },
  {
   "cell_type": "markdown",
   "id": "d82c0bd2",
   "metadata": {},
   "source": [
    "Q3. For the Logistic Regression models trained above, pick the best model wrt to the in-sample R2 and give your interpretation of the model’s coefficients (For example, what effect does a positive or negative coefficient have on the model and so on)."
   ]
  },
  {
   "cell_type": "markdown",
   "id": "c7a1caef",
   "metadata": {},
   "source": [
    "\n",
    "The constant coefficient is the value of the log-odds when all predictor variables are equal to zero, this term is also the garbage collector of the equation.\n",
    "\n",
    "The Gender coefficient is the change in log-odds of the outcome variable for a one unit increase in Gender, holding all other predictor variables constant. The p-value is greater than 0.05, this variable is not statistically significant. \n",
    "\n",
    "The EstimatedSalary coefficient is the change in log-odds of the outcome variable for a one unit increase in EstimatedSalary, holding all other predictor variables constant. The p-value is less than 0.05, it's statistically significant.\n",
    "\n",
    "The Age coefficient is the change in log-odds of the outcome variable for a one unit increase in Age, holding all other predictor variables constant. The p-value is less than 0.05, it's statistically significant in predicting the outcome.\n",
    "\n",
    "The Gender_Salary & Gender_Age coefficients are very small and statistically insignificant\n",
    "\n",
    "The Salary_Age coefficient is the change in log-odds of the outcome variable for one unit increase in the interaction term between Salary and Age, holding all other predictor variables constant. The p-value is less than 0.05, which suggests that this variable is statistically significant in predicting the outcome.\n",
    "\n",
    "59.68% of the variance in the outcome variable is explained by the predictor variables."
   ]
  },
  {
   "cell_type": "markdown",
   "id": "9b9e140b",
   "metadata": {},
   "source": [
    "Q4. Is accuracy a good metric to judge the above model? Give reasons and alternatives to support your answer."
   ]
  },
  {
   "cell_type": "markdown",
   "id": "f95b1f3a",
   "metadata": {},
   "source": [
    "Accuracy is a commonly used metric to evaluate the performance of a classification model, but it may not always be the best metric to evaluate the performance of a logistic regression model, particularly when the class distribution is imbalanced.\n",
    "\n",
    "F1 score, is a better metric, it takes all the other values in the classification matrix into consideration anmd provides a score for efficacy of the model. This is slightly better than using accuracy to justify if a model is good or bad. Sometimes, the threshold also may not be set at the optimum level and for this we use a method called threshold moving on the ROC curve.\n",
    "\n",
    "Another problem, my practicum team currently faces is the highly imbalanced data set, when the model learns from an imbalanced data set, it's prediction accuracy may be good, but it might not prove to be a very potent model. We want a wide range of data for the model to train on. Sometimes we can use methods like SMOTE to solve for the imbalance, but it's creating synthetic points and not really adding too much value. "
   ]
  },
  {
   "cell_type": "markdown",
   "id": "8e9cc648",
   "metadata": {},
   "source": [
    "Q5. Plot the interactions of the ‘Age’ and ‘Gender’ features with the ‘Purchased’ output. "
   ]
  },
  {
   "cell_type": "code",
   "execution_count": 67,
   "id": "592812f7",
   "metadata": {},
   "outputs": [
    {
     "data": {
      "image/png": "[encoded data removed]",
      "text/plain": [
       "<Figure size 640x480 with 1 Axes>"
      ]
     },
     "execution_count": 67,
     "metadata": {},
     "output_type": "execute_result"
    },
    {
     "data": {
      "image/png": "[encoded data removed]",
      "text/plain": [
       "<Figure size 640x480 with 1 Axes>"
      ]
     },
     "metadata": {},
     "output_type": "display_data"
    }
   ],
   "source": [
    "purchased_pred = log_reg_2.predict(Xi)\n",
    "\n",
    "##using the statsmodel interaction plot\n",
    "interaction_plot(q2.Age, q2.Gender, purchased_pred,\n",
    "                 xlabel='Age', ylabel='Likelihood of purchasing',\n",
    "                 colors=['red', 'blue'], markers=['D', '^'], ms=10)\n",
    "##we also used the ROC curve and a threshold moving method to identify optimum threshold in my practicum project, it would be a little out of scope for this assignment\n",
    "\n"
   ]
  },
  {
   "cell_type": "markdown",
   "id": "c1653e00",
   "metadata": {},
   "source": [
    "Q6. The following plots show effect of Income and Change in savings on Likelihood of buying a house. Observe the three plots (a, b, c) shown and answer the following questions for each plot:\n",
    "Should the regression equation include the interaction terms (interaction between Income and Average Savings) or not?\n",
    "Give your reasoning as to why or why shouldn’t they be included."
   ]
  },
  {
   "cell_type": "markdown",
   "id": "3bf4f61b",
   "metadata": {},
   "source": [
    "Plot (a) shows the relationship between Income and the likelihood of buying a house, with the average savings held constant. Plot (b) shows the relationship between the change in savings and the likelihood of buying a house, with income held constant. Plot (c) shows the relationship between income, the change in savings and the likelihood of buying a house, with the interaction term between income and the change in savings.\n",
    "\n",
    "Plot (a) shows the relationship between savings and purchase likelihood with income held constant. \n",
    "Plot (b) shows the relationship between change in savings and purchase likelihood with income held constant\n",
    "Plot (c) shows the relationship between income, change in savings and purchase likelihood with interaction term between income and change in savings\n",
    "\n",
    "The plots (b) & (c) make a strong case to include interaction term between Income and Change in savings.\n",
    "\n",
    "\n",
    "In plot (a), it can be observed that as income increases, the likelihood of buying a house also increases, but the effect of income on the likelihood of buying a house seems to be different for different values of the change in savings. It would not be good to add the Income:Savings interaction term as it seems like a step function at best.\n",
    "\n",
    "In plot (b), it can be observed that as the change in savings increases, the likelihood of buying a house also increases, but the effect of change in savings on the likelihood of buying a house seems to be different for different values of income. There is a clear indication of an interaction effect in this case. We should consider including the Savings:Income interaction term.\n",
    "\n",
    "In plot (c) it can be observed that the effect of income and change in savings on the likelihood of buying a house are not independent of each other. The effect of income and change in savings on the likelihood of buying a house seem to be dependent on each other, this suggests that there is a interaction effect between Income and change in savings on the likelihood of buying a house.We should include the interaction term in this case as there is sufficient indication.\n",
    "\n",
    "Therefore, including the interaction term in the regression equation would capture the non-linear relationship between Income, change in savings and the likelihood of buying a house, and would lead to a more accurate model."
   ]
  },
  {
   "cell_type": "code",
   "execution_count": null,
   "id": "044dfe07",
   "metadata": {},
   "outputs": [],
   "source": []
  }
 ],
 "metadata": {
  "kernelspec": {
   "display_name": "Python 3 (ipykernel)",
   "language": "python",
   "name": "python3"
  },
  "language_info": {
   "codemirror_mode": {
    "name": "ipython",
    "version": 3
   },
   "file_extension": ".py",
   "mimetype": "text/x-python",
   "name": "python",
   "nbconvert_exporter": "python",
   "pygments_lexer": "ipython3",
   "version": "3.9.13"
  }
 },
 "nbformat": 4,
 "nbformat_minor": 5
}
